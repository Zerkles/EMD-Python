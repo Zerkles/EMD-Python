{
 "cells": [
  {
   "cell_type": "markdown",
   "metadata": {},
   "source": [
    "# WstA_p do eksploracji danych w Pythonie\n",
    "\n",
    "Ten notatnik pomoLze Ci zapoznaA_ siA_ z postawowymi elementami eksploracji danych w Pythonie. Po uzupeL_nieniu tego notatnika powinieneL_:\n",
    "\n",
    "+ znaA_ nazwy podstawowych bibliotek do eksploracji i wizualizacji danych,\n",
    "+ umieA_ wczytaA_ zbiAlr danych,\n",
    "+ wiedzieA_ jak wykonaA_ podstawowe operacje na data frame'ie\n",
    "+ umieA_ nauczyA_ i przetestowaA_ klasyfikator\n",
    "+ wiedzieA_ jak wykonaA_ prosty wykres"
   ]
  },
  {
   "cell_type": "markdown",
   "metadata": {},
   "source": [
    "## Biblioteki\n",
    "\n",
    "OprAlcz podstawowych elementAlw jA_zyka, do eksploracji danych wykorzystamy klika bibliotek. Podstawowe biblioteki, ktAlre bA_dA_ nam potrzebne to: `matplotlib`, `pandas`, `numpy` i `sklearn`. CzA_L_A_ z potrzebnych moduL_Alw zaL_adowaL_em juLz poniLzej: "
   ]
  },
  {
   "cell_type": "code",
   "execution_count": 1,
   "metadata": {
    "collapsed": true,
    "jupyter": {
     "outputs_hidden": true
    }
   },
   "outputs": [],
   "source": [
    "from sklearn.model_selection import train_test_split\n",
    "from sklearn.model_selection import GridSearchCV\n",
    "from sklearn.metrics import classification_report, auc, roc_auc_score"
   ]
  },
  {
   "cell_type": "markdown",
   "metadata": {},
   "source": [
    "**Zad. 3: ZaL_aduj jeszcze dwie biblioteki: pandas z aliasem pd i numpy z aliasem np.**"
   ]
  },
  {
   "cell_type": "code",
   "execution_count": 2,
   "metadata": {
    "collapsed": true,
    "jupyter": {
     "outputs_hidden": true
    }
   },
   "outputs": [],
   "source": [
    "import numpy as np\n",
    "import pandas as pd"
   ]
  },
  {
   "cell_type": "markdown",
   "metadata": {},
   "source": [
    "## Pandas\n",
    "\n",
    "NajwyLzszy czas wczytaA_ jakiL_ zbiAlr danych. W tym celu wykorzystamy bibliotekA_, ktAlrA_ wL_aL_nie zaimportowaL_eL_: pandas. Upewnij siA_, Lze L_ciagniA_ty zbiAlr danych znajduje siA_ w tym samym folderze co notatnik i podA_Lzaj za komentarzami.\n",
    "\n",
    "**Zad. 4: Wczytaj zbiAlr titanic do zmiennej `df`.**"
   ]
  },
  {
   "cell_type": "code",
   "execution_count": 3,
   "metadata": {},
   "outputs": [],
   "source": [
    "# skorzystaj z metody read_csv w module pandas\n",
    "# poniewaLz nadalismy temu moduL_owi alias, musisz wywoL_aA_\n",
    "# pd.read_csv()\n",
    "# wyszukaj w Internecie jakie parametry przyjmuje ta funkcja\n",
    "# wynik wywoL_ania przypisz do zmiennej df\n",
    "\n",
    "# df = pd.read_csv(\"titanic_data.csv\", sep=',', index_col=0)\n",
    "df = pd.read_csv(\"titanic_data.csv\", sep=',')"
   ]
  },
  {
   "cell_type": "markdown",
   "metadata": {},
   "source": [
    "JeL_li wszystko poszL_o dobrze, to zobaczmy jak wyglA_da pierwsze 10 wierszy zbioru (funkcjA_ o takiej samej nazwie znasz z R).\n",
    "\n",
    "**Zad. 5: WyL_wietl pierwsze 10 wierszy zbioru.**"
   ]
  },
  {
   "cell_type": "code",
   "execution_count": 4,
   "metadata": {},
   "outputs": [
    {
     "data": {
      "text/plain": "   PassengerId  Survived  Pclass  \\\n0            1         0       3   \n1            2         1       1   \n2            3         1       3   \n3            4         1       1   \n4            5         0       3   \n5            6         0       3   \n6            7         0       1   \n7            8         0       3   \n8            9         1       3   \n9           10         1       2   \n\n                                                Name     Sex   Age  SibSp  \\\n0                            Braund, Mr. Owen Harris    male  22.0      1   \n1  Cumings, Mrs. John Bradley (Florence Briggs Th...  female  38.0      1   \n2                             Heikkinen, Miss. Laina  female  26.0      0   \n3       Futrelle, Mrs. Jacques Heath (Lily May Peel)  female  35.0      1   \n4                           Allen, Mr. William Henry    male  35.0      0   \n5                                   Moran, Mr. James    male   NaN      0   \n6                            McCarthy, Mr. Timothy J    male  54.0      0   \n7                     Palsson, Master. Gosta Leonard    male   2.0      3   \n8  Johnson, Mrs. Oscar W (Elisabeth Vilhelmina Berg)  female  27.0      0   \n9                Nasser, Mrs. Nicholas (Adele Achem)  female  14.0      1   \n\n   Parch            Ticket     Fare Cabin Embarked  \n0      0         A/5 21171   7.2500   NaN        S  \n1      0          PC 17599  71.2833   C85        C  \n2      0  STON/O2. 3101282   7.9250   NaN        S  \n3      0            113803  53.1000  C123        S  \n4      0            373450   8.0500   NaN        S  \n5      0            330877   8.4583   NaN        Q  \n6      0             17463  51.8625   E46        S  \n7      1            349909  21.0750   NaN        S  \n8      2            347742  11.1333   NaN        S  \n9      0            237736  30.0708   NaN        C  ",
      "text/html": "<div>\n<style scoped>\n    .dataframe tbody tr th:only-of-type {\n        vertical-align: middle;\n    }\n\n    .dataframe tbody tr th {\n        vertical-align: top;\n    }\n\n    .dataframe thead th {\n        text-align: right;\n    }\n</style>\n<table border=\"1\" class=\"dataframe\">\n  <thead>\n    <tr style=\"text-align: right;\">\n      <th></th>\n      <th>PassengerId</th>\n      <th>Survived</th>\n      <th>Pclass</th>\n      <th>Name</th>\n      <th>Sex</th>\n      <th>Age</th>\n      <th>SibSp</th>\n      <th>Parch</th>\n      <th>Ticket</th>\n      <th>Fare</th>\n      <th>Cabin</th>\n      <th>Embarked</th>\n    </tr>\n  </thead>\n  <tbody>\n    <tr>\n      <th>0</th>\n      <td>1</td>\n      <td>0</td>\n      <td>3</td>\n      <td>Braund, Mr. Owen Harris</td>\n      <td>male</td>\n      <td>22.0</td>\n      <td>1</td>\n      <td>0</td>\n      <td>A/5 21171</td>\n      <td>7.2500</td>\n      <td>NaN</td>\n      <td>S</td>\n    </tr>\n    <tr>\n      <th>1</th>\n      <td>2</td>\n      <td>1</td>\n      <td>1</td>\n      <td>Cumings, Mrs. John Bradley (Florence Briggs Th...</td>\n      <td>female</td>\n      <td>38.0</td>\n      <td>1</td>\n      <td>0</td>\n      <td>PC 17599</td>\n      <td>71.2833</td>\n      <td>C85</td>\n      <td>C</td>\n    </tr>\n    <tr>\n      <th>2</th>\n      <td>3</td>\n      <td>1</td>\n      <td>3</td>\n      <td>Heikkinen, Miss. Laina</td>\n      <td>female</td>\n      <td>26.0</td>\n      <td>0</td>\n      <td>0</td>\n      <td>STON/O2. 3101282</td>\n      <td>7.9250</td>\n      <td>NaN</td>\n      <td>S</td>\n    </tr>\n    <tr>\n      <th>3</th>\n      <td>4</td>\n      <td>1</td>\n      <td>1</td>\n      <td>Futrelle, Mrs. Jacques Heath (Lily May Peel)</td>\n      <td>female</td>\n      <td>35.0</td>\n      <td>1</td>\n      <td>0</td>\n      <td>113803</td>\n      <td>53.1000</td>\n      <td>C123</td>\n      <td>S</td>\n    </tr>\n    <tr>\n      <th>4</th>\n      <td>5</td>\n      <td>0</td>\n      <td>3</td>\n      <td>Allen, Mr. William Henry</td>\n      <td>male</td>\n      <td>35.0</td>\n      <td>0</td>\n      <td>0</td>\n      <td>373450</td>\n      <td>8.0500</td>\n      <td>NaN</td>\n      <td>S</td>\n    </tr>\n    <tr>\n      <th>5</th>\n      <td>6</td>\n      <td>0</td>\n      <td>3</td>\n      <td>Moran, Mr. James</td>\n      <td>male</td>\n      <td>NaN</td>\n      <td>0</td>\n      <td>0</td>\n      <td>330877</td>\n      <td>8.4583</td>\n      <td>NaN</td>\n      <td>Q</td>\n    </tr>\n    <tr>\n      <th>6</th>\n      <td>7</td>\n      <td>0</td>\n      <td>1</td>\n      <td>McCarthy, Mr. Timothy J</td>\n      <td>male</td>\n      <td>54.0</td>\n      <td>0</td>\n      <td>0</td>\n      <td>17463</td>\n      <td>51.8625</td>\n      <td>E46</td>\n      <td>S</td>\n    </tr>\n    <tr>\n      <th>7</th>\n      <td>8</td>\n      <td>0</td>\n      <td>3</td>\n      <td>Palsson, Master. Gosta Leonard</td>\n      <td>male</td>\n      <td>2.0</td>\n      <td>3</td>\n      <td>1</td>\n      <td>349909</td>\n      <td>21.0750</td>\n      <td>NaN</td>\n      <td>S</td>\n    </tr>\n    <tr>\n      <th>8</th>\n      <td>9</td>\n      <td>1</td>\n      <td>3</td>\n      <td>Johnson, Mrs. Oscar W (Elisabeth Vilhelmina Berg)</td>\n      <td>female</td>\n      <td>27.0</td>\n      <td>0</td>\n      <td>2</td>\n      <td>347742</td>\n      <td>11.1333</td>\n      <td>NaN</td>\n      <td>S</td>\n    </tr>\n    <tr>\n      <th>9</th>\n      <td>10</td>\n      <td>1</td>\n      <td>2</td>\n      <td>Nasser, Mrs. Nicholas (Adele Achem)</td>\n      <td>female</td>\n      <td>14.0</td>\n      <td>1</td>\n      <td>0</td>\n      <td>237736</td>\n      <td>30.0708</td>\n      <td>NaN</td>\n      <td>C</td>\n    </tr>\n  </tbody>\n</table>\n</div>"
     },
     "execution_count": 4,
     "metadata": {},
     "output_type": "execute_result"
    }
   ],
   "source": [
    "df.head(10)"
   ]
  },
  {
   "cell_type": "markdown",
   "metadata": {},
   "source": [
    "Teraz zrobimy coL_ trochA_ trudniejszego - odfiltrujemy wybrane kolumny. Warto zajrzeA_ na http://pandas.pydata.org/pandas-docs/stable/10min.html, Lzeby zapoznaA_ siA_ z podstawowymi operacjami w pandas.\n",
    "\n",
    "**Zad. 6: UsuL_ kolumny PassengerId, Name, Ticket, Cabin. Wynik przypisz do zmiennej `df_filtered`. WyL_wietl pierwsze 10 wierszy, Lzeby upewniA_ siA_ Lze operacja siA_ udaL_a.**"
   ]
  },
  {
   "cell_type": "code",
   "execution_count": 5,
   "metadata": {},
   "outputs": [
    {
     "data": {
      "text/plain": "   Survived  Pclass     Sex   Age  SibSp  Parch     Fare Embarked\n0         0       3    male  22.0      1      0   7.2500        S\n1         1       1  female  38.0      1      0  71.2833        C\n2         1       3  female  26.0      0      0   7.9250        S\n3         1       1  female  35.0      1      0  53.1000        S\n4         0       3    male  35.0      0      0   8.0500        S\n5         0       3    male   NaN      0      0   8.4583        Q\n6         0       1    male  54.0      0      0  51.8625        S\n7         0       3    male   2.0      3      1  21.0750        S\n8         1       3  female  27.0      0      2  11.1333        S\n9         1       2  female  14.0      1      0  30.0708        C",
      "text/html": "<div>\n<style scoped>\n    .dataframe tbody tr th:only-of-type {\n        vertical-align: middle;\n    }\n\n    .dataframe tbody tr th {\n        vertical-align: top;\n    }\n\n    .dataframe thead th {\n        text-align: right;\n    }\n</style>\n<table border=\"1\" class=\"dataframe\">\n  <thead>\n    <tr style=\"text-align: right;\">\n      <th></th>\n      <th>Survived</th>\n      <th>Pclass</th>\n      <th>Sex</th>\n      <th>Age</th>\n      <th>SibSp</th>\n      <th>Parch</th>\n      <th>Fare</th>\n      <th>Embarked</th>\n    </tr>\n  </thead>\n  <tbody>\n    <tr>\n      <th>0</th>\n      <td>0</td>\n      <td>3</td>\n      <td>male</td>\n      <td>22.0</td>\n      <td>1</td>\n      <td>0</td>\n      <td>7.2500</td>\n      <td>S</td>\n    </tr>\n    <tr>\n      <th>1</th>\n      <td>1</td>\n      <td>1</td>\n      <td>female</td>\n      <td>38.0</td>\n      <td>1</td>\n      <td>0</td>\n      <td>71.2833</td>\n      <td>C</td>\n    </tr>\n    <tr>\n      <th>2</th>\n      <td>1</td>\n      <td>3</td>\n      <td>female</td>\n      <td>26.0</td>\n      <td>0</td>\n      <td>0</td>\n      <td>7.9250</td>\n      <td>S</td>\n    </tr>\n    <tr>\n      <th>3</th>\n      <td>1</td>\n      <td>1</td>\n      <td>female</td>\n      <td>35.0</td>\n      <td>1</td>\n      <td>0</td>\n      <td>53.1000</td>\n      <td>S</td>\n    </tr>\n    <tr>\n      <th>4</th>\n      <td>0</td>\n      <td>3</td>\n      <td>male</td>\n      <td>35.0</td>\n      <td>0</td>\n      <td>0</td>\n      <td>8.0500</td>\n      <td>S</td>\n    </tr>\n    <tr>\n      <th>5</th>\n      <td>0</td>\n      <td>3</td>\n      <td>male</td>\n      <td>NaN</td>\n      <td>0</td>\n      <td>0</td>\n      <td>8.4583</td>\n      <td>Q</td>\n    </tr>\n    <tr>\n      <th>6</th>\n      <td>0</td>\n      <td>1</td>\n      <td>male</td>\n      <td>54.0</td>\n      <td>0</td>\n      <td>0</td>\n      <td>51.8625</td>\n      <td>S</td>\n    </tr>\n    <tr>\n      <th>7</th>\n      <td>0</td>\n      <td>3</td>\n      <td>male</td>\n      <td>2.0</td>\n      <td>3</td>\n      <td>1</td>\n      <td>21.0750</td>\n      <td>S</td>\n    </tr>\n    <tr>\n      <th>8</th>\n      <td>1</td>\n      <td>3</td>\n      <td>female</td>\n      <td>27.0</td>\n      <td>0</td>\n      <td>2</td>\n      <td>11.1333</td>\n      <td>S</td>\n    </tr>\n    <tr>\n      <th>9</th>\n      <td>1</td>\n      <td>2</td>\n      <td>female</td>\n      <td>14.0</td>\n      <td>1</td>\n      <td>0</td>\n      <td>30.0708</td>\n      <td>C</td>\n    </tr>\n  </tbody>\n</table>\n</div>"
     },
     "execution_count": 5,
     "metadata": {},
     "output_type": "execute_result"
    }
   ],
   "source": [
    "df_filtered = df.drop([\"PassengerId\", \"Name\", \"Ticket\", \"Cabin\"], axis=1)\n",
    "df_filtered.head(10)"
   ]
  },
  {
   "cell_type": "markdown",
   "metadata": {},
   "source": [
    "Zanim bA_dziemy mogli wykorzystaA_ jakikolwiek algorytm uczenia maszynowego z scikit-learn, musimy zrobiA_ dwie rzeczy:\n",
    "- uzupeL_niA_ (lub usunA_A_) brakujA_ce wartoL_ci\n",
    "- zamieniA_ wszystkie atrybuty na liczby\n",
    "\n",
    "PoniewaLz dopiero zaczynamy pracA_ z pandas, wyeliminujemy wartoL_ci brakujA_ce w najprostszy mozliwy sposAlb - usuniemy wiersze z wartoL_ciami pustymi\n",
    "\n",
    "**Zad. 7: UsuL_ wiersze z brakujA_cymi wartoL_ciami i przypisz wynikowego data fame'a do `df_complete`. WyL_wietl pierwsze 10 wierszy i sprawdLs czy zniknA_L_ piA_ty przykL_ad.**"
   ]
  },
  {
   "cell_type": "code",
   "execution_count": 6,
   "metadata": {},
   "outputs": [
    {
     "data": {
      "text/plain": "    Survived  Pclass     Sex   Age  SibSp  Parch     Fare Embarked\n0          0       3    male  22.0      1      0   7.2500        S\n1          1       1  female  38.0      1      0  71.2833        C\n2          1       3  female  26.0      0      0   7.9250        S\n3          1       1  female  35.0      1      0  53.1000        S\n4          0       3    male  35.0      0      0   8.0500        S\n6          0       1    male  54.0      0      0  51.8625        S\n7          0       3    male   2.0      3      1  21.0750        S\n8          1       3  female  27.0      0      2  11.1333        S\n9          1       2  female  14.0      1      0  30.0708        C\n10         1       3  female   4.0      1      1  16.7000        S",
      "text/html": "<div>\n<style scoped>\n    .dataframe tbody tr th:only-of-type {\n        vertical-align: middle;\n    }\n\n    .dataframe tbody tr th {\n        vertical-align: top;\n    }\n\n    .dataframe thead th {\n        text-align: right;\n    }\n</style>\n<table border=\"1\" class=\"dataframe\">\n  <thead>\n    <tr style=\"text-align: right;\">\n      <th></th>\n      <th>Survived</th>\n      <th>Pclass</th>\n      <th>Sex</th>\n      <th>Age</th>\n      <th>SibSp</th>\n      <th>Parch</th>\n      <th>Fare</th>\n      <th>Embarked</th>\n    </tr>\n  </thead>\n  <tbody>\n    <tr>\n      <th>0</th>\n      <td>0</td>\n      <td>3</td>\n      <td>male</td>\n      <td>22.0</td>\n      <td>1</td>\n      <td>0</td>\n      <td>7.2500</td>\n      <td>S</td>\n    </tr>\n    <tr>\n      <th>1</th>\n      <td>1</td>\n      <td>1</td>\n      <td>female</td>\n      <td>38.0</td>\n      <td>1</td>\n      <td>0</td>\n      <td>71.2833</td>\n      <td>C</td>\n    </tr>\n    <tr>\n      <th>2</th>\n      <td>1</td>\n      <td>3</td>\n      <td>female</td>\n      <td>26.0</td>\n      <td>0</td>\n      <td>0</td>\n      <td>7.9250</td>\n      <td>S</td>\n    </tr>\n    <tr>\n      <th>3</th>\n      <td>1</td>\n      <td>1</td>\n      <td>female</td>\n      <td>35.0</td>\n      <td>1</td>\n      <td>0</td>\n      <td>53.1000</td>\n      <td>S</td>\n    </tr>\n    <tr>\n      <th>4</th>\n      <td>0</td>\n      <td>3</td>\n      <td>male</td>\n      <td>35.0</td>\n      <td>0</td>\n      <td>0</td>\n      <td>8.0500</td>\n      <td>S</td>\n    </tr>\n    <tr>\n      <th>6</th>\n      <td>0</td>\n      <td>1</td>\n      <td>male</td>\n      <td>54.0</td>\n      <td>0</td>\n      <td>0</td>\n      <td>51.8625</td>\n      <td>S</td>\n    </tr>\n    <tr>\n      <th>7</th>\n      <td>0</td>\n      <td>3</td>\n      <td>male</td>\n      <td>2.0</td>\n      <td>3</td>\n      <td>1</td>\n      <td>21.0750</td>\n      <td>S</td>\n    </tr>\n    <tr>\n      <th>8</th>\n      <td>1</td>\n      <td>3</td>\n      <td>female</td>\n      <td>27.0</td>\n      <td>0</td>\n      <td>2</td>\n      <td>11.1333</td>\n      <td>S</td>\n    </tr>\n    <tr>\n      <th>9</th>\n      <td>1</td>\n      <td>2</td>\n      <td>female</td>\n      <td>14.0</td>\n      <td>1</td>\n      <td>0</td>\n      <td>30.0708</td>\n      <td>C</td>\n    </tr>\n    <tr>\n      <th>10</th>\n      <td>1</td>\n      <td>3</td>\n      <td>female</td>\n      <td>4.0</td>\n      <td>1</td>\n      <td>1</td>\n      <td>16.7000</td>\n      <td>S</td>\n    </tr>\n  </tbody>\n</table>\n</div>"
     },
     "execution_count": 6,
     "metadata": {},
     "output_type": "execute_result"
    }
   ],
   "source": [
    "df_complete = df_filtered.dropna()\n",
    "df_complete.head(10)"
   ]
  },
  {
   "cell_type": "markdown",
   "metadata": {},
   "source": [
    "**Zad. 8: ZamieL_ Sex i Embarked na kolumny liczbowe.**"
   ]
  },
  {
   "cell_type": "code",
   "execution_count": 7,
   "metadata": {},
   "outputs": [
    {
     "name": "stderr",
     "output_type": "stream",
     "text": [
      "C:\\Users\\festo\\AppData\\Local\\Temp\\ipykernel_11140\\2469648782.py:5: SettingWithCopyWarning: \n",
      "A value is trying to be set on a copy of a slice from a DataFrame\n",
      "\n",
      "See the caveats in the documentation: https://pandas.pydata.org/pandas-docs/stable/user_guide/indexing.html#returning-a-view-versus-a-copy\n",
      "  df_complete.loc[:, \"Sex\"].replace({\"female\": 0, \"male\": 1}, inplace=True)\n",
      "C:\\Users\\festo\\AppData\\Local\\Temp\\ipykernel_11140\\2469648782.py:9: SettingWithCopyWarning: \n",
      "A value is trying to be set on a copy of a slice from a DataFrame\n",
      "\n",
      "See the caveats in the documentation: https://pandas.pydata.org/pandas-docs/stable/user_guide/indexing.html#returning-a-view-versus-a-copy\n",
      "  df_complete.loc[:, \"Embarked\"].replace({\"C\": 0, \"S\": 1, \"Q\": 2}, inplace=True)\n"
     ]
    },
    {
     "data": {
      "text/plain": "    Survived  Pclass  Sex   Age  SibSp  Parch     Fare  Embarked\n0          0       3    1  22.0      1      0   7.2500         1\n1          1       1    0  38.0      1      0  71.2833         0\n2          1       3    0  26.0      0      0   7.9250         1\n3          1       1    0  35.0      1      0  53.1000         1\n4          0       3    1  35.0      0      0   8.0500         1\n6          0       1    1  54.0      0      0  51.8625         1\n7          0       3    1   2.0      3      1  21.0750         1\n8          1       3    0  27.0      0      2  11.1333         1\n9          1       2    0  14.0      1      0  30.0708         0\n10         1       3    0   4.0      1      1  16.7000         1",
      "text/html": "<div>\n<style scoped>\n    .dataframe tbody tr th:only-of-type {\n        vertical-align: middle;\n    }\n\n    .dataframe tbody tr th {\n        vertical-align: top;\n    }\n\n    .dataframe thead th {\n        text-align: right;\n    }\n</style>\n<table border=\"1\" class=\"dataframe\">\n  <thead>\n    <tr style=\"text-align: right;\">\n      <th></th>\n      <th>Survived</th>\n      <th>Pclass</th>\n      <th>Sex</th>\n      <th>Age</th>\n      <th>SibSp</th>\n      <th>Parch</th>\n      <th>Fare</th>\n      <th>Embarked</th>\n    </tr>\n  </thead>\n  <tbody>\n    <tr>\n      <th>0</th>\n      <td>0</td>\n      <td>3</td>\n      <td>1</td>\n      <td>22.0</td>\n      <td>1</td>\n      <td>0</td>\n      <td>7.2500</td>\n      <td>1</td>\n    </tr>\n    <tr>\n      <th>1</th>\n      <td>1</td>\n      <td>1</td>\n      <td>0</td>\n      <td>38.0</td>\n      <td>1</td>\n      <td>0</td>\n      <td>71.2833</td>\n      <td>0</td>\n    </tr>\n    <tr>\n      <th>2</th>\n      <td>1</td>\n      <td>3</td>\n      <td>0</td>\n      <td>26.0</td>\n      <td>0</td>\n      <td>0</td>\n      <td>7.9250</td>\n      <td>1</td>\n    </tr>\n    <tr>\n      <th>3</th>\n      <td>1</td>\n      <td>1</td>\n      <td>0</td>\n      <td>35.0</td>\n      <td>1</td>\n      <td>0</td>\n      <td>53.1000</td>\n      <td>1</td>\n    </tr>\n    <tr>\n      <th>4</th>\n      <td>0</td>\n      <td>3</td>\n      <td>1</td>\n      <td>35.0</td>\n      <td>0</td>\n      <td>0</td>\n      <td>8.0500</td>\n      <td>1</td>\n    </tr>\n    <tr>\n      <th>6</th>\n      <td>0</td>\n      <td>1</td>\n      <td>1</td>\n      <td>54.0</td>\n      <td>0</td>\n      <td>0</td>\n      <td>51.8625</td>\n      <td>1</td>\n    </tr>\n    <tr>\n      <th>7</th>\n      <td>0</td>\n      <td>3</td>\n      <td>1</td>\n      <td>2.0</td>\n      <td>3</td>\n      <td>1</td>\n      <td>21.0750</td>\n      <td>1</td>\n    </tr>\n    <tr>\n      <th>8</th>\n      <td>1</td>\n      <td>3</td>\n      <td>0</td>\n      <td>27.0</td>\n      <td>0</td>\n      <td>2</td>\n      <td>11.1333</td>\n      <td>1</td>\n    </tr>\n    <tr>\n      <th>9</th>\n      <td>1</td>\n      <td>2</td>\n      <td>0</td>\n      <td>14.0</td>\n      <td>1</td>\n      <td>0</td>\n      <td>30.0708</td>\n      <td>0</td>\n    </tr>\n    <tr>\n      <th>10</th>\n      <td>1</td>\n      <td>3</td>\n      <td>0</td>\n      <td>4.0</td>\n      <td>1</td>\n      <td>1</td>\n      <td>16.7000</td>\n      <td>1</td>\n    </tr>\n  </tbody>\n</table>\n</div>"
     },
     "execution_count": 7,
     "metadata": {},
     "output_type": "execute_result"
    }
   ],
   "source": [
    "# tu trochA_ pomogA_...\n",
    "# musimy zamieniA_ (sL_owo klucz) wartoL_ci tekstowe na liczby\n",
    "# zrAlb coL_ takiego dla kolumny Sex (zignoruj ostrzeLzenie):\n",
    "\n",
    "df_complete.loc[:, \"Sex\"].replace({\"female\": 0, \"male\": 1}, inplace=True)\n",
    "\n",
    "# jeL_li to siA_ uda - wymyL_l coL_ podobnego dla kolumny Embarked\n",
    "# print(df_complete[\"Embarked\"].unique())\n",
    "df_complete.loc[:, \"Embarked\"].replace({\"C\": 0, \"S\": 1, \"Q\": 2}, inplace=True)\n",
    "\n",
    "df_complete.head(10)"
   ]
  },
  {
   "cell_type": "markdown",
   "metadata": {},
   "source": [
    "Pandas (i numpy na ktAlrym bazuje) potrafi duLzo, duLzo wiA_cej, ale na tA_ chwilA_ to co zrobiliL_my nam wystarczy."
   ]
  },
  {
   "cell_type": "markdown",
   "metadata": {},
   "source": [
    "## Scikit-learn\n",
    "\n",
    "Czas przejL_A_ do uczenia maszynowego. KorzystajA_c z [dokumentacji scikit-learn](http://scikit-learn.org/stable/) oraz slajdAlw do zajA_A_, sprAlbuj wykonaA_ kolejne zadania. Polecam teLz [tutoriale Kevina Markhama](http://blog.kaggle.com/author/kevin-markham/).\n",
    "\n",
    "**Zad. 9: KorzystajA_c z scikit-learn podziel `df_complete` na zbiAlr uczA_cy i testowy, kolejno w proporcjach 60%-40%.**"
   ]
  },
  {
   "cell_type": "code",
   "execution_count": 8,
   "metadata": {},
   "outputs": [],
   "source": [
    "# to nie jest takie trudne, bo juLz zaimportowaliL_my odpowiedniA_ funkcjA_ (spAljrz na importy)\n",
    "# doczytaj tylko co zwraca funkcja, ktAlrej uLzyjesz - scikit ma trochA_ inne podejL_cie do zbiorAlw danych niLz np. caret\n",
    "# postaraj siA_, aby ten losowy podziaL_ byL_ powtarzalny...\n",
    "# UWAGA: chcemy przewidywaA_ wartoL_A_ zmiennej Survived\n",
    "X = df_complete.drop(\"Survived\", axis=1)\n",
    "y = df_complete[\"Survived\"]\n",
    "\n",
    "# print(X.head())\n",
    "# print(y.head())\n",
    "\n",
    "X_train, X_test, y_train, y_test = train_test_split(X, y, test_size=0.4, random_state=42, shuffle=False)"
   ]
  },
  {
   "cell_type": "markdown",
   "metadata": {},
   "source": [
    "**Zad. 10: KorzystajA_c ze zbioru treningowego zoptymalizuj parametry klasyfikatora RandomForestClassifier. ULzyj oceny krzyLzowej z miarA_ AUC.**\n"
   ]
  },
  {
   "cell_type": "code",
   "execution_count": 9,
   "metadata": {},
   "outputs": [
    {
     "name": "stderr",
     "output_type": "stream",
     "text": [
      "c:\\users\\festo\\onedrive - put.poznan.pl\\semestr ix\\emd\\emd-python\\venv\\lib\\site-packages\\sklearn\\model_selection\\_validation.py:770: UserWarning: Scoring failed. The score on this train-test partition for these parameters will be set to nan. Details: \n",
      "Traceback (most recent call last):\n",
      "  File \"c:\\users\\festo\\onedrive - put.poznan.pl\\semestr ix\\emd\\emd-python\\venv\\lib\\site-packages\\sklearn\\model_selection\\_validation.py\", line 761, in _score\n",
      "    scores = scorer(estimator, X_test, y_test)\n",
      "TypeError: auc() takes 2 positional arguments but 3 were given\n",
      "\n",
      "  warnings.warn(\n",
      "c:\\users\\festo\\onedrive - put.poznan.pl\\semestr ix\\emd\\emd-python\\venv\\lib\\site-packages\\sklearn\\model_selection\\_validation.py:770: UserWarning: Scoring failed. The score on this train-test partition for these parameters will be set to nan. Details: \n",
      "Traceback (most recent call last):\n",
      "  File \"c:\\users\\festo\\onedrive - put.poznan.pl\\semestr ix\\emd\\emd-python\\venv\\lib\\site-packages\\sklearn\\model_selection\\_validation.py\", line 761, in _score\n",
      "    scores = scorer(estimator, X_test, y_test)\n",
      "TypeError: auc() takes 2 positional arguments but 3 were given\n",
      "\n",
      "  warnings.warn(\n",
      "c:\\users\\festo\\onedrive - put.poznan.pl\\semestr ix\\emd\\emd-python\\venv\\lib\\site-packages\\sklearn\\model_selection\\_validation.py:770: UserWarning: Scoring failed. The score on this train-test partition for these parameters will be set to nan. Details: \n",
      "Traceback (most recent call last):\n",
      "  File \"c:\\users\\festo\\onedrive - put.poznan.pl\\semestr ix\\emd\\emd-python\\venv\\lib\\site-packages\\sklearn\\model_selection\\_validation.py\", line 761, in _score\n",
      "    scores = scorer(estimator, X_test, y_test)\n",
      "TypeError: auc() takes 2 positional arguments but 3 were given\n",
      "\n",
      "  warnings.warn(\n",
      "c:\\users\\festo\\onedrive - put.poznan.pl\\semestr ix\\emd\\emd-python\\venv\\lib\\site-packages\\sklearn\\model_selection\\_validation.py:770: UserWarning: Scoring failed. The score on this train-test partition for these parameters will be set to nan. Details: \n",
      "Traceback (most recent call last):\n",
      "  File \"c:\\users\\festo\\onedrive - put.poznan.pl\\semestr ix\\emd\\emd-python\\venv\\lib\\site-packages\\sklearn\\model_selection\\_validation.py\", line 761, in _score\n",
      "    scores = scorer(estimator, X_test, y_test)\n",
      "TypeError: auc() takes 2 positional arguments but 3 were given\n",
      "\n",
      "  warnings.warn(\n",
      "c:\\users\\festo\\onedrive - put.poznan.pl\\semestr ix\\emd\\emd-python\\venv\\lib\\site-packages\\sklearn\\model_selection\\_validation.py:770: UserWarning: Scoring failed. The score on this train-test partition for these parameters will be set to nan. Details: \n",
      "Traceback (most recent call last):\n",
      "  File \"c:\\users\\festo\\onedrive - put.poznan.pl\\semestr ix\\emd\\emd-python\\venv\\lib\\site-packages\\sklearn\\model_selection\\_validation.py\", line 761, in _score\n",
      "    scores = scorer(estimator, X_test, y_test)\n",
      "TypeError: auc() takes 2 positional arguments but 3 were given\n",
      "\n",
      "  warnings.warn(\n",
      "c:\\users\\festo\\onedrive - put.poznan.pl\\semestr ix\\emd\\emd-python\\venv\\lib\\site-packages\\sklearn\\model_selection\\_validation.py:770: UserWarning: Scoring failed. The score on this train-test partition for these parameters will be set to nan. Details: \n",
      "Traceback (most recent call last):\n",
      "  File \"c:\\users\\festo\\onedrive - put.poznan.pl\\semestr ix\\emd\\emd-python\\venv\\lib\\site-packages\\sklearn\\model_selection\\_validation.py\", line 761, in _score\n",
      "    scores = scorer(estimator, X_test, y_test)\n",
      "TypeError: auc() takes 2 positional arguments but 3 were given\n",
      "\n",
      "  warnings.warn(\n",
      "c:\\users\\festo\\onedrive - put.poznan.pl\\semestr ix\\emd\\emd-python\\venv\\lib\\site-packages\\sklearn\\model_selection\\_validation.py:770: UserWarning: Scoring failed. The score on this train-test partition for these parameters will be set to nan. Details: \n",
      "Traceback (most recent call last):\n",
      "  File \"c:\\users\\festo\\onedrive - put.poznan.pl\\semestr ix\\emd\\emd-python\\venv\\lib\\site-packages\\sklearn\\model_selection\\_validation.py\", line 761, in _score\n",
      "    scores = scorer(estimator, X_test, y_test)\n",
      "TypeError: auc() takes 2 positional arguments but 3 were given\n",
      "\n",
      "  warnings.warn(\n",
      "c:\\users\\festo\\onedrive - put.poznan.pl\\semestr ix\\emd\\emd-python\\venv\\lib\\site-packages\\sklearn\\model_selection\\_validation.py:770: UserWarning: Scoring failed. The score on this train-test partition for these parameters will be set to nan. Details: \n",
      "Traceback (most recent call last):\n",
      "  File \"c:\\users\\festo\\onedrive - put.poznan.pl\\semestr ix\\emd\\emd-python\\venv\\lib\\site-packages\\sklearn\\model_selection\\_validation.py\", line 761, in _score\n",
      "    scores = scorer(estimator, X_test, y_test)\n",
      "TypeError: auc() takes 2 positional arguments but 3 were given\n",
      "\n",
      "  warnings.warn(\n",
      "c:\\users\\festo\\onedrive - put.poznan.pl\\semestr ix\\emd\\emd-python\\venv\\lib\\site-packages\\sklearn\\model_selection\\_validation.py:770: UserWarning: Scoring failed. The score on this train-test partition for these parameters will be set to nan. Details: \n",
      "Traceback (most recent call last):\n",
      "  File \"c:\\users\\festo\\onedrive - put.poznan.pl\\semestr ix\\emd\\emd-python\\venv\\lib\\site-packages\\sklearn\\model_selection\\_validation.py\", line 761, in _score\n",
      "    scores = scorer(estimator, X_test, y_test)\n",
      "TypeError: auc() takes 2 positional arguments but 3 were given\n",
      "\n",
      "  warnings.warn(\n",
      "c:\\users\\festo\\onedrive - put.poznan.pl\\semestr ix\\emd\\emd-python\\venv\\lib\\site-packages\\sklearn\\model_selection\\_validation.py:770: UserWarning: Scoring failed. The score on this train-test partition for these parameters will be set to nan. Details: \n",
      "Traceback (most recent call last):\n",
      "  File \"c:\\users\\festo\\onedrive - put.poznan.pl\\semestr ix\\emd\\emd-python\\venv\\lib\\site-packages\\sklearn\\model_selection\\_validation.py\", line 761, in _score\n",
      "    scores = scorer(estimator, X_test, y_test)\n",
      "TypeError: auc() takes 2 positional arguments but 3 were given\n",
      "\n",
      "  warnings.warn(\n",
      "c:\\users\\festo\\onedrive - put.poznan.pl\\semestr ix\\emd\\emd-python\\venv\\lib\\site-packages\\sklearn\\model_selection\\_validation.py:770: UserWarning: Scoring failed. The score on this train-test partition for these parameters will be set to nan. Details: \n",
      "Traceback (most recent call last):\n",
      "  File \"c:\\users\\festo\\onedrive - put.poznan.pl\\semestr ix\\emd\\emd-python\\venv\\lib\\site-packages\\sklearn\\model_selection\\_validation.py\", line 761, in _score\n",
      "    scores = scorer(estimator, X_test, y_test)\n",
      "TypeError: auc() takes 2 positional arguments but 3 were given\n",
      "\n",
      "  warnings.warn(\n",
      "c:\\users\\festo\\onedrive - put.poznan.pl\\semestr ix\\emd\\emd-python\\venv\\lib\\site-packages\\sklearn\\model_selection\\_validation.py:770: UserWarning: Scoring failed. The score on this train-test partition for these parameters will be set to nan. Details: \n",
      "Traceback (most recent call last):\n",
      "  File \"c:\\users\\festo\\onedrive - put.poznan.pl\\semestr ix\\emd\\emd-python\\venv\\lib\\site-packages\\sklearn\\model_selection\\_validation.py\", line 761, in _score\n",
      "    scores = scorer(estimator, X_test, y_test)\n",
      "TypeError: auc() takes 2 positional arguments but 3 were given\n",
      "\n",
      "  warnings.warn(\n",
      "c:\\users\\festo\\onedrive - put.poznan.pl\\semestr ix\\emd\\emd-python\\venv\\lib\\site-packages\\sklearn\\model_selection\\_validation.py:770: UserWarning: Scoring failed. The score on this train-test partition for these parameters will be set to nan. Details: \n",
      "Traceback (most recent call last):\n",
      "  File \"c:\\users\\festo\\onedrive - put.poznan.pl\\semestr ix\\emd\\emd-python\\venv\\lib\\site-packages\\sklearn\\model_selection\\_validation.py\", line 761, in _score\n",
      "    scores = scorer(estimator, X_test, y_test)\n",
      "TypeError: auc() takes 2 positional arguments but 3 were given\n",
      "\n",
      "  warnings.warn(\n",
      "c:\\users\\festo\\onedrive - put.poznan.pl\\semestr ix\\emd\\emd-python\\venv\\lib\\site-packages\\sklearn\\model_selection\\_validation.py:770: UserWarning: Scoring failed. The score on this train-test partition for these parameters will be set to nan. Details: \n",
      "Traceback (most recent call last):\n",
      "  File \"c:\\users\\festo\\onedrive - put.poznan.pl\\semestr ix\\emd\\emd-python\\venv\\lib\\site-packages\\sklearn\\model_selection\\_validation.py\", line 761, in _score\n",
      "    scores = scorer(estimator, X_test, y_test)\n",
      "TypeError: auc() takes 2 positional arguments but 3 were given\n",
      "\n",
      "  warnings.warn(\n",
      "c:\\users\\festo\\onedrive - put.poznan.pl\\semestr ix\\emd\\emd-python\\venv\\lib\\site-packages\\sklearn\\model_selection\\_validation.py:770: UserWarning: Scoring failed. The score on this train-test partition for these parameters will be set to nan. Details: \n",
      "Traceback (most recent call last):\n",
      "  File \"c:\\users\\festo\\onedrive - put.poznan.pl\\semestr ix\\emd\\emd-python\\venv\\lib\\site-packages\\sklearn\\model_selection\\_validation.py\", line 761, in _score\n",
      "    scores = scorer(estimator, X_test, y_test)\n",
      "TypeError: auc() takes 2 positional arguments but 3 were given\n",
      "\n",
      "  warnings.warn(\n",
      "c:\\users\\festo\\onedrive - put.poznan.pl\\semestr ix\\emd\\emd-python\\venv\\lib\\site-packages\\sklearn\\model_selection\\_validation.py:770: UserWarning: Scoring failed. The score on this train-test partition for these parameters will be set to nan. Details: \n",
      "Traceback (most recent call last):\n",
      "  File \"c:\\users\\festo\\onedrive - put.poznan.pl\\semestr ix\\emd\\emd-python\\venv\\lib\\site-packages\\sklearn\\model_selection\\_validation.py\", line 761, in _score\n",
      "    scores = scorer(estimator, X_test, y_test)\n",
      "TypeError: auc() takes 2 positional arguments but 3 were given\n",
      "\n",
      "  warnings.warn(\n",
      "c:\\users\\festo\\onedrive - put.poznan.pl\\semestr ix\\emd\\emd-python\\venv\\lib\\site-packages\\sklearn\\model_selection\\_validation.py:770: UserWarning: Scoring failed. The score on this train-test partition for these parameters will be set to nan. Details: \n",
      "Traceback (most recent call last):\n",
      "  File \"c:\\users\\festo\\onedrive - put.poznan.pl\\semestr ix\\emd\\emd-python\\venv\\lib\\site-packages\\sklearn\\model_selection\\_validation.py\", line 761, in _score\n",
      "    scores = scorer(estimator, X_test, y_test)\n",
      "TypeError: auc() takes 2 positional arguments but 3 were given\n",
      "\n",
      "  warnings.warn(\n",
      "c:\\users\\festo\\onedrive - put.poznan.pl\\semestr ix\\emd\\emd-python\\venv\\lib\\site-packages\\sklearn\\model_selection\\_validation.py:770: UserWarning: Scoring failed. The score on this train-test partition for these parameters will be set to nan. Details: \n",
      "Traceback (most recent call last):\n",
      "  File \"c:\\users\\festo\\onedrive - put.poznan.pl\\semestr ix\\emd\\emd-python\\venv\\lib\\site-packages\\sklearn\\model_selection\\_validation.py\", line 761, in _score\n",
      "    scores = scorer(estimator, X_test, y_test)\n",
      "TypeError: auc() takes 2 positional arguments but 3 were given\n",
      "\n",
      "  warnings.warn(\n",
      "c:\\users\\festo\\onedrive - put.poznan.pl\\semestr ix\\emd\\emd-python\\venv\\lib\\site-packages\\sklearn\\model_selection\\_validation.py:770: UserWarning: Scoring failed. The score on this train-test partition for these parameters will be set to nan. Details: \n",
      "Traceback (most recent call last):\n",
      "  File \"c:\\users\\festo\\onedrive - put.poznan.pl\\semestr ix\\emd\\emd-python\\venv\\lib\\site-packages\\sklearn\\model_selection\\_validation.py\", line 761, in _score\n",
      "    scores = scorer(estimator, X_test, y_test)\n",
      "TypeError: auc() takes 2 positional arguments but 3 were given\n",
      "\n",
      "  warnings.warn(\n",
      "c:\\users\\festo\\onedrive - put.poznan.pl\\semestr ix\\emd\\emd-python\\venv\\lib\\site-packages\\sklearn\\model_selection\\_validation.py:770: UserWarning: Scoring failed. The score on this train-test partition for these parameters will be set to nan. Details: \n",
      "Traceback (most recent call last):\n",
      "  File \"c:\\users\\festo\\onedrive - put.poznan.pl\\semestr ix\\emd\\emd-python\\venv\\lib\\site-packages\\sklearn\\model_selection\\_validation.py\", line 761, in _score\n",
      "    scores = scorer(estimator, X_test, y_test)\n",
      "TypeError: auc() takes 2 positional arguments but 3 were given\n",
      "\n",
      "  warnings.warn(\n",
      "c:\\users\\festo\\onedrive - put.poznan.pl\\semestr ix\\emd\\emd-python\\venv\\lib\\site-packages\\sklearn\\model_selection\\_validation.py:770: UserWarning: Scoring failed. The score on this train-test partition for these parameters will be set to nan. Details: \n",
      "Traceback (most recent call last):\n",
      "  File \"c:\\users\\festo\\onedrive - put.poznan.pl\\semestr ix\\emd\\emd-python\\venv\\lib\\site-packages\\sklearn\\model_selection\\_validation.py\", line 761, in _score\n",
      "    scores = scorer(estimator, X_test, y_test)\n",
      "TypeError: auc() takes 2 positional arguments but 3 were given\n",
      "\n",
      "  warnings.warn(\n",
      "c:\\users\\festo\\onedrive - put.poznan.pl\\semestr ix\\emd\\emd-python\\venv\\lib\\site-packages\\sklearn\\model_selection\\_validation.py:770: UserWarning: Scoring failed. The score on this train-test partition for these parameters will be set to nan. Details: \n",
      "Traceback (most recent call last):\n",
      "  File \"c:\\users\\festo\\onedrive - put.poznan.pl\\semestr ix\\emd\\emd-python\\venv\\lib\\site-packages\\sklearn\\model_selection\\_validation.py\", line 761, in _score\n",
      "    scores = scorer(estimator, X_test, y_test)\n",
      "TypeError: auc() takes 2 positional arguments but 3 were given\n",
      "\n",
      "  warnings.warn(\n",
      "c:\\users\\festo\\onedrive - put.poznan.pl\\semestr ix\\emd\\emd-python\\venv\\lib\\site-packages\\sklearn\\model_selection\\_validation.py:770: UserWarning: Scoring failed. The score on this train-test partition for these parameters will be set to nan. Details: \n",
      "Traceback (most recent call last):\n",
      "  File \"c:\\users\\festo\\onedrive - put.poznan.pl\\semestr ix\\emd\\emd-python\\venv\\lib\\site-packages\\sklearn\\model_selection\\_validation.py\", line 761, in _score\n",
      "    scores = scorer(estimator, X_test, y_test)\n",
      "TypeError: auc() takes 2 positional arguments but 3 were given\n",
      "\n",
      "  warnings.warn(\n",
      "c:\\users\\festo\\onedrive - put.poznan.pl\\semestr ix\\emd\\emd-python\\venv\\lib\\site-packages\\sklearn\\model_selection\\_validation.py:770: UserWarning: Scoring failed. The score on this train-test partition for these parameters will be set to nan. Details: \n",
      "Traceback (most recent call last):\n",
      "  File \"c:\\users\\festo\\onedrive - put.poznan.pl\\semestr ix\\emd\\emd-python\\venv\\lib\\site-packages\\sklearn\\model_selection\\_validation.py\", line 761, in _score\n",
      "    scores = scorer(estimator, X_test, y_test)\n",
      "TypeError: auc() takes 2 positional arguments but 3 were given\n",
      "\n",
      "  warnings.warn(\n",
      "c:\\users\\festo\\onedrive - put.poznan.pl\\semestr ix\\emd\\emd-python\\venv\\lib\\site-packages\\sklearn\\model_selection\\_validation.py:770: UserWarning: Scoring failed. The score on this train-test partition for these parameters will be set to nan. Details: \n",
      "Traceback (most recent call last):\n",
      "  File \"c:\\users\\festo\\onedrive - put.poznan.pl\\semestr ix\\emd\\emd-python\\venv\\lib\\site-packages\\sklearn\\model_selection\\_validation.py\", line 761, in _score\n",
      "    scores = scorer(estimator, X_test, y_test)\n",
      "TypeError: auc() takes 2 positional arguments but 3 were given\n",
      "\n",
      "  warnings.warn(\n",
      "c:\\users\\festo\\onedrive - put.poznan.pl\\semestr ix\\emd\\emd-python\\venv\\lib\\site-packages\\sklearn\\model_selection\\_validation.py:770: UserWarning: Scoring failed. The score on this train-test partition for these parameters will be set to nan. Details: \n",
      "Traceback (most recent call last):\n",
      "  File \"c:\\users\\festo\\onedrive - put.poznan.pl\\semestr ix\\emd\\emd-python\\venv\\lib\\site-packages\\sklearn\\model_selection\\_validation.py\", line 761, in _score\n",
      "    scores = scorer(estimator, X_test, y_test)\n",
      "TypeError: auc() takes 2 positional arguments but 3 were given\n",
      "\n",
      "  warnings.warn(\n",
      "c:\\users\\festo\\onedrive - put.poznan.pl\\semestr ix\\emd\\emd-python\\venv\\lib\\site-packages\\sklearn\\model_selection\\_validation.py:770: UserWarning: Scoring failed. The score on this train-test partition for these parameters will be set to nan. Details: \n",
      "Traceback (most recent call last):\n",
      "  File \"c:\\users\\festo\\onedrive - put.poznan.pl\\semestr ix\\emd\\emd-python\\venv\\lib\\site-packages\\sklearn\\model_selection\\_validation.py\", line 761, in _score\n",
      "    scores = scorer(estimator, X_test, y_test)\n",
      "TypeError: auc() takes 2 positional arguments but 3 were given\n",
      "\n",
      "  warnings.warn(\n",
      "c:\\users\\festo\\onedrive - put.poznan.pl\\semestr ix\\emd\\emd-python\\venv\\lib\\site-packages\\sklearn\\model_selection\\_validation.py:770: UserWarning: Scoring failed. The score on this train-test partition for these parameters will be set to nan. Details: \n",
      "Traceback (most recent call last):\n",
      "  File \"c:\\users\\festo\\onedrive - put.poznan.pl\\semestr ix\\emd\\emd-python\\venv\\lib\\site-packages\\sklearn\\model_selection\\_validation.py\", line 761, in _score\n",
      "    scores = scorer(estimator, X_test, y_test)\n",
      "TypeError: auc() takes 2 positional arguments but 3 were given\n",
      "\n",
      "  warnings.warn(\n",
      "c:\\users\\festo\\onedrive - put.poznan.pl\\semestr ix\\emd\\emd-python\\venv\\lib\\site-packages\\sklearn\\model_selection\\_validation.py:770: UserWarning: Scoring failed. The score on this train-test partition for these parameters will be set to nan. Details: \n",
      "Traceback (most recent call last):\n",
      "  File \"c:\\users\\festo\\onedrive - put.poznan.pl\\semestr ix\\emd\\emd-python\\venv\\lib\\site-packages\\sklearn\\model_selection\\_validation.py\", line 761, in _score\n",
      "    scores = scorer(estimator, X_test, y_test)\n",
      "TypeError: auc() takes 2 positional arguments but 3 were given\n",
      "\n",
      "  warnings.warn(\n",
      "c:\\users\\festo\\onedrive - put.poznan.pl\\semestr ix\\emd\\emd-python\\venv\\lib\\site-packages\\sklearn\\model_selection\\_validation.py:770: UserWarning: Scoring failed. The score on this train-test partition for these parameters will be set to nan. Details: \n",
      "Traceback (most recent call last):\n",
      "  File \"c:\\users\\festo\\onedrive - put.poznan.pl\\semestr ix\\emd\\emd-python\\venv\\lib\\site-packages\\sklearn\\model_selection\\_validation.py\", line 761, in _score\n",
      "    scores = scorer(estimator, X_test, y_test)\n",
      "TypeError: auc() takes 2 positional arguments but 3 were given\n",
      "\n",
      "  warnings.warn(\n",
      "c:\\users\\festo\\onedrive - put.poznan.pl\\semestr ix\\emd\\emd-python\\venv\\lib\\site-packages\\sklearn\\model_selection\\_validation.py:770: UserWarning: Scoring failed. The score on this train-test partition for these parameters will be set to nan. Details: \n",
      "Traceback (most recent call last):\n",
      "  File \"c:\\users\\festo\\onedrive - put.poznan.pl\\semestr ix\\emd\\emd-python\\venv\\lib\\site-packages\\sklearn\\model_selection\\_validation.py\", line 761, in _score\n",
      "    scores = scorer(estimator, X_test, y_test)\n",
      "TypeError: auc() takes 2 positional arguments but 3 were given\n",
      "\n",
      "  warnings.warn(\n",
      "c:\\users\\festo\\onedrive - put.poznan.pl\\semestr ix\\emd\\emd-python\\venv\\lib\\site-packages\\sklearn\\model_selection\\_validation.py:770: UserWarning: Scoring failed. The score on this train-test partition for these parameters will be set to nan. Details: \n",
      "Traceback (most recent call last):\n",
      "  File \"c:\\users\\festo\\onedrive - put.poznan.pl\\semestr ix\\emd\\emd-python\\venv\\lib\\site-packages\\sklearn\\model_selection\\_validation.py\", line 761, in _score\n",
      "    scores = scorer(estimator, X_test, y_test)\n",
      "TypeError: auc() takes 2 positional arguments but 3 were given\n",
      "\n",
      "  warnings.warn(\n",
      "c:\\users\\festo\\onedrive - put.poznan.pl\\semestr ix\\emd\\emd-python\\venv\\lib\\site-packages\\sklearn\\model_selection\\_validation.py:770: UserWarning: Scoring failed. The score on this train-test partition for these parameters will be set to nan. Details: \n",
      "Traceback (most recent call last):\n",
      "  File \"c:\\users\\festo\\onedrive - put.poznan.pl\\semestr ix\\emd\\emd-python\\venv\\lib\\site-packages\\sklearn\\model_selection\\_validation.py\", line 761, in _score\n",
      "    scores = scorer(estimator, X_test, y_test)\n",
      "TypeError: auc() takes 2 positional arguments but 3 were given\n",
      "\n",
      "  warnings.warn(\n",
      "c:\\users\\festo\\onedrive - put.poznan.pl\\semestr ix\\emd\\emd-python\\venv\\lib\\site-packages\\sklearn\\model_selection\\_validation.py:770: UserWarning: Scoring failed. The score on this train-test partition for these parameters will be set to nan. Details: \n",
      "Traceback (most recent call last):\n",
      "  File \"c:\\users\\festo\\onedrive - put.poznan.pl\\semestr ix\\emd\\emd-python\\venv\\lib\\site-packages\\sklearn\\model_selection\\_validation.py\", line 761, in _score\n",
      "    scores = scorer(estimator, X_test, y_test)\n",
      "TypeError: auc() takes 2 positional arguments but 3 were given\n",
      "\n",
      "  warnings.warn(\n",
      "c:\\users\\festo\\onedrive - put.poznan.pl\\semestr ix\\emd\\emd-python\\venv\\lib\\site-packages\\sklearn\\model_selection\\_validation.py:770: UserWarning: Scoring failed. The score on this train-test partition for these parameters will be set to nan. Details: \n",
      "Traceback (most recent call last):\n",
      "  File \"c:\\users\\festo\\onedrive - put.poznan.pl\\semestr ix\\emd\\emd-python\\venv\\lib\\site-packages\\sklearn\\model_selection\\_validation.py\", line 761, in _score\n",
      "    scores = scorer(estimator, X_test, y_test)\n",
      "TypeError: auc() takes 2 positional arguments but 3 were given\n",
      "\n",
      "  warnings.warn(\n",
      "c:\\users\\festo\\onedrive - put.poznan.pl\\semestr ix\\emd\\emd-python\\venv\\lib\\site-packages\\sklearn\\model_selection\\_validation.py:770: UserWarning: Scoring failed. The score on this train-test partition for these parameters will be set to nan. Details: \n",
      "Traceback (most recent call last):\n",
      "  File \"c:\\users\\festo\\onedrive - put.poznan.pl\\semestr ix\\emd\\emd-python\\venv\\lib\\site-packages\\sklearn\\model_selection\\_validation.py\", line 761, in _score\n",
      "    scores = scorer(estimator, X_test, y_test)\n",
      "TypeError: auc() takes 2 positional arguments but 3 were given\n",
      "\n",
      "  warnings.warn(\n",
      "c:\\users\\festo\\onedrive - put.poznan.pl\\semestr ix\\emd\\emd-python\\venv\\lib\\site-packages\\sklearn\\model_selection\\_validation.py:770: UserWarning: Scoring failed. The score on this train-test partition for these parameters will be set to nan. Details: \n",
      "Traceback (most recent call last):\n",
      "  File \"c:\\users\\festo\\onedrive - put.poznan.pl\\semestr ix\\emd\\emd-python\\venv\\lib\\site-packages\\sklearn\\model_selection\\_validation.py\", line 761, in _score\n",
      "    scores = scorer(estimator, X_test, y_test)\n",
      "TypeError: auc() takes 2 positional arguments but 3 were given\n",
      "\n",
      "  warnings.warn(\n",
      "c:\\users\\festo\\onedrive - put.poznan.pl\\semestr ix\\emd\\emd-python\\venv\\lib\\site-packages\\sklearn\\model_selection\\_validation.py:770: UserWarning: Scoring failed. The score on this train-test partition for these parameters will be set to nan. Details: \n",
      "Traceback (most recent call last):\n",
      "  File \"c:\\users\\festo\\onedrive - put.poznan.pl\\semestr ix\\emd\\emd-python\\venv\\lib\\site-packages\\sklearn\\model_selection\\_validation.py\", line 761, in _score\n",
      "    scores = scorer(estimator, X_test, y_test)\n",
      "TypeError: auc() takes 2 positional arguments but 3 were given\n",
      "\n",
      "  warnings.warn(\n",
      "c:\\users\\festo\\onedrive - put.poznan.pl\\semestr ix\\emd\\emd-python\\venv\\lib\\site-packages\\sklearn\\model_selection\\_validation.py:770: UserWarning: Scoring failed. The score on this train-test partition for these parameters will be set to nan. Details: \n",
      "Traceback (most recent call last):\n",
      "  File \"c:\\users\\festo\\onedrive - put.poznan.pl\\semestr ix\\emd\\emd-python\\venv\\lib\\site-packages\\sklearn\\model_selection\\_validation.py\", line 761, in _score\n",
      "    scores = scorer(estimator, X_test, y_test)\n",
      "TypeError: auc() takes 2 positional arguments but 3 were given\n",
      "\n",
      "  warnings.warn(\n",
      "c:\\users\\festo\\onedrive - put.poznan.pl\\semestr ix\\emd\\emd-python\\venv\\lib\\site-packages\\sklearn\\model_selection\\_validation.py:770: UserWarning: Scoring failed. The score on this train-test partition for these parameters will be set to nan. Details: \n",
      "Traceback (most recent call last):\n",
      "  File \"c:\\users\\festo\\onedrive - put.poznan.pl\\semestr ix\\emd\\emd-python\\venv\\lib\\site-packages\\sklearn\\model_selection\\_validation.py\", line 761, in _score\n",
      "    scores = scorer(estimator, X_test, y_test)\n",
      "TypeError: auc() takes 2 positional arguments but 3 were given\n",
      "\n",
      "  warnings.warn(\n",
      "c:\\users\\festo\\onedrive - put.poznan.pl\\semestr ix\\emd\\emd-python\\venv\\lib\\site-packages\\sklearn\\model_selection\\_validation.py:770: UserWarning: Scoring failed. The score on this train-test partition for these parameters will be set to nan. Details: \n",
      "Traceback (most recent call last):\n",
      "  File \"c:\\users\\festo\\onedrive - put.poznan.pl\\semestr ix\\emd\\emd-python\\venv\\lib\\site-packages\\sklearn\\model_selection\\_validation.py\", line 761, in _score\n",
      "    scores = scorer(estimator, X_test, y_test)\n",
      "TypeError: auc() takes 2 positional arguments but 3 were given\n",
      "\n",
      "  warnings.warn(\n",
      "c:\\users\\festo\\onedrive - put.poznan.pl\\semestr ix\\emd\\emd-python\\venv\\lib\\site-packages\\sklearn\\model_selection\\_validation.py:770: UserWarning: Scoring failed. The score on this train-test partition for these parameters will be set to nan. Details: \n",
      "Traceback (most recent call last):\n",
      "  File \"c:\\users\\festo\\onedrive - put.poznan.pl\\semestr ix\\emd\\emd-python\\venv\\lib\\site-packages\\sklearn\\model_selection\\_validation.py\", line 761, in _score\n",
      "    scores = scorer(estimator, X_test, y_test)\n",
      "TypeError: auc() takes 2 positional arguments but 3 were given\n",
      "\n",
      "  warnings.warn(\n",
      "c:\\users\\festo\\onedrive - put.poznan.pl\\semestr ix\\emd\\emd-python\\venv\\lib\\site-packages\\sklearn\\model_selection\\_validation.py:770: UserWarning: Scoring failed. The score on this train-test partition for these parameters will be set to nan. Details: \n",
      "Traceback (most recent call last):\n",
      "  File \"c:\\users\\festo\\onedrive - put.poznan.pl\\semestr ix\\emd\\emd-python\\venv\\lib\\site-packages\\sklearn\\model_selection\\_validation.py\", line 761, in _score\n",
      "    scores = scorer(estimator, X_test, y_test)\n",
      "TypeError: auc() takes 2 positional arguments but 3 were given\n",
      "\n",
      "  warnings.warn(\n",
      "c:\\users\\festo\\onedrive - put.poznan.pl\\semestr ix\\emd\\emd-python\\venv\\lib\\site-packages\\sklearn\\model_selection\\_validation.py:770: UserWarning: Scoring failed. The score on this train-test partition for these parameters will be set to nan. Details: \n",
      "Traceback (most recent call last):\n",
      "  File \"c:\\users\\festo\\onedrive - put.poznan.pl\\semestr ix\\emd\\emd-python\\venv\\lib\\site-packages\\sklearn\\model_selection\\_validation.py\", line 761, in _score\n",
      "    scores = scorer(estimator, X_test, y_test)\n",
      "TypeError: auc() takes 2 positional arguments but 3 were given\n",
      "\n",
      "  warnings.warn(\n"
     ]
    },
    {
     "name": "stdout",
     "output_type": "stream",
     "text": [
      "{'max_depth': 3, 'min_samples_split': 2, 'random_state': 0}\n",
      "              precision    recall  f1-score   support\n",
      "\n",
      "           0       0.77      0.91      0.83       169\n",
      "           1       0.81      0.59      0.69       116\n",
      "\n",
      "    accuracy                           0.78       285\n",
      "   macro avg       0.79      0.75      0.76       285\n",
      "weighted avg       0.78      0.78      0.77       285\n",
      "\n"
     ]
    },
    {
     "name": "stderr",
     "output_type": "stream",
     "text": [
      "c:\\users\\festo\\onedrive - put.poznan.pl\\semestr ix\\emd\\emd-python\\venv\\lib\\site-packages\\sklearn\\model_selection\\_validation.py:770: UserWarning: Scoring failed. The score on this train-test partition for these parameters will be set to nan. Details: \n",
      "Traceback (most recent call last):\n",
      "  File \"c:\\users\\festo\\onedrive - put.poznan.pl\\semestr ix\\emd\\emd-python\\venv\\lib\\site-packages\\sklearn\\model_selection\\_validation.py\", line 761, in _score\n",
      "    scores = scorer(estimator, X_test, y_test)\n",
      "TypeError: auc() takes 2 positional arguments but 3 were given\n",
      "\n",
      "  warnings.warn(\n",
      "c:\\users\\festo\\onedrive - put.poznan.pl\\semestr ix\\emd\\emd-python\\venv\\lib\\site-packages\\sklearn\\model_selection\\_search.py:969: UserWarning: One or more of the test scores are non-finite: [nan nan nan nan nan nan nan nan nan]\n",
      "  warnings.warn(\n"
     ]
    }
   ],
   "source": [
    "from sklearn.ensemble import RandomForestClassifier\n",
    "\n",
    "# spAljrz na slajdy do zajA_A_, znajdujA_ce siA_ tam fragmenty kodu powinny CiA_ naprowadziA_ na rozwiA_zanie\n",
    "# uwaLzaj... bA_dziesz musiaL_ zaimportowaA_ dodatkowA_ bibliotekA_\n",
    "# upewnij siA_ teLz, Lze TwAlj eksperyment jest powtarzalny...\n",
    "\n",
    "param_grid = {'max_depth': [3, 5, 10], 'min_samples_split': [2, 5, 10], 'random_state': [0]}\n",
    "\n",
    "clf = GridSearchCV(RandomForestClassifier(random_state=0), param_grid, cv=5, scoring=auc)\n",
    "clf.fit(X_train, y_train)\n",
    "print(clf.best_params_)\n",
    "y_true, y_pred = y_test, clf.predict(X_test)\n",
    "print(classification_report(y_true, y_pred))"
   ]
  },
  {
   "cell_type": "markdown",
   "metadata": {},
   "source": [
    "**Zad. 11: OceL_ uzyskany model na zbiorze testowym.**"
   ]
  },
  {
   "cell_type": "code",
   "execution_count": 10,
   "metadata": {},
   "outputs": [
    {
     "data": {
      "text/plain": "0.7500765149969394"
     },
     "execution_count": 10,
     "metadata": {},
     "output_type": "execute_result"
    }
   ],
   "source": [
    "best_clf = RandomForestClassifier(**clf.best_params_).fit(X_train, y_train)\n",
    "y_pred = best_clf.predict(X_test)\n",
    "roc_auc_score(y_test, y_pred)"
   ]
  },
  {
   "cell_type": "markdown",
   "metadata": {},
   "source": [
    "JeL_li dotarL_eL_ do tego momentu, to gratulacje d___"
   ]
  },
  {
   "cell_type": "markdown",
   "metadata": {},
   "source": [
    "## Seaborn\n",
    "\n",
    "Lteby coL_ narysowaA_ w Pythonie najczA_L_ciej korzysta siA_ z biblioteki matplotlib i jakichL_ nakL_adek na tA_ bibliotekA_. Matplotlib jest bibliotekA_ wzglA_dnie niskopoziomowA_, ktAlra mogL_aby zostaA_ porAlwnana do podstawowego mechanizmu rysowania w R (tzw. *base plotting system*). Za pomocA_ matplotliba da siA_ narysowaA_ prawie wszystko, z nakL_adkami jest juLz gorzej i dlatego czA_sto miesza siA_ wykorzystanie rAlLznych bibliotek.\n",
    "\n",
    "SprAlbujmy coL_ narysowaA_, Lzeby zakoL_czyA_ raport obrazkiem. Wykorzystamy w tym celu bibliotekA_ [seaborn](http://seaborn.pydata.org/index.html). JeL_li nie masz jej zainstalowanej musisz otworzyA_ terminal Anacondy (*Anaconda Prompt*) i wpisaA_ `conda install seaborn`."
   ]
  },
  {
   "cell_type": "code",
   "execution_count": 11,
   "metadata": {
    "scrolled": true
   },
   "outputs": [],
   "source": [
    "# najpierw odrobina magii\n",
    "# jeL_li chcemy Lzeby wykresy rysowaL_y nam siA_ w raporcie to musimy wykonaA_ instrukcjA_\n",
    "# % matplotlib inline <- !UWAGA! Linia zakomentowana ze względu na wykorzystywane IDE"
   ]
  },
  {
   "cell_type": "code",
   "execution_count": 12,
   "metadata": {},
   "outputs": [],
   "source": [
    "# dodatkowo zaimportujmy przydatne biblioteki i ustawmy domyL_lny styl wykresAlw\n",
    "import matplotlib.pyplot as plt\n",
    "import seaborn as sns\n",
    "\n",
    "sns.set(style=\"whitegrid\")"
   ]
  },
  {
   "cell_type": "markdown",
   "metadata": {},
   "source": [
    "**Zad. 12: Skorzystaj z `violinplot` Lzeby porAlwnaA_ ceny biletAlw (Fare) dla rAlLznych klas (Pclass). Jako palety kolorAlw uLzyj jednej z palet z [ColorBrewera](http://colorbrewer2.org/#type=qualitative&scheme=Set1&n=3)**"
   ]
  },
  {
   "cell_type": "code",
   "execution_count": 13,
   "metadata": {},
   "outputs": [
    {
     "data": {
      "text/plain": "<AxesSubplot:xlabel='Pclass', ylabel='Fare'>"
     },
     "execution_count": 13,
     "metadata": {},
     "output_type": "execute_result"
    },
    {
     "data": {
      "text/plain": "<Figure size 432x288 with 1 Axes>",
      "image/png": "[encoded data removed]"
     },
     "metadata": {},
     "output_type": "display_data"
    }
   ],
   "source": [
    "# użyto innej palety kolorow, poniewaz proponowana nie podaje wartosci w hue\n",
    "sns.violinplot(x=df_complete[\"Pclass\"], y=df_complete[\"Fare\"], palette=\"muted\")"
   ]
  },
  {
   "cell_type": "markdown",
   "metadata": {},
   "source": [
    "## Plotnine\n",
    "\n",
    "SprawdLs co pamiA_tasz z ggplota! Narysuj wykres przeLzywalnoL_ci mA_Lzczyzn i kobiet (`Sex`) z podziaL_em na typy biletAlw (`Pclass`)"
   ]
  },
  {
   "cell_type": "code",
   "execution_count": 14,
   "metadata": {},
   "outputs": [
    {
     "data": {
      "text/plain": "<AxesSubplot:xlabel='Pclass', ylabel='Survived'>"
     },
     "execution_count": 14,
     "metadata": {},
     "output_type": "execute_result"
    },
    {
     "data": {
      "text/plain": "<Figure size 432x288 with 1 Axes>",
      "image/png": "[encoded data removed]"
     },
     "metadata": {},
     "output_type": "display_data"
    }
   ],
   "source": [
    "sns.barplot(y=\"Survived\", x=\"Pclass\", hue=\"Sex\", data=df)"
   ]
  }
 ],
 "metadata": {
  "anaconda-cloud": {},
  "kernelspec": {
   "display_name": "Python 3",
   "language": "python",
   "name": "python3"
  },
  "language_info": {
   "codemirror_mode": {
    "name": "ipython",
    "version": 3
   },
   "file_extension": ".py",
   "mimetype": "text/x-python",
   "name": "python",
   "nbconvert_exporter": "python",
   "pygments_lexer": "ipython3",
   "version": "3.8.8"
  }
 },
 "nbformat": 4,
 "nbformat_minor": 4
}