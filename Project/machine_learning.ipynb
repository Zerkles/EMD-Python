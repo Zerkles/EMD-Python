{
 "cells": [
  {
   "cell_type": "markdown",
   "source": [
    "Wczytywanie zbioru danych."
   ],
   "metadata": {
    "collapsed": false
   }
  },
  {
   "cell_type": "code",
   "execution_count": 1,
   "outputs": [
    {
     "data": {
      "text/plain": "   helpfulN  helpfulP  reviewerID  reviewerName  asin  score  unixReviewTime  \\\n0         7         6       30124         43149  2747    1.0      1333843200   \n1         6         0        4713         31532  5394    1.0      1388188800   \n2         4         2       59783         46230  7167    1.0      1356048000   \n3         4         2       67587         41970  4036    1.0      1334188800   \n4         1         0       65465         54619  4625    1.0      1387670400   \n\n          0         1         2  ...       590       591       592       593  \\\n0  0.074479  0.032809  0.016875  ...  0.078766  0.047852 -0.055908 -0.064941   \n1  0.069027  0.052856  0.085506  ...  0.273438  0.024780 -0.099609 -0.044678   \n2  0.085327  0.011286  0.024109  ...  0.068848  0.086426 -0.061768 -0.038330   \n3  0.064137 -0.000476 -0.028126  ... -0.018921  0.394531 -0.219727 -0.018921   \n4 -0.035083  0.002816  0.037427  ...  0.171875  0.162109 -0.135742  0.212891   \n\n        594       595       596       597       598       599  \n0  0.042480  0.055908 -0.000977 -0.074951  0.006104  0.071777  \n1  0.251953  0.133789 -0.026001 -0.166992 -0.040283 -0.072266  \n2 -0.174805 -0.253906  0.086914 -0.024048 -0.026978  0.125000  \n3 -0.200195 -0.037109  0.243164 -0.135742 -0.032227 -0.072754  \n4 -0.052979 -0.194336  0.156250 -0.208008  0.079102  0.137695  \n\n[5 rows x 607 columns]",
      "text/html": "<div>\n<style scoped>\n    .dataframe tbody tr th:only-of-type {\n        vertical-align: middle;\n    }\n\n    .dataframe tbody tr th {\n        vertical-align: top;\n    }\n\n    .dataframe thead th {\n        text-align: right;\n    }\n</style>\n<table border=\"1\" class=\"dataframe\">\n  <thead>\n    <tr style=\"text-align: right;\">\n      <th></th>\n      <th>helpfulN</th>\n      <th>helpfulP</th>\n      <th>reviewerID</th>\n      <th>reviewerName</th>\n      <th>asin</th>\n      <th>score</th>\n      <th>unixReviewTime</th>\n      <th>0</th>\n      <th>1</th>\n      <th>2</th>\n      <th>...</th>\n      <th>590</th>\n      <th>591</th>\n      <th>592</th>\n      <th>593</th>\n      <th>594</th>\n      <th>595</th>\n      <th>596</th>\n      <th>597</th>\n      <th>598</th>\n      <th>599</th>\n    </tr>\n  </thead>\n  <tbody>\n    <tr>\n      <th>0</th>\n      <td>7</td>\n      <td>6</td>\n      <td>30124</td>\n      <td>43149</td>\n      <td>2747</td>\n      <td>1.0</td>\n      <td>1333843200</td>\n      <td>0.074479</td>\n      <td>0.032809</td>\n      <td>0.016875</td>\n      <td>...</td>\n      <td>0.078766</td>\n      <td>0.047852</td>\n      <td>-0.055908</td>\n      <td>-0.064941</td>\n      <td>0.042480</td>\n      <td>0.055908</td>\n      <td>-0.000977</td>\n      <td>-0.074951</td>\n      <td>0.006104</td>\n      <td>0.071777</td>\n    </tr>\n    <tr>\n      <th>1</th>\n      <td>6</td>\n      <td>0</td>\n      <td>4713</td>\n      <td>31532</td>\n      <td>5394</td>\n      <td>1.0</td>\n      <td>1388188800</td>\n      <td>0.069027</td>\n      <td>0.052856</td>\n      <td>0.085506</td>\n      <td>...</td>\n      <td>0.273438</td>\n      <td>0.024780</td>\n      <td>-0.099609</td>\n      <td>-0.044678</td>\n      <td>0.251953</td>\n      <td>0.133789</td>\n      <td>-0.026001</td>\n      <td>-0.166992</td>\n      <td>-0.040283</td>\n      <td>-0.072266</td>\n    </tr>\n    <tr>\n      <th>2</th>\n      <td>4</td>\n      <td>2</td>\n      <td>59783</td>\n      <td>46230</td>\n      <td>7167</td>\n      <td>1.0</td>\n      <td>1356048000</td>\n      <td>0.085327</td>\n      <td>0.011286</td>\n      <td>0.024109</td>\n      <td>...</td>\n      <td>0.068848</td>\n      <td>0.086426</td>\n      <td>-0.061768</td>\n      <td>-0.038330</td>\n      <td>-0.174805</td>\n      <td>-0.253906</td>\n      <td>0.086914</td>\n      <td>-0.024048</td>\n      <td>-0.026978</td>\n      <td>0.125000</td>\n    </tr>\n    <tr>\n      <th>3</th>\n      <td>4</td>\n      <td>2</td>\n      <td>67587</td>\n      <td>41970</td>\n      <td>4036</td>\n      <td>1.0</td>\n      <td>1334188800</td>\n      <td>0.064137</td>\n      <td>-0.000476</td>\n      <td>-0.028126</td>\n      <td>...</td>\n      <td>-0.018921</td>\n      <td>0.394531</td>\n      <td>-0.219727</td>\n      <td>-0.018921</td>\n      <td>-0.200195</td>\n      <td>-0.037109</td>\n      <td>0.243164</td>\n      <td>-0.135742</td>\n      <td>-0.032227</td>\n      <td>-0.072754</td>\n    </tr>\n    <tr>\n      <th>4</th>\n      <td>1</td>\n      <td>0</td>\n      <td>65465</td>\n      <td>54619</td>\n      <td>4625</td>\n      <td>1.0</td>\n      <td>1387670400</td>\n      <td>-0.035083</td>\n      <td>0.002816</td>\n      <td>0.037427</td>\n      <td>...</td>\n      <td>0.171875</td>\n      <td>0.162109</td>\n      <td>-0.135742</td>\n      <td>0.212891</td>\n      <td>-0.052979</td>\n      <td>-0.194336</td>\n      <td>0.156250</td>\n      <td>-0.208008</td>\n      <td>0.079102</td>\n      <td>0.137695</td>\n    </tr>\n  </tbody>\n</table>\n<p>5 rows × 607 columns</p>\n</div>"
     },
     "execution_count": 1,
     "metadata": {},
     "output_type": "execute_result"
    }
   ],
   "source": [
    "import numpy as np\n",
    "import pandas as pd\n",
    "\n",
    "# df = pd.read_csv(\"reviews_bow.csv\")\n",
    "df = pd.read_csv(\"reviews_w2v.csv\")\n",
    "df.head()"
   ],
   "metadata": {
    "collapsed": false,
    "pycharm": {
     "name": "#%%\n"
    }
   }
  },
  {
   "cell_type": "markdown",
   "source": [
    "Wybór klasyfikatora i poszukiwanie optymalnych parametrów."
   ],
   "metadata": {
    "collapsed": false
   }
  },
  {
   "cell_type": "code",
   "execution_count": 2,
   "outputs": [
    {
     "name": "stdout",
     "output_type": "stream",
     "text": [
      "\n",
      "---Tuning hyperparameters---\n",
      "Fitting 5 folds for each of 10 candidates, totalling 50 fits\n",
      "{'max_depth': 20, 'max_features': 'auto', 'n_estimators': 350, 'n_jobs': -1, 'random_state': 23}\n"
     ]
    }
   ],
   "source": [
    "from sklearn.model_selection import GridSearchCV, train_test_split\n",
    "from sklearn.ensemble import RandomForestClassifier, GradientBoostingClassifier\n",
    "from sklearn.metrics import f1_score\n",
    "\n",
    "y = df[\"score\"]\n",
    "X = df[list(set(df.columns) - {\"score\"})]\n",
    "# print(\"X columns:\", list(X.columns), \"\\ny columns:\", y.name)\n",
    "\n",
    "X_train, X_test, y_train, y_test = train_test_split(X, y, test_size=0.33, random_state=42)\n",
    "\n",
    "print(\"\\n---Tuning hyperparameters---\")\n",
    "\n",
    "param_grid = {\n",
    "    'n_estimators': [200, 350, 500],\n",
    "    'max_features': ['auto', 'sqrt', 'log2'],\n",
    "    'max_depth': [10, 20, 30, 50, 70],\n",
    "    'n_jobs': [-1],\n",
    "    'random_state': [23]\n",
    "}\n",
    "\n",
    "gs = GridSearchCV(RandomForestClassifier(), param_grid, n_jobs=-1, verbose=3, scoring='f1_weighted')\n",
    "gs.fit(X_train, y_train)\n",
    "print(gs.best_params_)"
   ],
   "metadata": {
    "collapsed": false,
    "pycharm": {
     "name": "#%%\n"
    }
   }
  },
  {
   "cell_type": "markdown",
   "source": [
    "Rezultaty klasyfikacji i porównania z algorytmem większościowym oraz losowym."
   ],
   "metadata": {
    "collapsed": false,
    "pycharm": {
     "name": "#%% md\n"
    }
   }
  },
  {
   "cell_type": "code",
   "execution_count": 3,
   "outputs": [
    {
     "name": "stdout",
     "output_type": "stream",
     "text": [
      "\n",
      "---Training classifier with best found parameters---\n"
     ]
    },
    {
     "data": {
      "text/plain": "RandomForestClassifier(max_depth=20, n_estimators=350, n_jobs=-1,\n                       random_state=23)"
     },
     "execution_count": 3,
     "metadata": {},
     "output_type": "execute_result"
    }
   ],
   "source": [
    "print(\"\\n---Training classifier with best found parameters---\")\n",
    "clf = RandomForestClassifier(**gs.best_params_)\n",
    "clf.fit(X_train, y_train)"
   ],
   "metadata": {
    "collapsed": false,
    "pycharm": {
     "name": "#%%\n"
    }
   }
  },
  {
   "cell_type": "markdown",
   "source": [
    "Ocena klasyfikatora oraz porównanie go do algorytmów losowego oraz większościowego."
   ],
   "metadata": {
    "collapsed": false
   }
  },
  {
   "cell_type": "code",
   "execution_count": 4,
   "outputs": [
    {
     "name": "stdout",
     "output_type": "stream",
     "text": [
      "=================== Results: RandomClassifier ===================\n",
      "                1.0       4.0       2.0       5.0       3.0\n",
      "F1         0.205526  0.202981  0.192125  0.196755  0.199559\n",
      "Precision  0.204462  0.203305  0.192186  0.197378  0.199586\n",
      "Recall     0.206601  0.202657  0.192064  0.196137  0.199532\n",
      "=================== Results: MajorityClassifier ===================\n",
      "           1.0  4.0      2.0  5.0  3.0\n",
      "F1         0.0  0.0  0.33097  0.0  0.0\n",
      "Precision  0.0  0.0  0.19830  0.0  0.0\n",
      "Recall     0.0  0.0  1.00000  0.0  0.0\n",
      "=================== Results: RandomForestClassifier ===================\n",
      "                1.0       4.0       2.0       5.0       3.0\n",
      "F1         0.617674  0.455742  0.417451  0.586852  0.381261\n",
      "Precision  0.568815  0.454537  0.397154  0.602632  0.444378\n",
      "Recall     0.675715  0.456953  0.439935  0.571878  0.333843\n",
      "======================================\n"
     ]
    }
   ],
   "source": [
    "import random\n",
    "from sklearn.metrics import f1_score, precision_score, recall_score\n",
    "\n",
    "\n",
    "def scores(y_true, y_pred, name=None, df_compare=pd.DataFrame(np.zeros((5, 3)))):\n",
    "    measures = [\"F1\", \"Precision\", \"Recall\"]\n",
    "    df_scores = pd.DataFrame(columns=measures, index=list_of_labels)\n",
    "\n",
    "    df_scores[\"F1\"] = f1_score(y_true, y_pred, average=None, pos_label=None, labels=list_of_labels)\n",
    "    df_scores[\"Precision\"] = precision_score(y_true, y_pred, average=None, pos_label=None, labels=list_of_labels,\n",
    "                                             zero_division=0)\n",
    "    df_scores[\"Recall\"] = recall_score(y_true, y_pred, average=None, pos_label=None, labels=list_of_labels)\n",
    "\n",
    "    print(f\"=================== Results: {name} ===================\")\n",
    "    # print(pd.DataFrame(df_scores.to_numpy() - df_compare.to_numpy()).T)\n",
    "    print(df_scores.T)\n",
    "    # return df_scores\n",
    "\n",
    "\n",
    "list_of_labels = y_train.unique()\n",
    "majority_label = y_train.value_counts().index[0]\n",
    "random.seed(23)\n",
    "\n",
    "y_pred_random, y_pred_majority = [], []\n",
    "\n",
    "for _ in range(len(X_test)):\n",
    "    y_pred_random.append(random.choice(list_of_labels))\n",
    "    y_pred_majority.append(majority_label)\n",
    "\n",
    "scores(y_test, y_pred_random, name=\"RandomClassifier\")\n",
    "scores(y_test, y_pred_majority, name=\"MajorityClassifier\")\n",
    "scores(y_test, clf.predict(X_test), name=\"RandomForestClassifier\")\n",
    "print(\"======================================\")"
   ],
   "metadata": {
    "collapsed": false,
    "pycharm": {
     "name": "#%%\n"
    }
   }
  }
 ],
 "metadata": {
  "kernelspec": {
   "display_name": "Python 3",
   "language": "python",
   "name": "python3"
  },
  "language_info": {
   "codemirror_mode": {
    "name": "ipython",
    "version": 2
   },
   "file_extension": ".py",
   "mimetype": "text/x-python",
   "name": "python",
   "nbconvert_exporter": "python",
   "pygments_lexer": "ipython2",
   "version": "2.7.6"
  }
 },
 "nbformat": 4,
 "nbformat_minor": 0
}