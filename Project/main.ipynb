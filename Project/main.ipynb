{
 "cells": [
  {
   "cell_type": "code",
   "execution_count": 1,
   "metadata": {
    "collapsed": true
   },
   "outputs": [],
   "source": [
    "import numpy as np\n",
    "import pandas as pd\n",
    "import nltk\n",
    "\n",
    "pd.set_option('display.max_columns', 500)"
   ]
  },
  {
   "cell_type": "markdown",
   "source": [
    "# Przetwarzanie zbioru danych"
   ],
   "metadata": {
    "collapsed": false
   }
  },
  {
   "cell_type": "markdown",
   "source": [
    "Wczytanie zbioru danych"
   ],
   "metadata": {
    "collapsed": false
   }
  },
  {
   "cell_type": "code",
   "execution_count": 2,
   "outputs": [
    {
     "data": {
      "text/plain": "       reviewerID        asin         reviewerName helpful  \\\n0  A35C43YE9HU9CN  B0064X7B4A          Joan Miller  [0, 0]   \n1   AHFS8CGWWXB5B  B00H1P4V3E       WASH ST. GAMER  [3, 4]   \n2  A3EW8OTQ90NVHM  B00CLVW82O      Kindle Customer  [0, 4]   \n3   AJ3GHFJY1IUTD  B007T9WVKM         BrawlMaster4  [0, 2]   \n4  A3JJGBS4EL603S  B00J206J5E  K. Wilson \"thesupe\"  [0, 0]   \n\n                                          reviewText  \\\n0  I have decided not to play this game.  I can't...   \n1  The Amazon Appstore free app of the day for Ju...   \n2  this game was so mush fun I wish I could play ...   \n3  Its pretty fun and very good looking,  but you...   \n4  good graphics; immersive storyline; hard to st...   \n\n                                             summary  unixReviewTime  \\\n0                                            Friends      1396396800   \n1  Amazon Makes This \"Longest Spring Ever\" for Fi...      1402272000   \n2                                               best      1368921600   \n3                                           Fun Game      1350172800   \n4                                        great game!      1396915200   \n\n    reviewTime  score  \n0   04 2, 2014    1.0  \n1   06 9, 2014    2.0  \n2  05 19, 2013    5.0  \n3  10 14, 2012    5.0  \n4   04 8, 2014    5.0  ",
      "text/html": "<div>\n<style scoped>\n    .dataframe tbody tr th:only-of-type {\n        vertical-align: middle;\n    }\n\n    .dataframe tbody tr th {\n        vertical-align: top;\n    }\n\n    .dataframe thead th {\n        text-align: right;\n    }\n</style>\n<table border=\"1\" class=\"dataframe\">\n  <thead>\n    <tr style=\"text-align: right;\">\n      <th></th>\n      <th>reviewerID</th>\n      <th>asin</th>\n      <th>reviewerName</th>\n      <th>helpful</th>\n      <th>reviewText</th>\n      <th>summary</th>\n      <th>unixReviewTime</th>\n      <th>reviewTime</th>\n      <th>score</th>\n    </tr>\n  </thead>\n  <tbody>\n    <tr>\n      <th>0</th>\n      <td>A35C43YE9HU9CN</td>\n      <td>B0064X7B4A</td>\n      <td>Joan Miller</td>\n      <td>[0, 0]</td>\n      <td>I have decided not to play this game.  I can't...</td>\n      <td>Friends</td>\n      <td>1396396800</td>\n      <td>04 2, 2014</td>\n      <td>1.0</td>\n    </tr>\n    <tr>\n      <th>1</th>\n      <td>AHFS8CGWWXB5B</td>\n      <td>B00H1P4V3E</td>\n      <td>WASH ST. GAMER</td>\n      <td>[3, 4]</td>\n      <td>The Amazon Appstore free app of the day for Ju...</td>\n      <td>Amazon Makes This \"Longest Spring Ever\" for Fi...</td>\n      <td>1402272000</td>\n      <td>06 9, 2014</td>\n      <td>2.0</td>\n    </tr>\n    <tr>\n      <th>2</th>\n      <td>A3EW8OTQ90NVHM</td>\n      <td>B00CLVW82O</td>\n      <td>Kindle Customer</td>\n      <td>[0, 4]</td>\n      <td>this game was so mush fun I wish I could play ...</td>\n      <td>best</td>\n      <td>1368921600</td>\n      <td>05 19, 2013</td>\n      <td>5.0</td>\n    </tr>\n    <tr>\n      <th>3</th>\n      <td>AJ3GHFJY1IUTD</td>\n      <td>B007T9WVKM</td>\n      <td>BrawlMaster4</td>\n      <td>[0, 2]</td>\n      <td>Its pretty fun and very good looking,  but you...</td>\n      <td>Fun Game</td>\n      <td>1350172800</td>\n      <td>10 14, 2012</td>\n      <td>5.0</td>\n    </tr>\n    <tr>\n      <th>4</th>\n      <td>A3JJGBS4EL603S</td>\n      <td>B00J206J5E</td>\n      <td>K. Wilson \"thesupe\"</td>\n      <td>[0, 0]</td>\n      <td>good graphics; immersive storyline; hard to st...</td>\n      <td>great game!</td>\n      <td>1396915200</td>\n      <td>04 8, 2014</td>\n      <td>5.0</td>\n    </tr>\n  </tbody>\n</table>\n</div>"
     },
     "execution_count": 2,
     "metadata": {},
     "output_type": "execute_result"
    }
   ],
   "source": [
    "df = pd.read_csv(\"reviews_train.csv\", nrows=100)\n",
    "df.head()"
   ],
   "metadata": {
    "collapsed": false,
    "pycharm": {
     "name": "#%%\n"
    }
   }
  },
  {
   "cell_type": "markdown",
   "source": [
    "Wstępne przetwarzanie danych"
   ],
   "metadata": {
    "collapsed": false
   }
  },
  {
   "cell_type": "code",
   "execution_count": 3,
   "outputs": [
    {
     "name": "stdout",
     "output_type": "stream",
     "text": [
      "0\n"
     ]
    },
    {
     "data": {
      "text/plain": "   reviewerID  asin  reviewerName helpful  \\\n0          48    24            30  [0, 0]   \n1          83    93            73  [3, 4]   \n2          53    75            39  [0, 4]   \n3          86    41             9  [0, 2]   \n4          59    94            34  [0, 0]   \n\n                                          reviewText  \\\n0  I have decided not to play this game.  I can't...   \n1  The Amazon Appstore free app of the day for Ju...   \n2  this game was so mush fun I wish I could play ...   \n3  Its pretty fun and very good looking,  but you...   \n4  good graphics; immersive storyline; hard to st...   \n\n                                             summary  unixReviewTime  score  \n0                                            Friends      1396396800    1.0  \n1  Amazon Makes This \"Longest Spring Ever\" for Fi...      1402272000    2.0  \n2                                               best      1368921600    5.0  \n3                                           Fun Game      1350172800    5.0  \n4                                        great game!      1396915200    5.0  ",
      "text/html": "<div>\n<style scoped>\n    .dataframe tbody tr th:only-of-type {\n        vertical-align: middle;\n    }\n\n    .dataframe tbody tr th {\n        vertical-align: top;\n    }\n\n    .dataframe thead th {\n        text-align: right;\n    }\n</style>\n<table border=\"1\" class=\"dataframe\">\n  <thead>\n    <tr style=\"text-align: right;\">\n      <th></th>\n      <th>reviewerID</th>\n      <th>asin</th>\n      <th>reviewerName</th>\n      <th>helpful</th>\n      <th>reviewText</th>\n      <th>summary</th>\n      <th>unixReviewTime</th>\n      <th>score</th>\n    </tr>\n  </thead>\n  <tbody>\n    <tr>\n      <th>0</th>\n      <td>48</td>\n      <td>24</td>\n      <td>30</td>\n      <td>[0, 0]</td>\n      <td>I have decided not to play this game.  I can't...</td>\n      <td>Friends</td>\n      <td>1396396800</td>\n      <td>1.0</td>\n    </tr>\n    <tr>\n      <th>1</th>\n      <td>83</td>\n      <td>93</td>\n      <td>73</td>\n      <td>[3, 4]</td>\n      <td>The Amazon Appstore free app of the day for Ju...</td>\n      <td>Amazon Makes This \"Longest Spring Ever\" for Fi...</td>\n      <td>1402272000</td>\n      <td>2.0</td>\n    </tr>\n    <tr>\n      <th>2</th>\n      <td>53</td>\n      <td>75</td>\n      <td>39</td>\n      <td>[0, 4]</td>\n      <td>this game was so mush fun I wish I could play ...</td>\n      <td>best</td>\n      <td>1368921600</td>\n      <td>5.0</td>\n    </tr>\n    <tr>\n      <th>3</th>\n      <td>86</td>\n      <td>41</td>\n      <td>9</td>\n      <td>[0, 2]</td>\n      <td>Its pretty fun and very good looking,  but you...</td>\n      <td>Fun Game</td>\n      <td>1350172800</td>\n      <td>5.0</td>\n    </tr>\n    <tr>\n      <th>4</th>\n      <td>59</td>\n      <td>94</td>\n      <td>34</td>\n      <td>[0, 0]</td>\n      <td>good graphics; immersive storyline; hard to st...</td>\n      <td>great game!</td>\n      <td>1396915200</td>\n      <td>5.0</td>\n    </tr>\n  </tbody>\n</table>\n</div>"
     },
     "execution_count": 3,
     "metadata": {},
     "output_type": "execute_result"
    }
   ],
   "source": [
    "import json\n",
    "from sklearn.preprocessing import LabelEncoder\n",
    "\n",
    "# df['helpful'] = df['helpful'].str.replace(\"[\", \"\")\n",
    "# df['helpful'] = df['helpful'].str.replace(\"]\", \"\")\n",
    "# df[['helpfulP', 'helpfulN']] = df['helpful'].str.split(',', 1, expand=True)\n",
    "# df['helpfulP'] = pd.to_numeric(df['helpfulP'])\n",
    "# df['helpfulN'] = pd.to_numeric(df['helpfulN'])\n",
    "# df = df.drop('helpful', axis=1)\n",
    "# df.head()\n",
    "\n",
    "# df['helpful'] = df['helpful'].str.replace(\"[\", \"\")\n",
    "# df['helpful'] = df['helpful'].str.replace(\"]\", \"\")\n",
    "# df[['helpfulP', 'helpfulN']] = df['helpful'].str.split(',', 1, expand=True)\n",
    "# df['helpful'] = df['helpful'].astype(object)\n",
    "\n",
    "# Wczytanie zmiana typu kolumny na taki użyteczny dla klasyfikatora.\n",
    "for i, val in df.iterrows():\n",
    "    val['helpful'] = json.loads(val['helpful'])\n",
    "\n",
    "# Odrzucanie niepełnych kolumn, ponieważ są one nieznaczną częścią pełnego zbioru.\n",
    "print(len(df) - len(df.dropna()))\n",
    "df = df.dropna()\n",
    "\n",
    "# Kodowanie cech tekstowych na liczbowe\n",
    "encoders = {}\n",
    "for col in ['reviewerID','asin','reviewerName', 'reviewTime']:\n",
    "    enc = LabelEncoder().fit(df[col])\n",
    "    df[col] = enc.transform(df[col])\n",
    "    encoders.update({col:enc})\n",
    "\n",
    "# Odrzucenie cechy reviewTime, ponieważ oznacza ona to samo co unixReviewTime a jest mniej praktyczna\n",
    "df.drop(\"reviewTime\", axis=1, inplace=True)\n",
    "\n",
    "df.head()"
   ],
   "metadata": {
    "collapsed": false,
    "pycharm": {
     "name": "#%%\n"
    }
   }
  },
  {
   "cell_type": "markdown",
   "source": [
    "Podstawowe informacje o zbiorze"
   ],
   "metadata": {
    "collapsed": false
   }
  },
  {
   "cell_type": "code",
   "execution_count": 4,
   "outputs": [
    {
     "name": "stdout",
     "output_type": "stream",
     "text": [
      "---Dataset description---\n",
      "        reviewerID        asin  reviewerName  unixReviewTime       score\n",
      "count  100.000000  100.000000     100.00000    1.000000e+02  100.000000\n",
      "mean    48.590000   46.480000      49.37000    1.364138e+09    4.010000\n",
      "std     28.869996   27.823571      28.81591    2.749736e+07    1.381662\n",
      "min      0.000000    0.000000       0.00000    1.306368e+09    1.000000\n",
      "25%     23.750000   22.750000      24.75000    1.338379e+09    3.000000\n",
      "50%     48.500000   45.500000      49.50000    1.368360e+09    5.000000\n",
      "75%     73.250000   70.250000      74.25000    1.388642e+09    5.000000\n",
      "max     98.000000   95.000000      98.00000    1.405987e+09    5.000000\n",
      "---Correlation Matrix---\n",
      "                 reviewerID      asin  reviewerName  unixReviewTime     score\n",
      "reviewerID        1.000000 -0.170206     -0.029381       -0.248989  0.119629\n",
      "asin             -0.170206  1.000000     -0.125277        0.636796 -0.036912\n",
      "reviewerName     -0.029381 -0.125277      1.000000       -0.145153 -0.112993\n",
      "unixReviewTime   -0.248989  0.636796     -0.145153        1.000000 -0.178984\n",
      "score             0.119629 -0.036912     -0.112993       -0.178984  1.000000\n"
     ]
    }
   ],
   "source": [
    "print(\"---Dataset description---\\n\", df.describe())\n",
    "print( \"---Correlation Matrix---\\n\", df.corr())"
   ],
   "metadata": {
    "collapsed": false,
    "pycharm": {
     "name": "#%%\n"
    }
   }
  },
  {
   "cell_type": "markdown",
   "source": [
    "# Przetwarzanie języka"
   ],
   "metadata": {
    "collapsed": false
   }
  },
  {
   "cell_type": "markdown",
   "source": [
    "Tokenizacja oraz stemming"
   ],
   "metadata": {
    "collapsed": false
   }
  },
  {
   "cell_type": "code",
   "execution_count": 5,
   "outputs": [
    {
     "data": {
      "text/plain": "[('.', 225),\n ('it', 152),\n ('the', 133),\n ('i', 129),\n ('to', 112),\n (',', 105),\n ('and', 93),\n ('thi', 85),\n ('game', 80),\n ('!', 80),\n ('a', 75),\n ('is', 67),\n ('for', 62),\n ('you', 52),\n ('of', 48),\n ('play', 39),\n ('get', 38),\n ('have', 37),\n ('app', 37),\n ('on', 37),\n ('not', 36),\n ('my', 35),\n ('but', 33),\n (';', 32),\n ('so', 31),\n ('fun', 29),\n ('with', 28),\n ('that', 25),\n ('love', 25),\n ('&', 25),\n ('one', 23),\n (\"n't\", 22),\n ('do', 22),\n ('fire', 21),\n (\"'s\", 21),\n ('in', 20),\n ('great', 19),\n ('work', 19),\n ('u', 18),\n ('if', 18),\n ('are', 17),\n ('like', 17),\n ('time', 17),\n ('or', 15),\n ('other', 15),\n ('your', 15),\n ('kindl', 15),\n ('me', 15),\n ('would', 15),\n ('as', 14)]"
     },
     "execution_count": 5,
     "metadata": {},
     "output_type": "execute_result"
    }
   ],
   "source": [
    "def get_stems(word: str):\n",
    "    tokens = nltk.word_tokenize(word)\n",
    "\n",
    "    porter = nltk.PorterStemmer()\n",
    "    for i in range(len(tokens)):\n",
    "        tokens[i] = porter.stem(tokens[i])\n",
    "\n",
    "    return tokens\n",
    "\n",
    "from collections import Counter\n",
    "import re\n",
    "\n",
    "words = Counter()\n",
    "for i in df['reviewText'].index:\n",
    "    words.update(get_stems(df['reviewText'][i]))\n",
    "\n",
    "# words.most_common(50)"
   ],
   "metadata": {
    "collapsed": false,
    "pycharm": {
     "name": "#%%\n"
    }
   }
  },
  {
   "cell_type": "markdown",
   "source": [],
   "metadata": {
    "collapsed": false
   }
  },
  {
   "cell_type": "markdown",
   "source": [
    "Przetwarzanie uzyskanych stemmów."
   ],
   "metadata": {
    "collapsed": false
   }
  },
  {
   "cell_type": "code",
   "execution_count": 6,
   "outputs": [],
   "source": [
    "for w in list(words):\n",
    "    if re.search(\"\\W\", w) is not None:\n",
    "        del words[w]\n",
    "\n",
    "# words.most_common(50)\n",
    "\n",
    "# nltk.corpus.stopwords.words('english')\n",
    "### Rozważyć wywalanie not\n",
    "stopwords = [\"a\", \"about\", \"after\", \"all\", \"am\", \"an\", \"and\", \"any\", \"are\", \"as\", \"at\", \"be\", \"because\", \"been\",\n",
    "             \"before\", \"being\", \"between\", \"both\", \"by\", \"could\", \"did\", \"do\", \"does\", \"doing\", \"during\", \"each\",\n",
    "             \"for\", \"from\", \"further\", \"had\", \"has\", \"have\", \"having\", \"he\", \"her\", \"here\", \"hers\", \"herself\", \"him\",\n",
    "             \"himself\", \"his\", \"how\", \"i\", \"in\", \"into\", \"is\", \"it\", \"its\", \"itself\", \"let\", \"me\", \"more\", \"most\", \"my\",\n",
    "             \"myself\", \"of\", \"on\", \"once\", \"only\", \"or\", \"other\", \"ought\", \"our\", \"ours\", \"ourselves\", \"own\", \"sha\",\n",
    "             \"she\", \"should\", \"so\", \"some\", \"such\", \"than\", \"that\", \"the\", \"their\", \"theirs\", \"them\", \"themselves\",\n",
    "             \"then\", \"there\", \"there's\", \"these\", \"they\", \"this\", \"those\", \"through\", \"to\", \"until\", \"up\", \"very\",\n",
    "             \"was\", \"we\", \"were\", \"what\", \"when\", \"where\", \"which\", \"while\", \"who\", \"whom\", \"with\", \"would\", \"you\",\n",
    "             \"your\", \"yours\", \"yourself\", \"yourselves\",\n",
    "             \"n't\", \"'s\", \"'ll\", \"'re\", \"'d\", \"'m\", \"'ve\",\n",
    "             \"above\", \"again\", \"against\", \"below\", \"but\", \"cannot\", \"down\", \"few\", \"if\", \"no\", \"nor\", \"not\", \"off\",\n",
    "             \"out\", \"over\", \"same\", \"too\", \"under\", \"why\"]\n",
    "\n",
    "for w in stopwords:\n",
    "    if w in words:\n",
    "        del words[w]\n",
    "\n",
    "# words.most_common(50)\n",
    "\n",
    "# wywalanie najrzadszych tokenów\n",
    "max_words = 50\n",
    "for i in list(range(len(words)))[max_words:]:\n",
    "    del words[i]\n",
    "\n",
    "# words.most_common(50)"
   ],
   "metadata": {
    "collapsed": false,
    "pycharm": {
     "name": "#%%\n"
    }
   }
  },
  {
   "cell_type": "markdown",
   "source": [
    "Tworzenie wektora Bag Of Words"
   ],
   "metadata": {
    "collapsed": false
   }
  },
  {
   "cell_type": "code",
   "execution_count": 7,
   "outputs": [],
   "source": [
    "from scipy.sparse import csr_matrix\n",
    "\n",
    "#BOW\n",
    "# def create_bow(documents, features):\n",
    "#     row = []\n",
    "#     col = []\n",
    "#     data = []\n",
    "#\n",
    "#     labels = []\n",
    "#\n",
    "#     for i in documents.index:\n",
    "#         tweet_tokens = get_stems(documents[i])\n",
    "#\n",
    "#         labels.append(label)\n",
    "#         for token in set(tweet_tokens):\n",
    "#             if token not in features:\n",
    "#                 continue\n",
    "#             row.append(i)\n",
    "#             col.append(features[token])\n",
    "#             data.append(1)\n",
    "#     return csr_matrix((data, (row, col)), shape=(len(documents), len(features))), labels\n",
    "\n",
    "min_word_count = 5\n",
    "\n",
    "common_words = list([k for k, v in words.most_common() if v > min_word_count])\n",
    "\n",
    "feature_dict = {}\n",
    "for word in common_words:\n",
    "    feature_dict[word] = len(feature_dict)\n",
    "\n",
    "# X_train, y_train = create_bow(train_tweets, feature_dict)"
   ],
   "metadata": {
    "collapsed": false,
    "pycharm": {
     "name": "#%%\n"
    }
   }
  },
  {
   "cell_type": "code",
   "execution_count": 8,
   "outputs": [
    {
     "data": {
      "text/plain": "   reviewerID  asin  reviewerName helpful                        reviewText  \\\n0          48    24            30  [0, 0]    [0, 0, 1, 0, 1, 1, 0, 1, 2, 0]   \n1          83    93            73  [3, 4]  [7, 6, 3, 3, 5, 6, 18, 10, 9, 0]   \n2          53    75            39  [0, 4]    [0, 1, 1, 0, 1, 0, 0, 1, 1, 1]   \n3          86    41             9  [0, 2]    [1, 1, 1, 0, 0, 0, 0, 0, 1, 1]   \n4          59    94            34  [0, 0]    [1, 1, 0, 0, 0, 0, 0, 0, 2, 1]   \n\n                          summary  unixReviewTime  score  \n0  [0, 0, 0, 0, 0, 0, 0, 0, 0, 0]      1396396800    1.0  \n1  [1, 1, 0, 0, 0, 0, 0, 1, 2, 0]      1402272000    2.0  \n2  [0, 0, 0, 0, 0, 0, 0, 0, 0, 0]      1368921600    5.0  \n3  [0, 0, 1, 1, 0, 0, 0, 0, 0, 0]      1350172800    5.0  \n4  [0, 0, 0, 1, 1, 0, 0, 0, 0, 0]      1396915200    5.0  ",
      "text/html": "<div>\n<style scoped>\n    .dataframe tbody tr th:only-of-type {\n        vertical-align: middle;\n    }\n\n    .dataframe tbody tr th {\n        vertical-align: top;\n    }\n\n    .dataframe thead th {\n        text-align: right;\n    }\n</style>\n<table border=\"1\" class=\"dataframe\">\n  <thead>\n    <tr style=\"text-align: right;\">\n      <th></th>\n      <th>reviewerID</th>\n      <th>asin</th>\n      <th>reviewerName</th>\n      <th>helpful</th>\n      <th>reviewText</th>\n      <th>summary</th>\n      <th>unixReviewTime</th>\n      <th>score</th>\n    </tr>\n  </thead>\n  <tbody>\n    <tr>\n      <th>0</th>\n      <td>48</td>\n      <td>24</td>\n      <td>30</td>\n      <td>[0, 0]</td>\n      <td>[0, 0, 1, 0, 1, 1, 0, 1, 2, 0]</td>\n      <td>[0, 0, 0, 0, 0, 0, 0, 0, 0, 0]</td>\n      <td>1396396800</td>\n      <td>1.0</td>\n    </tr>\n    <tr>\n      <th>1</th>\n      <td>83</td>\n      <td>93</td>\n      <td>73</td>\n      <td>[3, 4]</td>\n      <td>[7, 6, 3, 3, 5, 6, 18, 10, 9, 0]</td>\n      <td>[1, 1, 0, 0, 0, 0, 0, 1, 2, 0]</td>\n      <td>1402272000</td>\n      <td>2.0</td>\n    </tr>\n    <tr>\n      <th>2</th>\n      <td>53</td>\n      <td>75</td>\n      <td>39</td>\n      <td>[0, 4]</td>\n      <td>[0, 1, 1, 0, 1, 0, 0, 1, 1, 1]</td>\n      <td>[0, 0, 0, 0, 0, 0, 0, 0, 0, 0]</td>\n      <td>1368921600</td>\n      <td>5.0</td>\n    </tr>\n    <tr>\n      <th>3</th>\n      <td>86</td>\n      <td>41</td>\n      <td>9</td>\n      <td>[0, 2]</td>\n      <td>[1, 1, 1, 0, 0, 0, 0, 0, 1, 1]</td>\n      <td>[0, 0, 1, 1, 0, 0, 0, 0, 0, 0]</td>\n      <td>1350172800</td>\n      <td>5.0</td>\n    </tr>\n    <tr>\n      <th>4</th>\n      <td>59</td>\n      <td>94</td>\n      <td>34</td>\n      <td>[0, 0]</td>\n      <td>[1, 1, 0, 0, 0, 0, 0, 0, 2, 1]</td>\n      <td>[0, 0, 0, 1, 1, 0, 0, 0, 0, 0]</td>\n      <td>1396915200</td>\n      <td>5.0</td>\n    </tr>\n  </tbody>\n</table>\n</div>"
     },
     "execution_count": 8,
     "metadata": {},
     "output_type": "execute_result"
    }
   ],
   "source": [
    "from sklearn.feature_extraction.text import CountVectorizer\n",
    "\n",
    "vectorizer = CountVectorizer(max_features=10)\n",
    "\n",
    "df['reviewText'] = vectorizer.fit_transform(df['reviewText']).toarray().tolist()\n",
    "df['summary'] = vectorizer.fit_transform(df['summary']).toarray().tolist()\n",
    "\n",
    "df.head()"
   ],
   "metadata": {
    "collapsed": false,
    "pycharm": {
     "name": "#%%\n"
    }
   }
  },
  {
   "cell_type": "markdown",
   "source": [
    "# Uczenie modelu"
   ],
   "metadata": {
    "collapsed": false
   }
  },
  {
   "cell_type": "code",
   "execution_count": null,
   "outputs": [],
   "source": [
    "from sklearn.model_selection import GridSearchCV, train_test_split\n",
    "from sklearn.ensemble import RandomForestClassifier\n",
    "\n",
    "y = df[\"score\"]\n",
    "X = df[list(set(df.columns) - {\"score\"})]\n",
    "\n",
    "X_train, X_test, y_train, y_test = train_test_split(X, y, test_size=0.33, random_state=42)\n",
    "\n",
    "clf = RandomForestClassifier(n_estimators=300, n_jobs=-1, random_state=23)\n",
    "clf.fit(X_train, y_train)\n",
    "\n",
    "# Tutaj hiperparametry\n",
    "# grid = GridSearchCV()"
   ],
   "metadata": {
    "collapsed": false,
    "pycharm": {
     "name": "#%%\n",
     "is_executing": true
    }
   }
  },
  {
   "cell_type": "markdown",
   "source": [
    "Rezultaty klasyfikacji i porównania z algorytmem większościowym oraz losowym."
   ],
   "metadata": {
    "collapsed": false,
    "pycharm": {
     "name": "#%% md\n"
    }
   }
  },
  {
   "cell_type": "code",
   "execution_count": null,
   "outputs": [
    {
     "name": "stdout",
     "output_type": "stream",
     "text": [
      "=================== Results: RandomClassifier ===================\n",
      "            [4. 3. 5. 1. 2.]   \n",
      "F1        [0.18181818 0.22222222 0.32       0.16666667 0.        ]\n",
      "Precision [0.14285714 0.25       0.66666667 0.11111111 0.        ]\n",
      "Recall    [0.25       0.2        0.21052632 0.33333333 0.        ]\n",
      "=================== Results: MajorityClassifier ===================\n",
      "            [4. 3. 5. 1. 2.]   \n",
      "ERROR! Session/line number was not unique in database. History logging moved to new session 51\n",
      "F1        [0.         0.         0.73076923 0.         0.        ]\n",
      "Precision [0.         0.         0.57575758 0.         0.        ]\n",
      "Recall    [0. 0. 1. 0. 0.]\n"
     ]
    },
    {
     "name": "stderr",
     "output_type": "stream",
     "text": [
      "c:\\users\\festo\\onedrive - put.poznan.pl\\semestr ix\\emd\\emd-python\\venv\\lib\\site-packages\\sklearn\\metrics\\_classification.py:1318: UndefinedMetricWarning: Precision is ill-defined and being set to 0.0 in labels with no predicted samples. Use `zero_division` parameter to control this behavior.\n",
      "  _warn_prf(average, modifier, msg_start, len(result))\n"
     ]
    }
   ],
   "source": [
    "import random\n",
    "from sklearn.metrics import f1_score, precision_score, recall_score\n",
    "\n",
    "list_of_labels = y_train.unique()\n",
    "\n",
    "\n",
    "def scores(y_true, y_pred, name=None):\n",
    "    print(f\"=================== Results: {name} ===================\")\n",
    "    print(f\"            {list_of_labels}   \")\n",
    "    print(\"F1       \", f1_score(y_true, y_pred, average=None, pos_label=None, labels=list_of_labels))\n",
    "    print(\"Precision\", precision_score(y_true, y_pred, average=None, pos_label=None, labels=list_of_labels))\n",
    "    print(\"Recall   \", recall_score(y_true, y_pred, average=None, pos_label=None, labels=list_of_labels))\n",
    "\n",
    "\n",
    "y_pred_random, y_pred_majority = [],[]\n",
    "majority_label = y_train.value_counts().index[0]\n",
    "\n",
    "for _ in range(len(X_test)):\n",
    "    y_pred_random.append(random.choice(list_of_labels))\n",
    "    y_pred_majority.append(majority_label)\n",
    "\n",
    "scores(y_test, y_pred_random, \"RandomClassifier\")\n",
    "scores(y_test, y_pred_majority, \"MajorityClassifier\")\n",
    "scores(y_test, clf.predict(X_test), \"Trained Classifier\")"
   ],
   "metadata": {
    "collapsed": false,
    "pycharm": {
     "name": "#%%\n",
     "is_executing": true
    }
   }
  }
 ],
 "metadata": {
  "kernelspec": {
   "display_name": "Python 3",
   "language": "python",
   "name": "python3"
  },
  "language_info": {
   "codemirror_mode": {
    "name": "ipython",
    "version": 2
   },
   "file_extension": ".py",
   "mimetype": "text/x-python",
   "name": "python",
   "nbconvert_exporter": "python",
   "pygments_lexer": "ipython2",
   "version": "2.7.6"
  }
 },
 "nbformat": 4,
 "nbformat_minor": 0
}