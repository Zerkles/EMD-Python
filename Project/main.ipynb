{
 "cells": [
  {
   "cell_type": "code",
   "execution_count": 46,
   "metadata": {
    "collapsed": true
   },
   "outputs": [],
   "source": [
    "import numpy as np\n",
    "import pandas as pd\n",
    "import nltk\n",
    "\n",
    "pd.set_option('display.max_columns', 500)"
   ]
  },
  {
   "cell_type": "markdown",
   "source": [
    "# Przetwarzanie zbioru danych"
   ],
   "metadata": {
    "collapsed": false
   }
  },
  {
   "cell_type": "markdown",
   "source": [
    "Wczytanie zbioru danych"
   ],
   "metadata": {
    "collapsed": false
   }
  },
  {
   "cell_type": "code",
   "execution_count": 47,
   "outputs": [
    {
     "data": {
      "text/plain": "       reviewerID        asin         reviewerName helpful  \\\n0  A35C43YE9HU9CN  B0064X7B4A          Joan Miller  [0, 0]   \n1   AHFS8CGWWXB5B  B00H1P4V3E       WASH ST. GAMER  [3, 4]   \n2  A3EW8OTQ90NVHM  B00CLVW82O      Kindle Customer  [0, 4]   \n3   AJ3GHFJY1IUTD  B007T9WVKM         BrawlMaster4  [0, 2]   \n4  A3JJGBS4EL603S  B00J206J5E  K. Wilson \"thesupe\"  [0, 0]   \n\n                                          reviewText  \\\n0  I have decided not to play this game.  I can't...   \n1  The Amazon Appstore free app of the day for Ju...   \n2  this game was so mush fun I wish I could play ...   \n3  Its pretty fun and very good looking,  but you...   \n4  good graphics; immersive storyline; hard to st...   \n\n                                             summary  unixReviewTime  \\\n0                                            Friends      1396396800   \n1  Amazon Makes This \"Longest Spring Ever\" for Fi...      1402272000   \n2                                               best      1368921600   \n3                                           Fun Game      1350172800   \n4                                        great game!      1396915200   \n\n    reviewTime  score  \n0   04 2, 2014    1.0  \n1   06 9, 2014    2.0  \n2  05 19, 2013    5.0  \n3  10 14, 2012    5.0  \n4   04 8, 2014    5.0  ",
      "text/html": "<div>\n<style scoped>\n    .dataframe tbody tr th:only-of-type {\n        vertical-align: middle;\n    }\n\n    .dataframe tbody tr th {\n        vertical-align: top;\n    }\n\n    .dataframe thead th {\n        text-align: right;\n    }\n</style>\n<table border=\"1\" class=\"dataframe\">\n  <thead>\n    <tr style=\"text-align: right;\">\n      <th></th>\n      <th>reviewerID</th>\n      <th>asin</th>\n      <th>reviewerName</th>\n      <th>helpful</th>\n      <th>reviewText</th>\n      <th>summary</th>\n      <th>unixReviewTime</th>\n      <th>reviewTime</th>\n      <th>score</th>\n    </tr>\n  </thead>\n  <tbody>\n    <tr>\n      <th>0</th>\n      <td>A35C43YE9HU9CN</td>\n      <td>B0064X7B4A</td>\n      <td>Joan Miller</td>\n      <td>[0, 0]</td>\n      <td>I have decided not to play this game.  I can't...</td>\n      <td>Friends</td>\n      <td>1396396800</td>\n      <td>04 2, 2014</td>\n      <td>1.0</td>\n    </tr>\n    <tr>\n      <th>1</th>\n      <td>AHFS8CGWWXB5B</td>\n      <td>B00H1P4V3E</td>\n      <td>WASH ST. GAMER</td>\n      <td>[3, 4]</td>\n      <td>The Amazon Appstore free app of the day for Ju...</td>\n      <td>Amazon Makes This \"Longest Spring Ever\" for Fi...</td>\n      <td>1402272000</td>\n      <td>06 9, 2014</td>\n      <td>2.0</td>\n    </tr>\n    <tr>\n      <th>2</th>\n      <td>A3EW8OTQ90NVHM</td>\n      <td>B00CLVW82O</td>\n      <td>Kindle Customer</td>\n      <td>[0, 4]</td>\n      <td>this game was so mush fun I wish I could play ...</td>\n      <td>best</td>\n      <td>1368921600</td>\n      <td>05 19, 2013</td>\n      <td>5.0</td>\n    </tr>\n    <tr>\n      <th>3</th>\n      <td>AJ3GHFJY1IUTD</td>\n      <td>B007T9WVKM</td>\n      <td>BrawlMaster4</td>\n      <td>[0, 2]</td>\n      <td>Its pretty fun and very good looking,  but you...</td>\n      <td>Fun Game</td>\n      <td>1350172800</td>\n      <td>10 14, 2012</td>\n      <td>5.0</td>\n    </tr>\n    <tr>\n      <th>4</th>\n      <td>A3JJGBS4EL603S</td>\n      <td>B00J206J5E</td>\n      <td>K. Wilson \"thesupe\"</td>\n      <td>[0, 0]</td>\n      <td>good graphics; immersive storyline; hard to st...</td>\n      <td>great game!</td>\n      <td>1396915200</td>\n      <td>04 8, 2014</td>\n      <td>5.0</td>\n    </tr>\n  </tbody>\n</table>\n</div>"
     },
     "execution_count": 47,
     "metadata": {},
     "output_type": "execute_result"
    }
   ],
   "source": [
    "df = pd.read_csv(\"reviews_train.csv\")\n",
    "df.head()"
   ],
   "metadata": {
    "collapsed": false,
    "pycharm": {
     "name": "#%%\n"
    }
   }
  },
  {
   "cell_type": "markdown",
   "source": [
    "Wstępne przetwarzanie danych"
   ],
   "metadata": {
    "collapsed": false
   }
  },
  {
   "cell_type": "code",
   "execution_count": 48,
   "outputs": [
    {
     "name": "stdout",
     "output_type": "stream",
     "text": [
      "46\n"
     ]
    },
    {
     "data": {
      "text/plain": "   reviewerID   asin  reviewerName helpful  \\\n0       49575   2329         23869  [0, 0]   \n1       75353  11888         50411  [3, 4]   \n2       55654   9330         27625  [0, 4]   \n3       76417   4425          6657  [0, 2]   \n4       58548  12778         25658  [0, 0]   \n\n                                          reviewText  \\\n0  I have decided not to play this game.  I can't...   \n1  The Amazon Appstore free app of the day for Ju...   \n2  this game was so mush fun I wish I could play ...   \n3  Its pretty fun and very good looking,  but you...   \n4  good graphics; immersive storyline; hard to st...   \n\n                                             summary  unixReviewTime  score  \n0                                            Friends      1396396800    1.0  \n1  Amazon Makes This \"Longest Spring Ever\" for Fi...      1402272000    2.0  \n2                                               best      1368921600    5.0  \n3                                           Fun Game      1350172800    5.0  \n4                                        great game!      1396915200    5.0  ",
      "text/html": "<div>\n<style scoped>\n    .dataframe tbody tr th:only-of-type {\n        vertical-align: middle;\n    }\n\n    .dataframe tbody tr th {\n        vertical-align: top;\n    }\n\n    .dataframe thead th {\n        text-align: right;\n    }\n</style>\n<table border=\"1\" class=\"dataframe\">\n  <thead>\n    <tr style=\"text-align: right;\">\n      <th></th>\n      <th>reviewerID</th>\n      <th>asin</th>\n      <th>reviewerName</th>\n      <th>helpful</th>\n      <th>reviewText</th>\n      <th>summary</th>\n      <th>unixReviewTime</th>\n      <th>score</th>\n    </tr>\n  </thead>\n  <tbody>\n    <tr>\n      <th>0</th>\n      <td>49575</td>\n      <td>2329</td>\n      <td>23869</td>\n      <td>[0, 0]</td>\n      <td>I have decided not to play this game.  I can't...</td>\n      <td>Friends</td>\n      <td>1396396800</td>\n      <td>1.0</td>\n    </tr>\n    <tr>\n      <th>1</th>\n      <td>75353</td>\n      <td>11888</td>\n      <td>50411</td>\n      <td>[3, 4]</td>\n      <td>The Amazon Appstore free app of the day for Ju...</td>\n      <td>Amazon Makes This \"Longest Spring Ever\" for Fi...</td>\n      <td>1402272000</td>\n      <td>2.0</td>\n    </tr>\n    <tr>\n      <th>2</th>\n      <td>55654</td>\n      <td>9330</td>\n      <td>27625</td>\n      <td>[0, 4]</td>\n      <td>this game was so mush fun I wish I could play ...</td>\n      <td>best</td>\n      <td>1368921600</td>\n      <td>5.0</td>\n    </tr>\n    <tr>\n      <th>3</th>\n      <td>76417</td>\n      <td>4425</td>\n      <td>6657</td>\n      <td>[0, 2]</td>\n      <td>Its pretty fun and very good looking,  but you...</td>\n      <td>Fun Game</td>\n      <td>1350172800</td>\n      <td>5.0</td>\n    </tr>\n    <tr>\n      <th>4</th>\n      <td>58548</td>\n      <td>12778</td>\n      <td>25658</td>\n      <td>[0, 0]</td>\n      <td>good graphics; immersive storyline; hard to st...</td>\n      <td>great game!</td>\n      <td>1396915200</td>\n      <td>5.0</td>\n    </tr>\n  </tbody>\n</table>\n</div>"
     },
     "execution_count": 48,
     "metadata": {},
     "output_type": "execute_result"
    }
   ],
   "source": [
    "import json\n",
    "from sklearn.preprocessing import LabelEncoder\n",
    "\n",
    "# Wczytanie zmiana typu kolumny na taki użyteczny dla klasyfikatora.\n",
    "# for i, val in df.iterrows():\n",
    "#     # val['helpful'] = json.loads(val['helpful'])\n",
    "#     df.iloc[i]['helpful']= json.loads(val['helpful'])\n",
    "\n",
    "# Odrzucanie niepełnych wierszy, ponieważ są one nieznaczną częścią pełnego zbioru.\n",
    "print(\"Incomplete rows: \",len(df) - len(df.dropna()))\n",
    "df = df.dropna()\n",
    "\n",
    "# Odrzucenie cechy reviewTime, ponieważ oznacza ona to samo co unixReviewTime a jest mniej praktyczna\n",
    "df.drop(\"reviewTime\", axis=1, inplace=True)\n",
    "\n",
    "# Kodowanie cech tekstowych na liczbowe\n",
    "encoders = {}\n",
    "for col in ['reviewerID','asin','reviewerName']:\n",
    "    enc = LabelEncoder().fit(df[col])\n",
    "    df[col] = enc.transform(df[col])\n",
    "    encoders.update({col:enc})\n",
    "\n",
    "df.head()"
   ],
   "metadata": {
    "collapsed": false,
    "pycharm": {
     "name": "#%%\n"
    }
   }
  },
  {
   "cell_type": "markdown",
   "source": [
    "Podstawowe informacje o zbiorze"
   ],
   "metadata": {
    "collapsed": false
   }
  },
  {
   "cell_type": "code",
   "execution_count": 49,
   "outputs": [
    {
     "name": "stdout",
     "output_type": "stream",
     "text": [
      "---Dataset description---\n",
      "           reviewerID           asin   reviewerName  unixReviewTime  \\\n",
      "count  555745.000000  555745.000000  555745.000000    5.557450e+05   \n",
      "mean    43623.056312    6102.522288   35618.293870    1.368604e+09   \n",
      "std     25200.616434    3631.703504   21639.569796    2.353921e+07   \n",
      "min         0.000000       0.000000       0.000000    1.300752e+09   \n",
      "25%     21733.000000    2882.000000   16799.000000    1.354579e+09   \n",
      "50%     43564.000000    6102.000000   35062.000000    1.370650e+09   \n",
      "75%     65570.000000    9056.000000   54039.000000    1.388707e+09   \n",
      "max     87222.000000   13207.000000   74191.000000    1.406074e+09   \n",
      "\n",
      "               score  \n",
      "count  555745.000000  \n",
      "mean        3.945410  \n",
      "std         1.354681  \n",
      "min         1.000000  \n",
      "25%         3.000000  \n",
      "50%         5.000000  \n",
      "75%         5.000000  \n",
      "max         5.000000  \n",
      "---Correlation Matrix---\n",
      "                 reviewerID      asin  reviewerName  unixReviewTime     score\n",
      "reviewerID        1.000000 -0.002412     -0.003065       -0.000829  0.000903\n",
      "asin             -0.002412  1.000000      0.035691        0.628806  0.021607\n",
      "reviewerName     -0.003065  0.035691      1.000000       -0.005876  0.009066\n",
      "unixReviewTime   -0.000829  0.628806     -0.005876        1.000000  0.028396\n",
      "score             0.000903  0.021607      0.009066        0.028396  1.000000\n"
     ]
    }
   ],
   "source": [
    "print(\"---Dataset description---\\n\", df.describe())\n",
    "print( \"---Correlation Matrix---\\n\", df.corr())"
   ],
   "metadata": {
    "collapsed": false,
    "pycharm": {
     "name": "#%%\n"
    }
   }
  },
  {
   "cell_type": "markdown",
   "source": [],
   "metadata": {
    "collapsed": false
   }
  },
  {
   "cell_type": "markdown",
   "source": [],
   "metadata": {
    "collapsed": false
   }
  },
  {
   "cell_type": "code",
   "execution_count": 50,
   "outputs": [],
   "source": [
    "# def get_stems(word: str):\n",
    "#     tokens = nltk.word_tokenize(word)\n",
    "#\n",
    "#     porter = nltk.PorterStemmer()\n",
    "#     for i in range(len(tokens)):\n",
    "#         tokens[i] = porter.stem(tokens[i])\n",
    "#\n",
    "#     return tokens\n",
    "#\n",
    "# from collections import Counter\n",
    "# import re\n",
    "#\n",
    "# words = Counter()\n",
    "# for i in df['reviewText'].index:\n",
    "#     words.update(get_stems(df['reviewText'][i]))\n",
    "#\n",
    "# # words.most_common(50)"
   ],
   "metadata": {
    "collapsed": false,
    "pycharm": {
     "name": "#%%\n"
    }
   }
  },
  {
   "cell_type": "markdown",
   "source": [],
   "metadata": {
    "collapsed": false
   }
  },
  {
   "cell_type": "markdown",
   "source": [
    "Przetwarzanie uzyskanych stemmów."
   ],
   "metadata": {
    "collapsed": false
   }
  },
  {
   "cell_type": "code",
   "execution_count": 51,
   "outputs": [],
   "source": [
    "# for w in list(words):\n",
    "#     if re.search(\"\\W\", w) is not None:\n",
    "#         del words[w]\n",
    "# # words.most_common(50)\n",
    "#\n",
    "# # nltk.corpus.stopwords.words('english')\n",
    "# ### Rozważyć wywalanie not\n",
    "# stopwords = [\"a\", \"about\", \"after\", \"all\", \"am\", \"an\", \"and\", \"any\", \"are\", \"as\", \"at\", \"be\", \"because\", \"been\",\n",
    "#              \"before\", \"being\", \"between\", \"both\", \"by\", \"could\", \"did\", \"do\", \"does\", \"doing\", \"during\", \"each\",\n",
    "#              \"for\", \"from\", \"further\", \"had\", \"has\", \"have\", \"having\", \"he\", \"her\", \"here\", \"hers\", \"herself\", \"him\",\n",
    "#              \"himself\", \"his\", \"how\", \"i\", \"in\", \"into\", \"is\", \"it\", \"its\", \"itself\", \"let\", \"me\", \"more\", \"most\", \"my\",\n",
    "#              \"myself\", \"of\", \"on\", \"once\", \"only\", \"or\", \"other\", \"ought\", \"our\", \"ours\", \"ourselves\", \"own\", \"sha\",\n",
    "#              \"she\", \"should\", \"so\", \"some\", \"such\", \"than\", \"that\", \"the\", \"their\", \"theirs\", \"them\", \"themselves\",\n",
    "#              \"then\", \"there\", \"there's\", \"these\", \"they\", \"this\", \"those\", \"through\", \"to\", \"until\", \"up\", \"very\",\n",
    "#              \"was\", \"we\", \"were\", \"what\", \"when\", \"where\", \"which\", \"while\", \"who\", \"whom\", \"with\", \"would\", \"you\",\n",
    "#              \"your\", \"yours\", \"yourself\", \"yourselves\",\n",
    "#              \"n't\", \"'s\", \"'ll\", \"'re\", \"'d\", \"'m\", \"'ve\",\n",
    "#              \"above\", \"again\", \"against\", \"below\", \"but\", \"cannot\", \"down\", \"few\", \"if\", \"no\", \"nor\", \"not\", \"off\",\n",
    "#              \"out\", \"over\", \"same\", \"too\", \"under\", \"why\"]\n",
    "#\n",
    "# for w in stopwords:\n",
    "#     if w in words:\n",
    "#         del words[w]\n",
    "# # words.most_common(50)\n",
    "#\n",
    "# ### Usuwanie najrzadszych tokenów.\n",
    "# max_words = 50\n",
    "# for i in list(range(len(words)))[max_words:]:\n",
    "#     del words[i]\n",
    "# # words.most_common(50)"
   ],
   "metadata": {
    "collapsed": false,
    "pycharm": {
     "name": "#%%\n"
    }
   }
  },
  {
   "cell_type": "markdown",
   "source": [
    "Tworzenie wektora Bag Of Words"
   ],
   "metadata": {
    "collapsed": false
   }
  },
  {
   "cell_type": "code",
   "execution_count": 52,
   "outputs": [],
   "source": [
    "# from scipy.sparse import csr_matrix\n",
    "#\n",
    "# #BOW\n",
    "# # def create_bow(documents, features):\n",
    "# #     row = []\n",
    "# #     col = []\n",
    "# #     data = []\n",
    "# #\n",
    "# #     labels = []\n",
    "# #\n",
    "# #     for i in documents.index:\n",
    "# #         tweet_tokens = get_stems(documents[i])\n",
    "# #\n",
    "# #         labels.append(label)\n",
    "# #         for token in set(tweet_tokens):\n",
    "# #             if token not in features:\n",
    "# #                 continue\n",
    "# #             row.append(i)\n",
    "# #             col.append(features[token])\n",
    "# #             data.append(1)\n",
    "# #     return csr_matrix((data, (row, col)), shape=(len(documents), len(features))), labels\n",
    "#\n",
    "# min_word_count = 5\n",
    "#\n",
    "# common_words = list([k for k, v in words.most_common() if v > min_word_count])\n",
    "#\n",
    "# feature_dict = {}\n",
    "# for word in common_words:\n",
    "#     feature_dict[word] = len(feature_dict)\n",
    "#\n",
    "# # X, y = create_bow(train_tweets, feature_dict)"
   ],
   "metadata": {
    "collapsed": false,
    "pycharm": {
     "name": "#%%\n"
    }
   }
  },
  {
   "cell_type": "code",
   "execution_count": 56,
   "outputs": [
    {
     "ename": "AttributeError",
     "evalue": "'CountVectorizer' object has no attribute 'labels'",
     "output_type": "error",
     "traceback": [
      "\u001B[1;31m---------------------------------------------------------------------------\u001B[0m",
      "\u001B[1;31mAttributeError\u001B[0m                            Traceback (most recent call last)",
      "Input \u001B[1;32mIn [56]\u001B[0m, in \u001B[0;36m<module>\u001B[1;34m\u001B[0m\n\u001B[0;32m      5\u001B[0m \u001B[38;5;66;03m# df['reviewText'] = vectorizer.fit_transform(df['reviewText']).toarray().tolist()\u001B[39;00m\n\u001B[0;32m      6\u001B[0m \u001B[38;5;66;03m# df['summary'] = vectorizer.fit_transform(df['summary']).toarray().tolist()\u001B[39;00m\n\u001B[0;32m      7\u001B[0m df_review \u001B[38;5;241m=\u001B[39m pd\u001B[38;5;241m.\u001B[39mDataFrame(vectorizer\u001B[38;5;241m.\u001B[39mfit_transform(df[\u001B[38;5;124m'\u001B[39m\u001B[38;5;124mreviewText\u001B[39m\u001B[38;5;124m'\u001B[39m])\u001B[38;5;241m.\u001B[39mtoarray())\n\u001B[1;32m----> 8\u001B[0m \u001B[38;5;28mprint\u001B[39m(\u001B[43mvectorizer\u001B[49m\u001B[38;5;241;43m.\u001B[39;49m\u001B[43mlabels\u001B[49m)\n\u001B[0;32m      9\u001B[0m df_review\u001B[38;5;241m.\u001B[39mhead()\n",
      "\u001B[1;31mAttributeError\u001B[0m: 'CountVectorizer' object has no attribute 'labels'"
     ]
    }
   ],
   "source": [
    "from sklearn.feature_extraction.text import CountVectorizer\n",
    "\n",
    "vectorizer = CountVectorizer(max_features=100)\n",
    "\n",
    "# df['reviewText'] = vectorizer.fit_transform(df['reviewText']).toarray().tolist()\n",
    "# df['summary'] = vectorizer.fit_transform(df['summary']).toarray().tolist()\n",
    "df_review = pd.DataFrame(vectorizer.fit_transform(df['reviewText']).toarray())\n",
    "print(vectorizer.labels)\n",
    "df_review.head()\n",
    "\n",
    "# df.head()"
   ],
   "metadata": {
    "collapsed": false,
    "pycharm": {
     "name": "#%%\n"
    }
   }
  },
  {
   "cell_type": "markdown",
   "source": [
    "# Uczenie modelu"
   ],
   "metadata": {
    "collapsed": false
   }
  },
  {
   "cell_type": "code",
   "execution_count": 54,
   "outputs": [
    {
     "name": "stdout",
     "output_type": "stream",
     "text": [
      "X columns: [0, 1, 2, 3, 4, 5, 6, 7, 8, 9, 10, 11, 12, 13, 14, 15, 16, 17, 18, 19, 20, 21, 22, 23, 24, 25, 26, 27, 28, 29, 30, 31, 32, 33, 34, 35, 36, 37, 38, 39, 40, 41, 42, 43, 44, 45, 46, 47, 48, 49, 50, 51, 52, 53, 54, 55, 56, 57, 58, 59, 60, 61, 62, 63, 64, 65, 66, 67, 68, 69, 70, 71, 72, 73, 74, 75, 76, 77, 78, 79, 80, 81, 82, 83, 84, 85, 86, 87, 88, 89, 90, 91, 92, 93, 94, 95, 96, 97, 98, 99] \n",
      "y columns: score\n",
      "---Training classifier---\n"
     ]
    },
    {
     "data": {
      "text/plain": "RandomForestClassifier(n_estimators=300, n_jobs=-1, random_state=23)"
     },
     "execution_count": 54,
     "metadata": {},
     "output_type": "execute_result"
    }
   ],
   "source": [
    "from sklearn.model_selection import GridSearchCV, train_test_split\n",
    "from sklearn.ensemble import RandomForestClassifier\n",
    "\n",
    "y = df[\"score\"]\n",
    "# X = df[list(set(df.columns) - {\"score\", 'helpful'})]\n",
    "X = df_review\n",
    "\n",
    "print(\"X columns:\",list(X.columns),\"\\ny columns:\", y.name)\n",
    "\n",
    "X_train, X_test, y_train, y_test = train_test_split(X, y, test_size=0.33, random_state=42)\n",
    "\n",
    "print(\"---Training classifier---\")\n",
    "\n",
    "clf = RandomForestClassifier(n_estimators=300, n_jobs=-1, random_state=23)\n",
    "clf.fit(X_train, y_train)\n",
    "\n",
    "# Tutaj hiperparametry\n",
    "# grid = GridSearchCV()"
   ],
   "metadata": {
    "collapsed": false,
    "pycharm": {
     "name": "#%%\n"
    }
   }
  },
  {
   "cell_type": "markdown",
   "source": [
    "Rezultaty klasyfikacji i porównania z algorytmem większościowym oraz losowym."
   ],
   "metadata": {
    "collapsed": false,
    "pycharm": {
     "name": "#%% md\n"
    }
   }
  },
  {
   "cell_type": "code",
   "execution_count": 55,
   "outputs": [
    {
     "name": "stdout",
     "output_type": "stream",
     "text": [
      "=================== Results: RandomClassifier ===================\n",
      "            [2. 5. 3. 4. 1.]   \n",
      "F1        [0.09640828 0.28823008 0.14674994 0.2048511  0.14131644]\n",
      "Precision [0.06285027 0.50788001 0.11529783 0.20998359 0.10915685]\n",
      "Recall    [0.20685622 0.20120999 0.20179863 0.19996353 0.20034032]\n",
      "=================== Results: MajorityClassifier ===================\n",
      "            [2. 5. 3. 4. 1.]   \n",
      "F1        [0.         0.67243357 0.         0.         0.        ]\n",
      "Precision [0.         0.50651595 0.         0.         0.        ]\n"
     ]
    },
    {
     "name": "stderr",
     "output_type": "stream",
     "text": [
      "c:\\users\\festo\\onedrive - put.poznan.pl\\semestr ix\\emd\\emd-python\\venv\\lib\\site-packages\\sklearn\\metrics\\_classification.py:1318: UndefinedMetricWarning: Precision is ill-defined and being set to 0.0 in labels with no predicted samples. Use `zero_division` parameter to control this behavior.\n",
      "  _warn_prf(average, modifier, msg_start, len(result))\n"
     ]
    },
    {
     "name": "stdout",
     "output_type": "stream",
     "text": [
      "Recall    [0. 1. 0. 0. 0.]\n",
      "=================== Results: Trained Classifier ===================\n",
      "            [2. 5. 3. 4. 1.]   \n",
      "F1        [0.01522443 0.72206954 0.18001895 0.2099871  0.42071673]\n",
      "Precision [0.27619048 0.5922122  0.3428686  0.37199444 0.48276086]\n",
      "Recall    [0.00782796 0.92487055 0.12204987 0.14628048 0.37280416]\n"
     ]
    }
   ],
   "source": [
    "import random\n",
    "from sklearn.metrics import f1_score, precision_score, recall_score\n",
    "\n",
    "list_of_labels = y_train.unique()\n",
    "\n",
    "\n",
    "def scores(y_true, y_pred, name=None):\n",
    "    print(f\"=================== Results: {name} ===================\")\n",
    "    print(f\"            {list_of_labels}   \")\n",
    "    print(\"F1       \", f1_score(y_true, y_pred, average=None, pos_label=None, labels=list_of_labels))\n",
    "    print(\"Precision\", precision_score(y_true, y_pred, average=None, pos_label=None, labels=list_of_labels))\n",
    "    print(\"Recall   \", recall_score(y_true, y_pred, average=None, pos_label=None, labels=list_of_labels))\n",
    "\n",
    "\n",
    "y_pred_random, y_pred_majority = [],[]\n",
    "majority_label = y_train.value_counts().index[0]\n",
    "\n",
    "for _ in range(len(X_test)):\n",
    "    y_pred_random.append(random.choice(list_of_labels))\n",
    "    y_pred_majority.append(majority_label)\n",
    "\n",
    "scores(y_test, y_pred_random, \"RandomClassifier\")\n",
    "scores(y_test, y_pred_majority, \"MajorityClassifier\")\n",
    "scores(y_test, clf.predict(X_test), \"Trained Classifier\")"
   ],
   "metadata": {
    "collapsed": false,
    "pycharm": {
     "name": "#%%\n"
    }
   }
  }
 ],
 "metadata": {
  "kernelspec": {
   "display_name": "Python 3",
   "language": "python",
   "name": "python3"
  },
  "language_info": {
   "codemirror_mode": {
    "name": "ipython",
    "version": 2
   },
   "file_extension": ".py",
   "mimetype": "text/x-python",
   "name": "python",
   "nbconvert_exporter": "python",
   "pygments_lexer": "ipython2",
   "version": "2.7.6"
  }
 },
 "nbformat": 4,
 "nbformat_minor": 0
}