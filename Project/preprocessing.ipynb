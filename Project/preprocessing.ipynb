{
 "cells": [
  {
   "cell_type": "markdown",
   "source": [
    "Wczytanie zbioru danych."
   ],
   "metadata": {
    "collapsed": false
   }
  },
  {
   "cell_type": "code",
   "execution_count": 1,
   "outputs": [
    {
     "data": {
      "text/plain": "       reviewerID        asin         reviewerName helpful  \\\n0  A35C43YE9HU9CN  B0064X7B4A          Joan Miller  [0, 0]   \n1   AHFS8CGWWXB5B  B00H1P4V3E       WASH ST. GAMER  [3, 4]   \n2  A3EW8OTQ90NVHM  B00CLVW82O      Kindle Customer  [0, 4]   \n3   AJ3GHFJY1IUTD  B007T9WVKM         BrawlMaster4  [0, 2]   \n4  A3JJGBS4EL603S  B00J206J5E  K. Wilson \"thesupe\"  [0, 0]   \n\n                                          reviewText  \\\n0  I have decided not to play this game.  I can't...   \n1  The Amazon Appstore free app of the day for Ju...   \n2  this game was so mush fun I wish I could play ...   \n3  Its pretty fun and very good looking,  but you...   \n4  good graphics; immersive storyline; hard to st...   \n\n                                             summary  unixReviewTime  \\\n0                                            Friends      1396396800   \n1  Amazon Makes This \"Longest Spring Ever\" for Fi...      1402272000   \n2                                               best      1368921600   \n3                                           Fun Game      1350172800   \n4                                        great game!      1396915200   \n\n    reviewTime  score  \n0   04 2, 2014    1.0  \n1   06 9, 2014    2.0  \n2  05 19, 2013    5.0  \n3  10 14, 2012    5.0  \n4   04 8, 2014    5.0  ",
      "text/html": "<div>\n<style scoped>\n    .dataframe tbody tr th:only-of-type {\n        vertical-align: middle;\n    }\n\n    .dataframe tbody tr th {\n        vertical-align: top;\n    }\n\n    .dataframe thead th {\n        text-align: right;\n    }\n</style>\n<table border=\"1\" class=\"dataframe\">\n  <thead>\n    <tr style=\"text-align: right;\">\n      <th></th>\n      <th>reviewerID</th>\n      <th>asin</th>\n      <th>reviewerName</th>\n      <th>helpful</th>\n      <th>reviewText</th>\n      <th>summary</th>\n      <th>unixReviewTime</th>\n      <th>reviewTime</th>\n      <th>score</th>\n    </tr>\n  </thead>\n  <tbody>\n    <tr>\n      <th>0</th>\n      <td>A35C43YE9HU9CN</td>\n      <td>B0064X7B4A</td>\n      <td>Joan Miller</td>\n      <td>[0, 0]</td>\n      <td>I have decided not to play this game.  I can't...</td>\n      <td>Friends</td>\n      <td>1396396800</td>\n      <td>04 2, 2014</td>\n      <td>1.0</td>\n    </tr>\n    <tr>\n      <th>1</th>\n      <td>AHFS8CGWWXB5B</td>\n      <td>B00H1P4V3E</td>\n      <td>WASH ST. GAMER</td>\n      <td>[3, 4]</td>\n      <td>The Amazon Appstore free app of the day for Ju...</td>\n      <td>Amazon Makes This \"Longest Spring Ever\" for Fi...</td>\n      <td>1402272000</td>\n      <td>06 9, 2014</td>\n      <td>2.0</td>\n    </tr>\n    <tr>\n      <th>2</th>\n      <td>A3EW8OTQ90NVHM</td>\n      <td>B00CLVW82O</td>\n      <td>Kindle Customer</td>\n      <td>[0, 4]</td>\n      <td>this game was so mush fun I wish I could play ...</td>\n      <td>best</td>\n      <td>1368921600</td>\n      <td>05 19, 2013</td>\n      <td>5.0</td>\n    </tr>\n    <tr>\n      <th>3</th>\n      <td>AJ3GHFJY1IUTD</td>\n      <td>B007T9WVKM</td>\n      <td>BrawlMaster4</td>\n      <td>[0, 2]</td>\n      <td>Its pretty fun and very good looking,  but you...</td>\n      <td>Fun Game</td>\n      <td>1350172800</td>\n      <td>10 14, 2012</td>\n      <td>5.0</td>\n    </tr>\n    <tr>\n      <th>4</th>\n      <td>A3JJGBS4EL603S</td>\n      <td>B00J206J5E</td>\n      <td>K. Wilson \"thesupe\"</td>\n      <td>[0, 0]</td>\n      <td>good graphics; immersive storyline; hard to st...</td>\n      <td>great game!</td>\n      <td>1396915200</td>\n      <td>04 8, 2014</td>\n      <td>5.0</td>\n    </tr>\n  </tbody>\n</table>\n</div>"
     },
     "execution_count": 1,
     "metadata": {},
     "output_type": "execute_result"
    }
   ],
   "source": [
    "import pandas as pd\n",
    "\n",
    "pd.set_option('display.max_columns', 500)\n",
    "\n",
    "df = pd.read_csv(\"reviews_train.csv\")\n",
    "df.head()"
   ],
   "metadata": {
    "collapsed": false,
    "pycharm": {
     "name": "#%%\n"
    }
   }
  },
  {
   "cell_type": "markdown",
   "source": [
    "Wstępne przetwarzanie danych"
   ],
   "metadata": {
    "collapsed": false
   }
  },
  {
   "cell_type": "markdown",
   "source": [
    "Odrzucanie niepełnych wierszy, stanowiących nieznaczną częścią pełnego zbioru."
   ],
   "metadata": {
    "collapsed": false
   }
  },
  {
   "cell_type": "code",
   "execution_count": 2,
   "outputs": [
    {
     "name": "stdout",
     "output_type": "stream",
     "text": [
      "Incomplete rows:  46\n"
     ]
    }
   ],
   "source": [
    "print(\"Incomplete rows: \", len(df) - len(df.dropna()))\n",
    "df = df.dropna()"
   ],
   "metadata": {
    "collapsed": false,
    "pycharm": {
     "name": "#%%\n"
    }
   }
  },
  {
   "cell_type": "markdown",
   "source": [
    "Balansowanie zbioru danych w celu uzyskania równej reprezentacji każdej z klas."
   ],
   "metadata": {
    "collapsed": false,
    "pycharm": {
     "name": "#%% md\n"
    }
   }
  },
  {
   "cell_type": "code",
   "execution_count": 3,
   "outputs": [
    {
     "name": "stdout",
     "output_type": "stream",
     "text": [
      "5.0    50.642651\n",
      "4.0    20.968970\n",
      "3.0    11.496640\n",
      "1.0    10.821510\n",
      "2.0     6.070230\n",
      "Name: score, dtype: float64 555745\n",
      "1.0    20.0\n",
      "2.0    20.0\n",
      "3.0    20.0\n",
      "4.0    20.0\n",
      "5.0    20.0\n",
      "Name: score, dtype: float64 168675\n"
     ]
    },
    {
     "data": {
      "text/plain": "         asin                             reviewerName helpful  \\\n0  B006OBWGHO                                   butler  [6, 7]   \n1  B008KMAJQU                                   Puffey  [0, 6]   \n2  B00AJ3ZJ2C                                  freeman  [2, 4]   \n3  B007PTJOV0                            austin powers  [2, 4]   \n4  B0083BYESM  richard from omaha \"richard from omaha\"  [0, 1]   \n\n                                          reviewText      summary  \\\n0  Disney cant make apps. They should just stick ...  Disney apps   \n1  Didn't like controls and choice of weapons wou...        Sucks   \n2  all it says is nice and gives you a dum!!!I wo...      hate it   \n3  not fun at all at certain times when you need ...      not fun   \n4  U shud not buy this app!!  Its a scam!!  It do...        Ugh!!   \n\n    reviewTime  unixReviewTime      reviewerID  score  \n0   04 8, 2012      1333843200  A2O736G9DQ21NW    1.0  \n1  12 28, 2013      1388188800  A193KJ0I0CN0UC    1.0  \n2  12 21, 2012      1356048000   AJEQ6CRM4OK4L    1.0  \n3  04 12, 2012      1334188800   AZ23GALJ72OHV    1.0  \n4  12 22, 2013      1387670400   AUVDDKSBH0WOY    1.0  ",
      "text/html": "<div>\n<style scoped>\n    .dataframe tbody tr th:only-of-type {\n        vertical-align: middle;\n    }\n\n    .dataframe tbody tr th {\n        vertical-align: top;\n    }\n\n    .dataframe thead th {\n        text-align: right;\n    }\n</style>\n<table border=\"1\" class=\"dataframe\">\n  <thead>\n    <tr style=\"text-align: right;\">\n      <th></th>\n      <th>asin</th>\n      <th>reviewerName</th>\n      <th>helpful</th>\n      <th>reviewText</th>\n      <th>summary</th>\n      <th>reviewTime</th>\n      <th>unixReviewTime</th>\n      <th>reviewerID</th>\n      <th>score</th>\n    </tr>\n  </thead>\n  <tbody>\n    <tr>\n      <th>0</th>\n      <td>B006OBWGHO</td>\n      <td>butler</td>\n      <td>[6, 7]</td>\n      <td>Disney cant make apps. They should just stick ...</td>\n      <td>Disney apps</td>\n      <td>04 8, 2012</td>\n      <td>1333843200</td>\n      <td>A2O736G9DQ21NW</td>\n      <td>1.0</td>\n    </tr>\n    <tr>\n      <th>1</th>\n      <td>B008KMAJQU</td>\n      <td>Puffey</td>\n      <td>[0, 6]</td>\n      <td>Didn't like controls and choice of weapons wou...</td>\n      <td>Sucks</td>\n      <td>12 28, 2013</td>\n      <td>1388188800</td>\n      <td>A193KJ0I0CN0UC</td>\n      <td>1.0</td>\n    </tr>\n    <tr>\n      <th>2</th>\n      <td>B00AJ3ZJ2C</td>\n      <td>freeman</td>\n      <td>[2, 4]</td>\n      <td>all it says is nice and gives you a dum!!!I wo...</td>\n      <td>hate it</td>\n      <td>12 21, 2012</td>\n      <td>1356048000</td>\n      <td>AJEQ6CRM4OK4L</td>\n      <td>1.0</td>\n    </tr>\n    <tr>\n      <th>3</th>\n      <td>B007PTJOV0</td>\n      <td>austin powers</td>\n      <td>[2, 4]</td>\n      <td>not fun at all at certain times when you need ...</td>\n      <td>not fun</td>\n      <td>04 12, 2012</td>\n      <td>1334188800</td>\n      <td>AZ23GALJ72OHV</td>\n      <td>1.0</td>\n    </tr>\n    <tr>\n      <th>4</th>\n      <td>B0083BYESM</td>\n      <td>richard from omaha \"richard from omaha\"</td>\n      <td>[0, 1]</td>\n      <td>U shud not buy this app!!  Its a scam!!  It do...</td>\n      <td>Ugh!!</td>\n      <td>12 22, 2013</td>\n      <td>1387670400</td>\n      <td>AUVDDKSBH0WOY</td>\n      <td>1.0</td>\n    </tr>\n  </tbody>\n</table>\n</div>"
     },
     "execution_count": 3,
     "metadata": {},
     "output_type": "execute_result"
    }
   ],
   "source": [
    "from imblearn.under_sampling import RandomUnderSampler\n",
    "\n",
    "print(df.score.value_counts() / df.shape[0] * 100, df.shape[0])\n",
    "\n",
    "X = df[list(set(df.columns) - {\"score\"})]\n",
    "y = df['score']\n",
    "rus = RandomUnderSampler(sampling_strategy='not minority', random_state=42)\n",
    "X_res, y_res = rus.fit_resample(X, y)\n",
    "\n",
    "X_res['score'] = y_res\n",
    "df= X_res\n",
    "\n",
    "print(df.score.value_counts() / df.shape[0] * 100, df.shape[0])\n",
    "df.head()"
   ],
   "metadata": {
    "collapsed": false,
    "pycharm": {
     "name": "#%%\n"
    }
   }
  },
  {
   "cell_type": "markdown",
   "source": [],
   "metadata": {
    "collapsed": false
   }
  },
  {
   "cell_type": "markdown",
   "source": [
    "Przetworzenie kolumny 'helpful' na format użyteczny dla klasyfikatora."
   ],
   "metadata": {
    "collapsed": false
   }
  },
  {
   "cell_type": "code",
   "execution_count": 4,
   "outputs": [
    {
     "name": "stderr",
     "output_type": "stream",
     "text": [
      "C:\\Users\\festo\\AppData\\Local\\Temp\\ipykernel_10172\\2530756455.py:1: FutureWarning: The default value of regex will change from True to False in a future version. In addition, single character regular expressions will *not* be treated as literal strings when regex=True.\n",
      "  df['helpful'] = df['helpful'].str.replace(\"[\", \"\")\n",
      "C:\\Users\\festo\\AppData\\Local\\Temp\\ipykernel_10172\\2530756455.py:2: FutureWarning: The default value of regex will change from True to False in a future version. In addition, single character regular expressions will *not* be treated as literal strings when regex=True.\n",
      "  df['helpful'] = df['helpful'].str.replace(\"]\", \"\")\n"
     ]
    }
   ],
   "source": [
    "df['helpful'] = df['helpful'].str.replace(\"[\", \"\")\n",
    "df['helpful'] = df['helpful'].str.replace(\"]\", \"\")\n",
    "df[['helpfulP', 'helpfulN']] = df['helpful'].str.split(',', 1, expand=True)\n",
    "df['helpfulP'] = pd.to_numeric(df['helpfulP'])\n",
    "df['helpfulN'] = pd.to_numeric(df['helpfulN'])"
   ],
   "metadata": {
    "collapsed": false,
    "pycharm": {
     "name": "#%%\n"
    }
   }
  },
  {
   "cell_type": "markdown",
   "source": [
    "Odrzucenie cechy reviewTime, ponieważ oznacza ona to samo co unixReviewTime a jest mniej praktyczna."
   ],
   "metadata": {
    "collapsed": false
   }
  },
  {
   "cell_type": "code",
   "execution_count": 5,
   "outputs": [],
   "source": [
    "df.drop([\"reviewTime\", 'helpful'], axis=1, inplace=True)"
   ],
   "metadata": {
    "collapsed": false,
    "pycharm": {
     "name": "#%%\n"
    }
   }
  },
  {
   "cell_type": "markdown",
   "source": [
    "Kodowanie cech tekstowych na liczby."
   ],
   "metadata": {
    "collapsed": false
   }
  },
  {
   "cell_type": "code",
   "execution_count": 6,
   "outputs": [
    {
     "data": {
      "text/plain": "   asin  reviewerName                                         reviewText  \\\n0  2747         43149  Disney cant make apps. They should just stick ...   \n1  5394         31532  Didn't like controls and choice of weapons wou...   \n2  7167         46230  all it says is nice and gives you a dum!!!I wo...   \n3  4036         41970  not fun at all at certain times when you need ...   \n4  4625         54619  U shud not buy this app!!  Its a scam!!  It do...   \n\n       summary  unixReviewTime  reviewerID  score  helpfulP  helpfulN  \n0  Disney apps      1333843200       30124    1.0         6         7  \n1        Sucks      1388188800        4713    1.0         0         6  \n2      hate it      1356048000       59783    1.0         2         4  \n3      not fun      1334188800       67587    1.0         2         4  \n4        Ugh!!      1387670400       65465    1.0         0         1  ",
      "text/html": "<div>\n<style scoped>\n    .dataframe tbody tr th:only-of-type {\n        vertical-align: middle;\n    }\n\n    .dataframe tbody tr th {\n        vertical-align: top;\n    }\n\n    .dataframe thead th {\n        text-align: right;\n    }\n</style>\n<table border=\"1\" class=\"dataframe\">\n  <thead>\n    <tr style=\"text-align: right;\">\n      <th></th>\n      <th>asin</th>\n      <th>reviewerName</th>\n      <th>reviewText</th>\n      <th>summary</th>\n      <th>unixReviewTime</th>\n      <th>reviewerID</th>\n      <th>score</th>\n      <th>helpfulP</th>\n      <th>helpfulN</th>\n    </tr>\n  </thead>\n  <tbody>\n    <tr>\n      <th>0</th>\n      <td>2747</td>\n      <td>43149</td>\n      <td>Disney cant make apps. They should just stick ...</td>\n      <td>Disney apps</td>\n      <td>1333843200</td>\n      <td>30124</td>\n      <td>1.0</td>\n      <td>6</td>\n      <td>7</td>\n    </tr>\n    <tr>\n      <th>1</th>\n      <td>5394</td>\n      <td>31532</td>\n      <td>Didn't like controls and choice of weapons wou...</td>\n      <td>Sucks</td>\n      <td>1388188800</td>\n      <td>4713</td>\n      <td>1.0</td>\n      <td>0</td>\n      <td>6</td>\n    </tr>\n    <tr>\n      <th>2</th>\n      <td>7167</td>\n      <td>46230</td>\n      <td>all it says is nice and gives you a dum!!!I wo...</td>\n      <td>hate it</td>\n      <td>1356048000</td>\n      <td>59783</td>\n      <td>1.0</td>\n      <td>2</td>\n      <td>4</td>\n    </tr>\n    <tr>\n      <th>3</th>\n      <td>4036</td>\n      <td>41970</td>\n      <td>not fun at all at certain times when you need ...</td>\n      <td>not fun</td>\n      <td>1334188800</td>\n      <td>67587</td>\n      <td>1.0</td>\n      <td>2</td>\n      <td>4</td>\n    </tr>\n    <tr>\n      <th>4</th>\n      <td>4625</td>\n      <td>54619</td>\n      <td>U shud not buy this app!!  Its a scam!!  It do...</td>\n      <td>Ugh!!</td>\n      <td>1387670400</td>\n      <td>65465</td>\n      <td>1.0</td>\n      <td>0</td>\n      <td>1</td>\n    </tr>\n  </tbody>\n</table>\n</div>"
     },
     "execution_count": 6,
     "metadata": {},
     "output_type": "execute_result"
    }
   ],
   "source": [
    "import json\n",
    "from sklearn.preprocessing import LabelEncoder\n",
    "\n",
    "# Kodowanie cech tekstowych na liczbowe\n",
    "encoders = {}\n",
    "for col in ['reviewerID', 'asin', 'reviewerName']:\n",
    "    enc = LabelEncoder().fit(df[col])\n",
    "    df[col] = enc.transform(df[col])\n",
    "    # encoders.update({col:enc})\n",
    "df.head()"
   ],
   "metadata": {
    "collapsed": false,
    "pycharm": {
     "name": "#%%\n"
    }
   }
  },
  {
   "cell_type": "markdown",
   "source": [
    "Podstawowe informacje o zbiorze"
   ],
   "metadata": {
    "collapsed": false
   }
  },
  {
   "cell_type": "code",
   "execution_count": 7,
   "outputs": [
    {
     "name": "stdout",
     "output_type": "stream",
     "text": [
      "---Dataset description---\n",
      "                 asin   reviewerName  unixReviewTime     reviewerID  \\\n",
      "count  168675.000000  168675.000000    1.686750e+05  168675.000000   \n",
      "mean     5780.173594   27991.460999    1.368391e+09   34057.150135   \n",
      "std      3444.592647   17044.186251    2.370555e+07   19676.427755   \n",
      "min         0.000000       0.000000    1.300752e+09       0.000000   \n",
      "25%      2748.000000   13158.000000    1.354320e+09   16946.000000   \n",
      "50%      5793.000000   27533.000000    1.370477e+09   34025.000000   \n",
      "75%      8582.000000   42450.000000    1.388621e+09   51251.000000   \n",
      "max     12515.000000   58500.000000    1.406074e+09   68053.000000   \n",
      "\n",
      "               score       helpfulP       helpfulN  \n",
      "count  168675.000000  168675.000000  168675.000000  \n",
      "mean        3.000000       3.744621       5.137430  \n",
      "std         1.414218      30.395101      36.371267  \n",
      "min         1.000000       0.000000       0.000000  \n",
      "25%         2.000000       0.000000       0.000000  \n",
      "50%         3.000000       0.000000       0.000000  \n",
      "75%         4.000000       1.000000       2.000000  \n",
      "max         5.000000    4741.000000    5494.000000  \n",
      "---Correlation Matrix---\n",
      "                     asin  reviewerName  unixReviewTime  reviewerID     score  \\\n",
      "asin            1.000000      0.027166        0.633596   -0.003693  0.038515   \n",
      "reviewerName    0.027166      1.000000       -0.008563   -0.000348 -0.000389   \n",
      "unixReviewTime  0.633596     -0.008563        1.000000   -0.006279  0.046253   \n",
      "reviewerID     -0.003693     -0.000348       -0.006279    1.000000  0.000173   \n",
      "score           0.038515     -0.000389        0.046253    0.000173  1.000000   \n",
      "helpfulP        0.018103      0.001524       -0.037519   -0.003320 -0.019406   \n",
      "helpfulN        0.018085      0.003642       -0.043633   -0.003539 -0.035727   \n",
      "\n",
      "                helpfulP  helpfulN  \n",
      "asin            0.018103  0.018085  \n",
      "reviewerName    0.001524  0.003642  \n",
      "unixReviewTime -0.037519 -0.043633  \n",
      "reviewerID     -0.003320 -0.003539  \n",
      "score          -0.019406 -0.035727  \n",
      "helpfulP        1.000000  0.992340  \n",
      "helpfulN        0.992340  1.000000  \n"
     ]
    }
   ],
   "source": [
    "print(\"---Dataset description---\\n\", df.describe())\n",
    "print(\"---Correlation Matrix---\\n\", df.corr())"
   ],
   "metadata": {
    "collapsed": false,
    "pycharm": {
     "name": "#%%\n"
    }
   }
  },
  {
   "cell_type": "code",
   "execution_count": 8,
   "outputs": [],
   "source": [
    "df.to_csv(\"reviews_preprocessed.csv\", index=False)"
   ],
   "metadata": {
    "collapsed": false,
    "pycharm": {
     "name": "#%%\n"
    }
   }
  }
 ],
 "metadata": {
  "kernelspec": {
   "display_name": "Python 3",
   "language": "python",
   "name": "python3"
  },
  "language_info": {
   "codemirror_mode": {
    "name": "ipython",
    "version": 2
   },
   "file_extension": ".py",
   "mimetype": "text/x-python",
   "name": "python",
   "nbconvert_exporter": "python",
   "pygments_lexer": "ipython2",
   "version": "2.7.6"
  }
 },
 "nbformat": 4,
 "nbformat_minor": 0
}