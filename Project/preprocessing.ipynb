{
 "cells": [
  {
   "cell_type": "markdown",
   "source": [],
   "metadata": {
    "collapsed": false
   }
  },
  {
   "cell_type": "markdown",
   "source": [
    "Wczytanie zbioru danych."
   ],
   "metadata": {
    "collapsed": false
   }
  },
  {
   "cell_type": "code",
   "execution_count": 9,
   "outputs": [
    {
     "data": {
      "text/plain": "       reviewerID        asin         reviewerName helpful  \\\n0  A35C43YE9HU9CN  B0064X7B4A          Joan Miller  [0, 0]   \n1   AHFS8CGWWXB5B  B00H1P4V3E       WASH ST. GAMER  [3, 4]   \n2  A3EW8OTQ90NVHM  B00CLVW82O      Kindle Customer  [0, 4]   \n3   AJ3GHFJY1IUTD  B007T9WVKM         BrawlMaster4  [0, 2]   \n4  A3JJGBS4EL603S  B00J206J5E  K. Wilson \"thesupe\"  [0, 0]   \n\n                                          reviewText  \\\n0  I have decided not to play this game.  I can't...   \n1  The Amazon Appstore free app of the day for Ju...   \n2  this game was so mush fun I wish I could play ...   \n3  Its pretty fun and very good looking,  but you...   \n4  good graphics; immersive storyline; hard to st...   \n\n                                             summary  unixReviewTime  \\\n0                                            Friends      1396396800   \n1  Amazon Makes This \"Longest Spring Ever\" for Fi...      1402272000   \n2                                               best      1368921600   \n3                                           Fun Game      1350172800   \n4                                        great game!      1396915200   \n\n    reviewTime  score  \n0   04 2, 2014    1.0  \n1   06 9, 2014    2.0  \n2  05 19, 2013    5.0  \n3  10 14, 2012    5.0  \n4   04 8, 2014    5.0  ",
      "text/html": "<div>\n<style scoped>\n    .dataframe tbody tr th:only-of-type {\n        vertical-align: middle;\n    }\n\n    .dataframe tbody tr th {\n        vertical-align: top;\n    }\n\n    .dataframe thead th {\n        text-align: right;\n    }\n</style>\n<table border=\"1\" class=\"dataframe\">\n  <thead>\n    <tr style=\"text-align: right;\">\n      <th></th>\n      <th>reviewerID</th>\n      <th>asin</th>\n      <th>reviewerName</th>\n      <th>helpful</th>\n      <th>reviewText</th>\n      <th>summary</th>\n      <th>unixReviewTime</th>\n      <th>reviewTime</th>\n      <th>score</th>\n    </tr>\n  </thead>\n  <tbody>\n    <tr>\n      <th>0</th>\n      <td>A35C43YE9HU9CN</td>\n      <td>B0064X7B4A</td>\n      <td>Joan Miller</td>\n      <td>[0, 0]</td>\n      <td>I have decided not to play this game.  I can't...</td>\n      <td>Friends</td>\n      <td>1396396800</td>\n      <td>04 2, 2014</td>\n      <td>1.0</td>\n    </tr>\n    <tr>\n      <th>1</th>\n      <td>AHFS8CGWWXB5B</td>\n      <td>B00H1P4V3E</td>\n      <td>WASH ST. GAMER</td>\n      <td>[3, 4]</td>\n      <td>The Amazon Appstore free app of the day for Ju...</td>\n      <td>Amazon Makes This \"Longest Spring Ever\" for Fi...</td>\n      <td>1402272000</td>\n      <td>06 9, 2014</td>\n      <td>2.0</td>\n    </tr>\n    <tr>\n      <th>2</th>\n      <td>A3EW8OTQ90NVHM</td>\n      <td>B00CLVW82O</td>\n      <td>Kindle Customer</td>\n      <td>[0, 4]</td>\n      <td>this game was so mush fun I wish I could play ...</td>\n      <td>best</td>\n      <td>1368921600</td>\n      <td>05 19, 2013</td>\n      <td>5.0</td>\n    </tr>\n    <tr>\n      <th>3</th>\n      <td>AJ3GHFJY1IUTD</td>\n      <td>B007T9WVKM</td>\n      <td>BrawlMaster4</td>\n      <td>[0, 2]</td>\n      <td>Its pretty fun and very good looking,  but you...</td>\n      <td>Fun Game</td>\n      <td>1350172800</td>\n      <td>10 14, 2012</td>\n      <td>5.0</td>\n    </tr>\n    <tr>\n      <th>4</th>\n      <td>A3JJGBS4EL603S</td>\n      <td>B00J206J5E</td>\n      <td>K. Wilson \"thesupe\"</td>\n      <td>[0, 0]</td>\n      <td>good graphics; immersive storyline; hard to st...</td>\n      <td>great game!</td>\n      <td>1396915200</td>\n      <td>04 8, 2014</td>\n      <td>5.0</td>\n    </tr>\n  </tbody>\n</table>\n</div>"
     },
     "execution_count": 9,
     "metadata": {},
     "output_type": "execute_result"
    }
   ],
   "source": [
    "import pandas as pd\n",
    "\n",
    "pd.set_option('display.max_columns', 500)\n",
    "\n",
    "df = pd.read_csv(\"reviews_train.csv\")\n",
    "df.head()"
   ],
   "metadata": {
    "collapsed": false,
    "pycharm": {
     "name": "#%%\n"
    }
   }
  },
  {
   "cell_type": "markdown",
   "source": [
    "Wstępne przetwarzanie danych"
   ],
   "metadata": {
    "collapsed": false
   }
  },
  {
   "cell_type": "markdown",
   "source": [
    "Odrzucanie niepełnych wierszy, stanowiących nieznaczną częścią pełnego zbioru."
   ],
   "metadata": {
    "collapsed": false
   }
  },
  {
   "cell_type": "code",
   "execution_count": 10,
   "outputs": [
    {
     "name": "stdout",
     "output_type": "stream",
     "text": [
      "Incomplete rows:  46\n"
     ]
    }
   ],
   "source": [
    "print(\"Incomplete rows: \", len(df) - len(df.dropna()))\n",
    "df = df.dropna()"
   ],
   "metadata": {
    "collapsed": false,
    "pycharm": {
     "name": "#%%\n"
    }
   }
  },
  {
   "cell_type": "markdown",
   "source": [
    "Balansowanie zbioru danych w celu uzyskania równej reprezentacji każdej z klas."
   ],
   "metadata": {
    "collapsed": false,
    "pycharm": {
     "name": "#%% md\n"
    }
   }
  },
  {
   "cell_type": "code",
   "execution_count": 11,
   "outputs": [],
   "source": [
    "from imblearn.under_sampling import RandomUnderSampler\n",
    "\n",
    "print(df.score.value_counts() / df.shape[0] * 100, df.shape[0])\n",
    "\n",
    "X = df[list(set(df.columns) - {\"score\"})]\n",
    "y = df['score']\n",
    "rus = RandomUnderSampler(sampling_strategy='not minority', random_state=42)\n",
    "X_res, y_res = rus.fit_resample(X, y)\n",
    "\n",
    "X_res['score'] = y_res\n",
    "df= X_res\n",
    "\n",
    "print(df.score.value_counts() / df.shape[0] * 100, df.shape[0])\n",
    "df.head()"
   ],
   "metadata": {
    "collapsed": false,
    "pycharm": {
     "name": "#%%\n"
    }
   }
  },
  {
   "cell_type": "markdown",
   "source": [],
   "metadata": {
    "collapsed": false
   }
  },
  {
   "cell_type": "markdown",
   "source": [
    "Przetworzenie kolumny 'helpful' na format użyteczny dla klasyfikatora."
   ],
   "metadata": {
    "collapsed": false
   }
  },
  {
   "cell_type": "code",
   "execution_count": 12,
   "outputs": [
    {
     "name": "stderr",
     "output_type": "stream",
     "text": [
      "C:\\Users\\festo\\AppData\\Local\\Temp\\ipykernel_9008\\2530756455.py:1: FutureWarning: The default value of regex will change from True to False in a future version. In addition, single character regular expressions will *not* be treated as literal strings when regex=True.\n",
      "  df['helpful'] = df['helpful'].str.replace(\"[\", \"\")\n",
      "C:\\Users\\festo\\AppData\\Local\\Temp\\ipykernel_9008\\2530756455.py:2: FutureWarning: The default value of regex will change from True to False in a future version. In addition, single character regular expressions will *not* be treated as literal strings when regex=True.\n",
      "  df['helpful'] = df['helpful'].str.replace(\"]\", \"\")\n"
     ]
    }
   ],
   "source": [
    "df['helpful'] = df['helpful'].str.replace(\"[\", \"\")\n",
    "df['helpful'] = df['helpful'].str.replace(\"]\", \"\")\n",
    "df[['helpfulP', 'helpfulN']] = df['helpful'].str.split(',', 1, expand=True)\n",
    "df['helpfulP'] = pd.to_numeric(df['helpfulP'])\n",
    "df['helpfulN'] = pd.to_numeric(df['helpfulN'])"
   ],
   "metadata": {
    "collapsed": false,
    "pycharm": {
     "name": "#%%\n"
    }
   }
  },
  {
   "cell_type": "markdown",
   "source": [
    "Odrzucenie cechy reviewTime, ponieważ oznacza ona to samo co unixReviewTime a jest mniej praktyczna."
   ],
   "metadata": {
    "collapsed": false
   }
  },
  {
   "cell_type": "code",
   "execution_count": 13,
   "outputs": [],
   "source": [
    "df.drop([\"reviewTime\", 'helpful'], axis=1, inplace=True)"
   ],
   "metadata": {
    "collapsed": false,
    "pycharm": {
     "name": "#%%\n"
    }
   }
  },
  {
   "cell_type": "markdown",
   "source": [
    "Kodowanie cech tekstowych na liczby."
   ],
   "metadata": {
    "collapsed": false
   }
  },
  {
   "cell_type": "code",
   "execution_count": 14,
   "outputs": [
    {
     "data": {
      "text/plain": "   reviewerID   asin  reviewerName  \\\n0       49575   2329         23869   \n1       75353  11888         50411   \n2       55654   9330         27625   \n3       76417   4425          6657   \n4       58548  12778         25658   \n\n                                          reviewText  \\\n0  I have decided not to play this game.  I can't...   \n1  The Amazon Appstore free app of the day for Ju...   \n2  this game was so mush fun I wish I could play ...   \n3  Its pretty fun and very good looking,  but you...   \n4  good graphics; immersive storyline; hard to st...   \n\n                                             summary  unixReviewTime  score  \\\n0                                            Friends      1396396800    1.0   \n1  Amazon Makes This \"Longest Spring Ever\" for Fi...      1402272000    2.0   \n2                                               best      1368921600    5.0   \n3                                           Fun Game      1350172800    5.0   \n4                                        great game!      1396915200    5.0   \n\n   helpfulP  helpfulN  \n0         0         0  \n1         3         4  \n2         0         4  \n3         0         2  \n4         0         0  ",
      "text/html": "<div>\n<style scoped>\n    .dataframe tbody tr th:only-of-type {\n        vertical-align: middle;\n    }\n\n    .dataframe tbody tr th {\n        vertical-align: top;\n    }\n\n    .dataframe thead th {\n        text-align: right;\n    }\n</style>\n<table border=\"1\" class=\"dataframe\">\n  <thead>\n    <tr style=\"text-align: right;\">\n      <th></th>\n      <th>reviewerID</th>\n      <th>asin</th>\n      <th>reviewerName</th>\n      <th>reviewText</th>\n      <th>summary</th>\n      <th>unixReviewTime</th>\n      <th>score</th>\n      <th>helpfulP</th>\n      <th>helpfulN</th>\n    </tr>\n  </thead>\n  <tbody>\n    <tr>\n      <th>0</th>\n      <td>49575</td>\n      <td>2329</td>\n      <td>23869</td>\n      <td>I have decided not to play this game.  I can't...</td>\n      <td>Friends</td>\n      <td>1396396800</td>\n      <td>1.0</td>\n      <td>0</td>\n      <td>0</td>\n    </tr>\n    <tr>\n      <th>1</th>\n      <td>75353</td>\n      <td>11888</td>\n      <td>50411</td>\n      <td>The Amazon Appstore free app of the day for Ju...</td>\n      <td>Amazon Makes This \"Longest Spring Ever\" for Fi...</td>\n      <td>1402272000</td>\n      <td>2.0</td>\n      <td>3</td>\n      <td>4</td>\n    </tr>\n    <tr>\n      <th>2</th>\n      <td>55654</td>\n      <td>9330</td>\n      <td>27625</td>\n      <td>this game was so mush fun I wish I could play ...</td>\n      <td>best</td>\n      <td>1368921600</td>\n      <td>5.0</td>\n      <td>0</td>\n      <td>4</td>\n    </tr>\n    <tr>\n      <th>3</th>\n      <td>76417</td>\n      <td>4425</td>\n      <td>6657</td>\n      <td>Its pretty fun and very good looking,  but you...</td>\n      <td>Fun Game</td>\n      <td>1350172800</td>\n      <td>5.0</td>\n      <td>0</td>\n      <td>2</td>\n    </tr>\n    <tr>\n      <th>4</th>\n      <td>58548</td>\n      <td>12778</td>\n      <td>25658</td>\n      <td>good graphics; immersive storyline; hard to st...</td>\n      <td>great game!</td>\n      <td>1396915200</td>\n      <td>5.0</td>\n      <td>0</td>\n      <td>0</td>\n    </tr>\n  </tbody>\n</table>\n</div>"
     },
     "execution_count": 14,
     "metadata": {},
     "output_type": "execute_result"
    }
   ],
   "source": [
    "import json\n",
    "from sklearn.preprocessing import LabelEncoder\n",
    "\n",
    "# Kodowanie cech tekstowych na liczbowe\n",
    "encoders = {}\n",
    "for col in ['reviewerID', 'asin', 'reviewerName']:\n",
    "    enc = LabelEncoder().fit(df[col])\n",
    "    df[col] = enc.transform(df[col])\n",
    "    # encoders.update({col:enc})\n",
    "df.head()"
   ],
   "metadata": {
    "collapsed": false,
    "pycharm": {
     "name": "#%%\n"
    }
   }
  },
  {
   "cell_type": "markdown",
   "source": [
    "Podstawowe informacje o zbiorze"
   ],
   "metadata": {
    "collapsed": false
   }
  },
  {
   "cell_type": "code",
   "execution_count": 15,
   "outputs": [
    {
     "name": "stdout",
     "output_type": "stream",
     "text": [
      "---Dataset description---\n",
      "           reviewerID           asin   reviewerName  unixReviewTime  \\\n",
      "count  555745.000000  555745.000000  555745.000000    5.557450e+05   \n",
      "mean    43623.056312    6102.522288   35618.293870    1.368604e+09   \n",
      "std     25200.616434    3631.703504   21639.569796    2.353921e+07   \n",
      "min         0.000000       0.000000       0.000000    1.300752e+09   \n",
      "25%     21733.000000    2882.000000   16799.000000    1.354579e+09   \n",
      "50%     43564.000000    6102.000000   35062.000000    1.370650e+09   \n",
      "75%     65570.000000    9056.000000   54039.000000    1.388707e+09   \n",
      "max     87222.000000   13207.000000   74191.000000    1.406074e+09   \n",
      "\n",
      "               score       helpfulP       helpfulN  \n",
      "count  555745.000000  555745.000000  555745.000000  \n",
      "mean        3.945410       3.704395       4.802875  \n",
      "std         1.354681      39.582055      46.280171  \n",
      "min         1.000000       0.000000       0.000000  \n",
      "25%         3.000000       0.000000       0.000000  \n",
      "50%         5.000000       0.000000       0.000000  \n",
      "75%         5.000000       1.000000       2.000000  \n",
      "max         5.000000    8116.000000    9258.000000  \n",
      "---Correlation Matrix---\n",
      "                 reviewerID      asin  reviewerName  unixReviewTime     score  \\\n",
      "reviewerID        1.000000 -0.002412     -0.003065       -0.000829  0.000903   \n",
      "asin             -0.002412  1.000000      0.035691        0.628806  0.021607   \n",
      "reviewerName     -0.003065  0.035691      1.000000       -0.005876  0.009066   \n",
      "unixReviewTime   -0.000829  0.628806     -0.005876        1.000000  0.028396   \n",
      "score             0.000903  0.021607      0.009066        0.028396  1.000000   \n",
      "helpfulP         -0.000456  0.014775      0.003707       -0.033569 -0.008243   \n",
      "helpfulN         -0.000579  0.014553      0.004720       -0.037513 -0.019353   \n",
      "\n",
      "                helpfulP  helpfulN  \n",
      "reviewerID     -0.000456 -0.000579  \n",
      "asin            0.014775  0.014553  \n",
      "reviewerName    0.003707  0.004720  \n",
      "unixReviewTime -0.033569 -0.037513  \n",
      "score          -0.008243 -0.019353  \n",
      "helpfulP        1.000000  0.996325  \n",
      "helpfulN        0.996325  1.000000  \n"
     ]
    }
   ],
   "source": [
    "print(\"---Dataset description---\\n\", df.describe())\n",
    "print(\"---Correlation Matrix---\\n\", df.corr())"
   ],
   "metadata": {
    "collapsed": false,
    "pycharm": {
     "name": "#%%\n"
    }
   }
  },
  {
   "cell_type": "code",
   "execution_count": 16,
   "outputs": [],
   "source": [
    "df.to_csv(\"reviews_preprocessed_ub.csv\", index=False)"
   ],
   "metadata": {
    "collapsed": false,
    "pycharm": {
     "name": "#%%\n"
    }
   }
  }
 ],
 "metadata": {
  "kernelspec": {
   "display_name": "Python 3",
   "language": "python",
   "name": "python3"
  },
  "language_info": {
   "codemirror_mode": {
    "name": "ipython",
    "version": 2
   },
   "file_extension": ".py",
   "mimetype": "text/x-python",
   "name": "python",
   "nbconvert_exporter": "python",
   "pygments_lexer": "ipython2",
   "version": "2.7.6"
  }
 },
 "nbformat": 4,
 "nbformat_minor": 0
}