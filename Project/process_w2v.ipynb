{
 "cells": [
  {
   "cell_type": "code",
   "execution_count": 1,
   "metadata": {
    "_cell_guid": "79c7e3d0-c299-4dcb-8224-4455121ee9b0",
    "_uuid": "d629ff2d2480ee46fbb7e2d37f6b5fab8052498a"
   },
   "outputs": [],
   "source": [
    "import gensim\n",
    "\n",
    "embeddings = gensim.models.KeyedVectors.load_word2vec_format(\"../GoogleNews-vectors-negative300.bin.gz\", binary=True)"
   ]
  },
  {
   "cell_type": "code",
   "execution_count": 2,
   "metadata": {
    "_uuid": "2473ed01569b721987f1c90090e937c2f87880eb"
   },
   "outputs": [
    {
     "data": {
      "text/plain": "       summary  reviewerID  asin  reviewerName  unixReviewTime  \\\n0  Disney apps       30124  2747         43149      1333843200   \n1        Sucks        4713  5394         31532      1388188800   \n2      hate it       59783  7167         46230      1356048000   \n3      not fun       67587  4036         41970      1334188800   \n4        Ugh!!       65465  4625         54619      1387670400   \n\n                                          reviewText  score  helpfulP  \\\n0  Disney cant make apps. They should just stick ...    1.0         6   \n1  Didn't like controls and choice of weapons wou...    1.0         0   \n2  all it says is nice and gives you a dum!!!I wo...    1.0         2   \n3  not fun at all at certain times when you need ...    1.0         2   \n4  U shud not buy this app!!  Its a scam!!  It do...    1.0         0   \n\n   helpfulN  \n0         7  \n1         6  \n2         4  \n3         4  \n4         1  ",
      "text/html": "<div>\n<style scoped>\n    .dataframe tbody tr th:only-of-type {\n        vertical-align: middle;\n    }\n\n    .dataframe tbody tr th {\n        vertical-align: top;\n    }\n\n    .dataframe thead th {\n        text-align: right;\n    }\n</style>\n<table border=\"1\" class=\"dataframe\">\n  <thead>\n    <tr style=\"text-align: right;\">\n      <th></th>\n      <th>summary</th>\n      <th>reviewerID</th>\n      <th>asin</th>\n      <th>reviewerName</th>\n      <th>unixReviewTime</th>\n      <th>reviewText</th>\n      <th>score</th>\n      <th>helpfulP</th>\n      <th>helpfulN</th>\n    </tr>\n  </thead>\n  <tbody>\n    <tr>\n      <th>0</th>\n      <td>Disney apps</td>\n      <td>30124</td>\n      <td>2747</td>\n      <td>43149</td>\n      <td>1333843200</td>\n      <td>Disney cant make apps. They should just stick ...</td>\n      <td>1.0</td>\n      <td>6</td>\n      <td>7</td>\n    </tr>\n    <tr>\n      <th>1</th>\n      <td>Sucks</td>\n      <td>4713</td>\n      <td>5394</td>\n      <td>31532</td>\n      <td>1388188800</td>\n      <td>Didn't like controls and choice of weapons wou...</td>\n      <td>1.0</td>\n      <td>0</td>\n      <td>6</td>\n    </tr>\n    <tr>\n      <th>2</th>\n      <td>hate it</td>\n      <td>59783</td>\n      <td>7167</td>\n      <td>46230</td>\n      <td>1356048000</td>\n      <td>all it says is nice and gives you a dum!!!I wo...</td>\n      <td>1.0</td>\n      <td>2</td>\n      <td>4</td>\n    </tr>\n    <tr>\n      <th>3</th>\n      <td>not fun</td>\n      <td>67587</td>\n      <td>4036</td>\n      <td>41970</td>\n      <td>1334188800</td>\n      <td>not fun at all at certain times when you need ...</td>\n      <td>1.0</td>\n      <td>2</td>\n      <td>4</td>\n    </tr>\n    <tr>\n      <th>4</th>\n      <td>Ugh!!</td>\n      <td>65465</td>\n      <td>4625</td>\n      <td>54619</td>\n      <td>1387670400</td>\n      <td>U shud not buy this app!!  Its a scam!!  It do...</td>\n      <td>1.0</td>\n      <td>0</td>\n      <td>1</td>\n    </tr>\n  </tbody>\n</table>\n</div>"
     },
     "execution_count": 2,
     "metadata": {},
     "output_type": "execute_result"
    }
   ],
   "source": [
    "import pandas as pd\n",
    "\n",
    "df = pd.read_csv(\"reviews_preprocessed.csv\")\n",
    "df.head()"
   ]
  },
  {
   "cell_type": "code",
   "execution_count": 3,
   "outputs": [
    {
     "name": "stderr",
     "output_type": "stream",
     "text": [
      "C:\\Users\\festo\\AppData\\Local\\Temp\\ipykernel_17572\\3351094019.py:30: RuntimeWarning: Mean of empty slice.\n",
      "  temp_mean = temp.mean(axis=0)\n",
      "c:\\users\\festo\\onedrive - put.poznan.pl\\semestr ix\\emd\\emd-python\\venv\\lib\\site-packages\\numpy\\core\\_methods.py:181: RuntimeWarning: invalid value encountered in true_divide\n",
      "  ret = um.true_divide(\n"
     ]
    },
    {
     "data": {
      "text/plain": "        0         1         2         3         4         5         6    \\\n0  0.074479  0.032809  0.016875  0.154647 -0.130957 -0.044898  0.121012   \n1  0.069027  0.052856  0.085506  0.167456 -0.095322  0.076904  0.032874   \n2  0.085327  0.011286  0.024109  0.138295 -0.026159 -0.003316  0.100789   \n3  0.064137 -0.000476 -0.028126  0.157390 -0.036455 -0.046054  0.099188   \n4 -0.035083  0.002816  0.037427  0.042627 -0.155094  0.064844  0.018351   \n\n        7         8         9    ...       590       591       592       593  \\\n0  0.053760  0.071785 -0.050234  ...  0.078766  0.047852 -0.055908 -0.064941   \n1 -0.088348  0.039758  0.048718  ...  0.273438  0.024780 -0.099609 -0.044678   \n2 -0.043340  0.038930  0.104502  ...  0.068848  0.086426 -0.061768 -0.038330   \n3  0.020974  0.035567  0.046679  ... -0.018921  0.394531 -0.219727 -0.018921   \n4 -0.039657  0.045736  0.027482  ...  0.171875  0.162109 -0.135742  0.212891   \n\n        594       595       596       597       598       599  \n0  0.042480  0.055908 -0.000977 -0.074951  0.006104  0.071777  \n1  0.251953  0.133789 -0.026001 -0.166992 -0.040283 -0.072266  \n2 -0.174805 -0.253906  0.086914 -0.024048 -0.026978  0.125000  \n3 -0.200195 -0.037109  0.243164 -0.135742 -0.032227 -0.072754  \n4 -0.052979 -0.194336  0.156250 -0.208008  0.079102  0.137695  \n\n[5 rows x 600 columns]",
      "text/html": "<div>\n<style scoped>\n    .dataframe tbody tr th:only-of-type {\n        vertical-align: middle;\n    }\n\n    .dataframe tbody tr th {\n        vertical-align: top;\n    }\n\n    .dataframe thead th {\n        text-align: right;\n    }\n</style>\n<table border=\"1\" class=\"dataframe\">\n  <thead>\n    <tr style=\"text-align: right;\">\n      <th></th>\n      <th>0</th>\n      <th>1</th>\n      <th>2</th>\n      <th>3</th>\n      <th>4</th>\n      <th>5</th>\n      <th>6</th>\n      <th>7</th>\n      <th>8</th>\n      <th>9</th>\n      <th>...</th>\n      <th>590</th>\n      <th>591</th>\n      <th>592</th>\n      <th>593</th>\n      <th>594</th>\n      <th>595</th>\n      <th>596</th>\n      <th>597</th>\n      <th>598</th>\n      <th>599</th>\n    </tr>\n  </thead>\n  <tbody>\n    <tr>\n      <th>0</th>\n      <td>0.074479</td>\n      <td>0.032809</td>\n      <td>0.016875</td>\n      <td>0.154647</td>\n      <td>-0.130957</td>\n      <td>-0.044898</td>\n      <td>0.121012</td>\n      <td>0.053760</td>\n      <td>0.071785</td>\n      <td>-0.050234</td>\n      <td>...</td>\n      <td>0.078766</td>\n      <td>0.047852</td>\n      <td>-0.055908</td>\n      <td>-0.064941</td>\n      <td>0.042480</td>\n      <td>0.055908</td>\n      <td>-0.000977</td>\n      <td>-0.074951</td>\n      <td>0.006104</td>\n      <td>0.071777</td>\n    </tr>\n    <tr>\n      <th>1</th>\n      <td>0.069027</td>\n      <td>0.052856</td>\n      <td>0.085506</td>\n      <td>0.167456</td>\n      <td>-0.095322</td>\n      <td>0.076904</td>\n      <td>0.032874</td>\n      <td>-0.088348</td>\n      <td>0.039758</td>\n      <td>0.048718</td>\n      <td>...</td>\n      <td>0.273438</td>\n      <td>0.024780</td>\n      <td>-0.099609</td>\n      <td>-0.044678</td>\n      <td>0.251953</td>\n      <td>0.133789</td>\n      <td>-0.026001</td>\n      <td>-0.166992</td>\n      <td>-0.040283</td>\n      <td>-0.072266</td>\n    </tr>\n    <tr>\n      <th>2</th>\n      <td>0.085327</td>\n      <td>0.011286</td>\n      <td>0.024109</td>\n      <td>0.138295</td>\n      <td>-0.026159</td>\n      <td>-0.003316</td>\n      <td>0.100789</td>\n      <td>-0.043340</td>\n      <td>0.038930</td>\n      <td>0.104502</td>\n      <td>...</td>\n      <td>0.068848</td>\n      <td>0.086426</td>\n      <td>-0.061768</td>\n      <td>-0.038330</td>\n      <td>-0.174805</td>\n      <td>-0.253906</td>\n      <td>0.086914</td>\n      <td>-0.024048</td>\n      <td>-0.026978</td>\n      <td>0.125000</td>\n    </tr>\n    <tr>\n      <th>3</th>\n      <td>0.064137</td>\n      <td>-0.000476</td>\n      <td>-0.028126</td>\n      <td>0.157390</td>\n      <td>-0.036455</td>\n      <td>-0.046054</td>\n      <td>0.099188</td>\n      <td>0.020974</td>\n      <td>0.035567</td>\n      <td>0.046679</td>\n      <td>...</td>\n      <td>-0.018921</td>\n      <td>0.394531</td>\n      <td>-0.219727</td>\n      <td>-0.018921</td>\n      <td>-0.200195</td>\n      <td>-0.037109</td>\n      <td>0.243164</td>\n      <td>-0.135742</td>\n      <td>-0.032227</td>\n      <td>-0.072754</td>\n    </tr>\n    <tr>\n      <th>4</th>\n      <td>-0.035083</td>\n      <td>0.002816</td>\n      <td>0.037427</td>\n      <td>0.042627</td>\n      <td>-0.155094</td>\n      <td>0.064844</td>\n      <td>0.018351</td>\n      <td>-0.039657</td>\n      <td>0.045736</td>\n      <td>0.027482</td>\n      <td>...</td>\n      <td>0.171875</td>\n      <td>0.162109</td>\n      <td>-0.135742</td>\n      <td>0.212891</td>\n      <td>-0.052979</td>\n      <td>-0.194336</td>\n      <td>0.156250</td>\n      <td>-0.208008</td>\n      <td>0.079102</td>\n      <td>0.137695</td>\n    </tr>\n  </tbody>\n</table>\n<p>5 rows × 600 columns</p>\n</div>"
     },
     "execution_count": 3,
     "metadata": {},
     "output_type": "execute_result"
    }
   ],
   "source": [
    "import re\n",
    "import numpy as np\n",
    "import nltk\n",
    "\n",
    "stopwords = nltk.corpus.stopwords.words('english')\n",
    "\n",
    "\n",
    "def get_tokens(text: str):\n",
    "    tokens = nltk.word_tokenize(text)\n",
    "    stems = []\n",
    "\n",
    "    # porter = nltk.PorterStemmer()\n",
    "    for token in tokens:\n",
    "        if re.search(\"\\W\", token) is not None or token in stopwords:\n",
    "            continue\n",
    "        # stems.append(porter.stem(token))\n",
    "        stems.append(token)\n",
    "    return stems\n",
    "\n",
    "\n",
    "def get_doc_vectors(df_data: pd.DataFrame):\n",
    "    vectors_arr = np.ndarray((df_data.shape[0], embeddings.vector_size), dtype=np.float32)\n",
    "    for i in df_data.index:\n",
    "        tokens = get_tokens(df_data[i])\n",
    "        temp = np.ndarray((len(tokens), embeddings.vector_size), dtype=np.float32)\n",
    "        for j in range(len(tokens)):\n",
    "            if tokens[j] in embeddings:\n",
    "                temp[j] = embeddings[tokens[j]]\n",
    "\n",
    "        temp_mean = temp.mean(axis=0)\n",
    "        temp_mean = np.nan_to_num(temp_mean)\n",
    "        vectors_arr[i] = temp_mean\n",
    "\n",
    "    return vectors_arr\n",
    "\n",
    "\n",
    "reviewText_vectors = get_doc_vectors(df['reviewText'])\n",
    "summary_vectors = get_doc_vectors(df['summary'])\n",
    "df_docs_vectors = pd.DataFrame(np.concatenate([reviewText_vectors, summary_vectors], axis=1))\n",
    "df_docs_vectors.head()"
   ],
   "metadata": {
    "collapsed": false,
    "pycharm": {
     "name": "#%%\n"
    }
   }
  },
  {
   "cell_type": "code",
   "execution_count": 4,
   "metadata": {
    "_uuid": "a9adfa871164394746cc1401cfab7c03d424e70c"
   },
   "outputs": [
    {
     "data": {
      "text/plain": "Empty DataFrame\nColumns: [0, 1, 2, 3, 4, 5, 6, 7, 8, 9, 10, 11, 12, 13, 14, 15, 16, 17, 18, 19, 20, 21, 22, 23, 24, 25, 26, 27, 28, 29, 30, 31, 32, 33, 34, 35, 36, 37, 38, 39, 40, 41, 42, 43, 44, 45, 46, 47, 48, 49, 50, 51, 52, 53, 54, 55, 56, 57, 58, 59, 60, 61, 62, 63, 64, 65, 66, 67, 68, 69, 70, 71, 72, 73, 74, 75, 76, 77, 78, 79, 80, 81, 82, 83, 84, 85, 86, 87, 88, 89, 90, 91, 92, 93, 94, 95, 96, 97, 98, 99, ...]\nIndex: []\n\n[0 rows x 600 columns]",
      "text/html": "<div>\n<style scoped>\n    .dataframe tbody tr th:only-of-type {\n        vertical-align: middle;\n    }\n\n    .dataframe tbody tr th {\n        vertical-align: top;\n    }\n\n    .dataframe thead th {\n        text-align: right;\n    }\n</style>\n<table border=\"1\" class=\"dataframe\">\n  <thead>\n    <tr style=\"text-align: right;\">\n      <th></th>\n      <th>0</th>\n      <th>1</th>\n      <th>2</th>\n      <th>3</th>\n      <th>4</th>\n      <th>5</th>\n      <th>6</th>\n      <th>7</th>\n      <th>8</th>\n      <th>9</th>\n      <th>...</th>\n      <th>590</th>\n      <th>591</th>\n      <th>592</th>\n      <th>593</th>\n      <th>594</th>\n      <th>595</th>\n      <th>596</th>\n      <th>597</th>\n      <th>598</th>\n      <th>599</th>\n    </tr>\n  </thead>\n  <tbody>\n  </tbody>\n</table>\n<p>0 rows × 600 columns</p>\n</div>"
     },
     "execution_count": 4,
     "metadata": {},
     "output_type": "execute_result"
    }
   ],
   "source": [
    "# Sprawdzanie czy w danych nie ma nieleganych wartości\n",
    "df_docs_vectors[df_docs_vectors.isnull().any(axis=1)]"
   ]
  },
  {
   "cell_type": "code",
   "execution_count": 5,
   "outputs": [],
   "source": [
    "df_result = pd.concat([df[list(set(df.columns) - {\"reviewText\", \"summary\"})], df_docs_vectors], axis=1)\n",
    "df_result.columns = df_result.columns.astype(str)\n",
    "df_result.to_csv(\"reviews_w2v.csv\", index=False)"
   ],
   "metadata": {
    "collapsed": false,
    "pycharm": {
     "name": "#%%\n"
    }
   }
  }
 ],
 "metadata": {
  "kernelspec": {
   "display_name": "Python 3",
   "language": "python",
   "name": "python3"
  },
  "language_info": {
   "codemirror_mode": {
    "name": "ipython",
    "version": 3
   },
   "file_extension": ".py",
   "mimetype": "text/x-python",
   "name": "python",
   "nbconvert_exporter": "python",
   "pygments_lexer": "ipython3",
   "version": "3.6.6"
  }
 },
 "nbformat": 4,
 "nbformat_minor": 1
}