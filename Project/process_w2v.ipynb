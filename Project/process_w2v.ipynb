{
 "cells": [
  {
   "cell_type": "code",
   "execution_count": 1,
   "metadata": {
    "_cell_guid": "79c7e3d0-c299-4dcb-8224-4455121ee9b0",
    "_uuid": "d629ff2d2480ee46fbb7e2d37f6b5fab8052498a"
   },
   "outputs": [],
   "source": [
    "import gensim\n",
    "\n",
    "embeddings = gensim.models.KeyedVectors.load_word2vec_format(\"../GoogleNews-vectors-negative300.bin.gz\", binary=True)"
   ]
  },
  {
   "cell_type": "code",
   "execution_count": 2,
   "metadata": {
    "_uuid": "2473ed01569b721987f1c90090e937c2f87880eb"
   },
   "outputs": [
    {
     "data": {
      "text/plain": "                                          reviewText  asin  reviewerName  \\\n0  I enjoyed the \"Lite\" game, but it's not (as ad...  3243         13241   \n1  Didn't like it hard to aim and shot, not going...  9415         21314   \n2  Nothing great about this. I think I deleted it...  1316         43046   \n3  this is a really bad program with poor graphic...   378         26092   \n4  I really like the game, but when I got to leve...  2396         39069   \n\n   unixReviewTime  reviewerID            summary  score  helpfulP  helpfulN  \n0      1329177600        5183        Too bad :(.    1.0         1         2  \n1      1400803200       50110       Bubble Blaze    1.0         0         0  \n2      1381795200       46108   Just another app    1.0         1         1  \n3      1309737600       38875               Junk    1.0         0         0  \n4      1381363200       58013  fun till  level 5    1.0         1         1  ",
      "text/html": "<div>\n<style scoped>\n    .dataframe tbody tr th:only-of-type {\n        vertical-align: middle;\n    }\n\n    .dataframe tbody tr th {\n        vertical-align: top;\n    }\n\n    .dataframe thead th {\n        text-align: right;\n    }\n</style>\n<table border=\"1\" class=\"dataframe\">\n  <thead>\n    <tr style=\"text-align: right;\">\n      <th></th>\n      <th>reviewText</th>\n      <th>asin</th>\n      <th>reviewerName</th>\n      <th>unixReviewTime</th>\n      <th>reviewerID</th>\n      <th>summary</th>\n      <th>score</th>\n      <th>helpfulP</th>\n      <th>helpfulN</th>\n    </tr>\n  </thead>\n  <tbody>\n    <tr>\n      <th>0</th>\n      <td>I enjoyed the \"Lite\" game, but it's not (as ad...</td>\n      <td>3243</td>\n      <td>13241</td>\n      <td>1329177600</td>\n      <td>5183</td>\n      <td>Too bad :(.</td>\n      <td>1.0</td>\n      <td>1</td>\n      <td>2</td>\n    </tr>\n    <tr>\n      <th>1</th>\n      <td>Didn't like it hard to aim and shot, not going...</td>\n      <td>9415</td>\n      <td>21314</td>\n      <td>1400803200</td>\n      <td>50110</td>\n      <td>Bubble Blaze</td>\n      <td>1.0</td>\n      <td>0</td>\n      <td>0</td>\n    </tr>\n    <tr>\n      <th>2</th>\n      <td>Nothing great about this. I think I deleted it...</td>\n      <td>1316</td>\n      <td>43046</td>\n      <td>1381795200</td>\n      <td>46108</td>\n      <td>Just another app</td>\n      <td>1.0</td>\n      <td>1</td>\n      <td>1</td>\n    </tr>\n    <tr>\n      <th>3</th>\n      <td>this is a really bad program with poor graphic...</td>\n      <td>378</td>\n      <td>26092</td>\n      <td>1309737600</td>\n      <td>38875</td>\n      <td>Junk</td>\n      <td>1.0</td>\n      <td>0</td>\n      <td>0</td>\n    </tr>\n    <tr>\n      <th>4</th>\n      <td>I really like the game, but when I got to leve...</td>\n      <td>2396</td>\n      <td>39069</td>\n      <td>1381363200</td>\n      <td>58013</td>\n      <td>fun till  level 5</td>\n      <td>1.0</td>\n      <td>1</td>\n      <td>1</td>\n    </tr>\n  </tbody>\n</table>\n</div>"
     },
     "execution_count": 2,
     "metadata": {},
     "output_type": "execute_result"
    }
   ],
   "source": [
    "import pandas as pd\n",
    "\n",
    "df = pd.read_csv(\"reviews_preprocessed.csv\")\n",
    "df.head()"
   ]
  },
  {
   "cell_type": "code",
   "execution_count": 3,
   "outputs": [
    {
     "name": "stderr",
     "output_type": "stream",
     "text": [
      "c:\\users\\festo\\onedrive - put.poznan.pl\\semestr ix\\emd\\emd-python\\venv\\lib\\site-packages\\numpy\\core\\_methods.py:179: RuntimeWarning: invalid value encountered in reduce\n",
      "  ret = umr_sum(arr, axis, dtype, out, keepdims, where=where)\n",
      "C:\\Users\\festo\\AppData\\Local\\Temp\\ipykernel_8264\\3351094019.py:30: RuntimeWarning: Mean of empty slice.\n",
      "  temp_mean = temp.mean(axis=0)\n",
      "c:\\users\\festo\\onedrive - put.poznan.pl\\semestr ix\\emd\\emd-python\\venv\\lib\\site-packages\\numpy\\core\\_methods.py:181: RuntimeWarning: invalid value encountered in true_divide\n",
      "  ret = um.true_divide(\n"
     ]
    },
    {
     "data": {
      "text/plain": "        0              1         2         3         4         5    \\\n0  0.070107       0.009079 -0.039810  0.058842 -0.043427  0.033958   \n1  0.102240       0.120047  0.076555  0.112930 -0.000720  0.022008   \n2 -0.036605       0.018754  0.065934  0.153353 -0.004134 -0.024316   \n3  0.048904  351224.468750  0.031008  0.105335 -0.022068  0.054226   \n4  0.035550       0.073834  0.036061  0.106156  0.019434  0.018611   \n\n            6             7         8         9    ...       590       591  \\\n0  6.595421e-02 -4.783249e-02  0.072006  0.076176  ...  0.043762  0.277344   \n1  1.065877e-01 -9.454855e-02  0.073934  0.080598  ...  0.000000 -0.097778   \n2  5.400391e-02 -6.633708e-02  0.112891  0.094499  ...  0.059448  0.109619   \n3  1.885335e+25  4.663174e+34  0.043652  0.049229  ... -0.001389  0.155273   \n4  7.603737e-02 -1.133717e-01  0.049721  0.101280  ... -0.098114  0.169250   \n\n        592       593       594       595       596       597       598  \\\n0 -0.165771  0.078613 -0.066284 -0.068848 -0.073029 -0.064209  0.074341   \n1  0.051758 -0.172974 -0.000977 -0.160767 -0.106689  0.074463 -0.235840   \n2 -0.127553 -0.042399  0.046402 -0.051860  0.015299 -0.126709 -0.091634   \n3  0.046631  0.184570  0.107910 -0.007629 -0.244141 -0.206055 -0.060303   \n4 -0.137939 -0.012421 -0.096619  0.060303 -0.071228 -0.059097 -0.104614   \n\n        599  \n0  0.171753  \n1 -0.159912  \n2 -0.004720  \n3 -0.151367  \n4  0.017197  \n\n[5 rows x 600 columns]",
      "text/html": "<div>\n<style scoped>\n    .dataframe tbody tr th:only-of-type {\n        vertical-align: middle;\n    }\n\n    .dataframe tbody tr th {\n        vertical-align: top;\n    }\n\n    .dataframe thead th {\n        text-align: right;\n    }\n</style>\n<table border=\"1\" class=\"dataframe\">\n  <thead>\n    <tr style=\"text-align: right;\">\n      <th></th>\n      <th>0</th>\n      <th>1</th>\n      <th>2</th>\n      <th>3</th>\n      <th>4</th>\n      <th>5</th>\n      <th>6</th>\n      <th>7</th>\n      <th>8</th>\n      <th>9</th>\n      <th>...</th>\n      <th>590</th>\n      <th>591</th>\n      <th>592</th>\n      <th>593</th>\n      <th>594</th>\n      <th>595</th>\n      <th>596</th>\n      <th>597</th>\n      <th>598</th>\n      <th>599</th>\n    </tr>\n  </thead>\n  <tbody>\n    <tr>\n      <th>0</th>\n      <td>0.070107</td>\n      <td>0.009079</td>\n      <td>-0.039810</td>\n      <td>0.058842</td>\n      <td>-0.043427</td>\n      <td>0.033958</td>\n      <td>6.595421e-02</td>\n      <td>-4.783249e-02</td>\n      <td>0.072006</td>\n      <td>0.076176</td>\n      <td>...</td>\n      <td>0.043762</td>\n      <td>0.277344</td>\n      <td>-0.165771</td>\n      <td>0.078613</td>\n      <td>-0.066284</td>\n      <td>-0.068848</td>\n      <td>-0.073029</td>\n      <td>-0.064209</td>\n      <td>0.074341</td>\n      <td>0.171753</td>\n    </tr>\n    <tr>\n      <th>1</th>\n      <td>0.102240</td>\n      <td>0.120047</td>\n      <td>0.076555</td>\n      <td>0.112930</td>\n      <td>-0.000720</td>\n      <td>0.022008</td>\n      <td>1.065877e-01</td>\n      <td>-9.454855e-02</td>\n      <td>0.073934</td>\n      <td>0.080598</td>\n      <td>...</td>\n      <td>0.000000</td>\n      <td>-0.097778</td>\n      <td>0.051758</td>\n      <td>-0.172974</td>\n      <td>-0.000977</td>\n      <td>-0.160767</td>\n      <td>-0.106689</td>\n      <td>0.074463</td>\n      <td>-0.235840</td>\n      <td>-0.159912</td>\n    </tr>\n    <tr>\n      <th>2</th>\n      <td>-0.036605</td>\n      <td>0.018754</td>\n      <td>0.065934</td>\n      <td>0.153353</td>\n      <td>-0.004134</td>\n      <td>-0.024316</td>\n      <td>5.400391e-02</td>\n      <td>-6.633708e-02</td>\n      <td>0.112891</td>\n      <td>0.094499</td>\n      <td>...</td>\n      <td>0.059448</td>\n      <td>0.109619</td>\n      <td>-0.127553</td>\n      <td>-0.042399</td>\n      <td>0.046402</td>\n      <td>-0.051860</td>\n      <td>0.015299</td>\n      <td>-0.126709</td>\n      <td>-0.091634</td>\n      <td>-0.004720</td>\n    </tr>\n    <tr>\n      <th>3</th>\n      <td>0.048904</td>\n      <td>351224.468750</td>\n      <td>0.031008</td>\n      <td>0.105335</td>\n      <td>-0.022068</td>\n      <td>0.054226</td>\n      <td>1.885335e+25</td>\n      <td>4.663174e+34</td>\n      <td>0.043652</td>\n      <td>0.049229</td>\n      <td>...</td>\n      <td>-0.001389</td>\n      <td>0.155273</td>\n      <td>0.046631</td>\n      <td>0.184570</td>\n      <td>0.107910</td>\n      <td>-0.007629</td>\n      <td>-0.244141</td>\n      <td>-0.206055</td>\n      <td>-0.060303</td>\n      <td>-0.151367</td>\n    </tr>\n    <tr>\n      <th>4</th>\n      <td>0.035550</td>\n      <td>0.073834</td>\n      <td>0.036061</td>\n      <td>0.106156</td>\n      <td>0.019434</td>\n      <td>0.018611</td>\n      <td>7.603737e-02</td>\n      <td>-1.133717e-01</td>\n      <td>0.049721</td>\n      <td>0.101280</td>\n      <td>...</td>\n      <td>-0.098114</td>\n      <td>0.169250</td>\n      <td>-0.137939</td>\n      <td>-0.012421</td>\n      <td>-0.096619</td>\n      <td>0.060303</td>\n      <td>-0.071228</td>\n      <td>-0.059097</td>\n      <td>-0.104614</td>\n      <td>0.017197</td>\n    </tr>\n  </tbody>\n</table>\n<p>5 rows × 600 columns</p>\n</div>"
     },
     "execution_count": 3,
     "metadata": {},
     "output_type": "execute_result"
    }
   ],
   "source": [
    "import re\n",
    "import numpy as np\n",
    "import nltk\n",
    "\n",
    "stopwords = nltk.corpus.stopwords.words('english')\n",
    "\n",
    "\n",
    "def get_tokens(text: str):\n",
    "    tokens = nltk.word_tokenize(text)\n",
    "    stems = []\n",
    "\n",
    "    # porter = nltk.PorterStemmer()\n",
    "    for token in tokens:\n",
    "        if re.search(\"\\W\", token) is not None or token in stopwords:\n",
    "            continue\n",
    "        # stems.append(porter.stem(token))\n",
    "        stems.append(token)\n",
    "    return stems\n",
    "\n",
    "\n",
    "def get_doc_vectors(df_data: pd.DataFrame):\n",
    "    vectors_arr = np.ndarray((df_data.shape[0], embeddings.vector_size), dtype=np.float32)\n",
    "    for i in df_data.index:\n",
    "        tokens = get_tokens(df_data[i])\n",
    "        temp = np.ndarray((len(tokens), embeddings.vector_size), dtype=np.float32)\n",
    "        for j in range(len(tokens)):\n",
    "            if tokens[j] in embeddings:\n",
    "                temp[j] = embeddings[tokens[j]]\n",
    "\n",
    "        temp_mean = temp.mean(axis=0)\n",
    "        temp_mean = np.nan_to_num(temp_mean)\n",
    "        vectors_arr[i] = temp_mean\n",
    "\n",
    "    return vectors_arr\n",
    "\n",
    "\n",
    "reviewText_vectors = get_doc_vectors(df['reviewText'])\n",
    "summary_vectors = get_doc_vectors(df['summary'])\n",
    "df_docs_vectors = pd.DataFrame(np.concatenate([reviewText_vectors, summary_vectors], axis=1))\n",
    "df_docs_vectors.head()"
   ],
   "metadata": {
    "collapsed": false,
    "pycharm": {
     "name": "#%%\n"
    }
   }
  },
  {
   "cell_type": "code",
   "execution_count": 4,
   "metadata": {
    "_uuid": "a9adfa871164394746cc1401cfab7c03d424e70c"
   },
   "outputs": [
    {
     "data": {
      "text/plain": "Empty DataFrame\nColumns: [0, 1, 2, 3, 4, 5, 6, 7, 8, 9, 10, 11, 12, 13, 14, 15, 16, 17, 18, 19, 20, 21, 22, 23, 24, 25, 26, 27, 28, 29, 30, 31, 32, 33, 34, 35, 36, 37, 38, 39, 40, 41, 42, 43, 44, 45, 46, 47, 48, 49, 50, 51, 52, 53, 54, 55, 56, 57, 58, 59, 60, 61, 62, 63, 64, 65, 66, 67, 68, 69, 70, 71, 72, 73, 74, 75, 76, 77, 78, 79, 80, 81, 82, 83, 84, 85, 86, 87, 88, 89, 90, 91, 92, 93, 94, 95, 96, 97, 98, 99, ...]\nIndex: []\n\n[0 rows x 600 columns]",
      "text/html": "<div>\n<style scoped>\n    .dataframe tbody tr th:only-of-type {\n        vertical-align: middle;\n    }\n\n    .dataframe tbody tr th {\n        vertical-align: top;\n    }\n\n    .dataframe thead th {\n        text-align: right;\n    }\n</style>\n<table border=\"1\" class=\"dataframe\">\n  <thead>\n    <tr style=\"text-align: right;\">\n      <th></th>\n      <th>0</th>\n      <th>1</th>\n      <th>2</th>\n      <th>3</th>\n      <th>4</th>\n      <th>5</th>\n      <th>6</th>\n      <th>7</th>\n      <th>8</th>\n      <th>9</th>\n      <th>...</th>\n      <th>590</th>\n      <th>591</th>\n      <th>592</th>\n      <th>593</th>\n      <th>594</th>\n      <th>595</th>\n      <th>596</th>\n      <th>597</th>\n      <th>598</th>\n      <th>599</th>\n    </tr>\n  </thead>\n  <tbody>\n  </tbody>\n</table>\n<p>0 rows × 600 columns</p>\n</div>"
     },
     "execution_count": 4,
     "metadata": {},
     "output_type": "execute_result"
    }
   ],
   "source": [
    "# Sprawdzanie czy w danych nie ma nieleganych wartości\n",
    "df_docs_vectors[df_docs_vectors.isnull().any(axis=1)]"
   ]
  },
  {
   "cell_type": "code",
   "execution_count": 5,
   "outputs": [],
   "source": [
    "df_result = pd.concat([df[list(set(df.columns) - {\"reviewText\", \"summary\"})], df_docs_vectors], axis=1)\n",
    "df_result.columns = df_result.columns.astype(str)\n",
    "df_result.to_csv(\"reviews_w2v.csv\", index=False)"
   ],
   "metadata": {
    "collapsed": false,
    "pycharm": {
     "name": "#%%\n"
    }
   }
  }
 ],
 "metadata": {
  "kernelspec": {
   "display_name": "Python 3",
   "language": "python",
   "name": "python3"
  },
  "language_info": {
   "codemirror_mode": {
    "name": "ipython",
    "version": 3
   },
   "file_extension": ".py",
   "mimetype": "text/x-python",
   "name": "python",
   "nbconvert_exporter": "python",
   "pygments_lexer": "ipython3",
   "version": "3.6.6"
  }
 },
 "nbformat": 4,
 "nbformat_minor": 1
}